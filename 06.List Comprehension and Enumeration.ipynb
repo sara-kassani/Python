{
 "cells": [
  {
   "cell_type": "markdown",
   "metadata": {},
   "source": [
    "##### This chapter explores these features:\n",
    "\n",
    "    Image The built-in enumerate function, which automatically supplies a loop counter.\n",
    "\n",
    "    Image Enhanced use of the format function, to format output.\n",
    "\n",
    "    Image List comprehension, a technique that collapses an entire for loop into a single line."
   ]
  },
  {
   "cell_type": "code",
   "execution_count": 2,
   "metadata": {},
   "outputs": [],
   "source": [
    "my_list = ['item0', 'item1', 'item2', 'item3', 'item4', 'item5', 'item6', 'item7']\n"
   ]
  },
  {
   "cell_type": "code",
   "execution_count": 3,
   "metadata": {},
   "outputs": [
    {
     "data": {
      "text/plain": [
       "8"
      ]
     },
     "execution_count": 3,
     "metadata": {},
     "output_type": "execute_result"
    }
   ],
   "source": [
    "len(my_list)"
   ]
  },
  {
   "cell_type": "code",
   "execution_count": 5,
   "metadata": {},
   "outputs": [
    {
     "name": "stdout",
     "output_type": "stream",
     "text": [
      "item0 item1 item2 item3 item4 item5 item6 item7 "
     ]
    }
   ],
   "source": [
    "for item in my_list:\n",
    "    print(item, end=' ')"
   ]
  },
  {
   "cell_type": "code",
   "execution_count": 6,
   "metadata": {},
   "outputs": [
    {
     "name": "stdout",
     "output_type": "stream",
     "text": [
      "item0\n",
      "item1\n",
      "item2\n",
      "item3\n",
      "item4\n",
      "item5\n",
      "item6\n",
      "item7\n"
     ]
    }
   ],
   "source": [
    "for item in my_list:\n",
    "    print(item, end='\\n')"
   ]
  },
  {
   "cell_type": "markdown",
   "metadata": {},
   "source": [
    "Python provides many ways to manipulate the contents of a list. You can add and remove individual members using **append** and **remove**."
   ]
  },
  {
   "cell_type": "code",
   "execution_count": null,
   "metadata": {},
   "outputs": [],
   "source": [
    "my_list.remove('item0')\n",
    "\n",
    "my_list.append('item8')"
   ]
  },
  {
   "cell_type": "markdown",
   "metadata": {},
   "source": [
    "Another useful feature is the <font color=\"blue\">**in**</font> keyword, which determines whether an item is in the list. This is useful because if an item is not included in a list to begin with, then trying to remove it causes an error. Here’s an example:"
   ]
  },
  {
   "cell_type": "code",
   "execution_count": null,
   "metadata": {},
   "outputs": [],
   "source": [
    "if 'item1' in my_list:\n",
    "\n",
    "    my_list.remove('item1')"
   ]
  },
  {
   "cell_type": "code",
   "execution_count": 5,
   "metadata": {},
   "outputs": [
    {
     "name": "stdout",
     "output_type": "stream",
     "text": [
      "10 130 70 90 "
     ]
    }
   ],
   "source": [
    "num_list = [1, 13, 7, 9]\n",
    "\n",
    "for i in num_list:\n",
    "\n",
    "    j = i * 10\n",
    "\n",
    "    print(j, end=' ') # Print m followed by a space."
   ]
  },
  {
   "cell_type": "markdown",
   "metadata": {},
   "source": [
    "Suppose we have a series of Celsius temperatures that we want to convert to corresponding Fahrenheit temperatures. Here are the Celsius temperatures:"
   ]
  },
  {
   "cell_type": "code",
   "execution_count": 6,
   "metadata": {},
   "outputs": [],
   "source": [
    "cels_list = [15, 20, 25, 30]"
   ]
  },
  {
   "cell_type": "markdown",
   "metadata": {},
   "source": [
    "We can build a new list containing Fahrenheit temperatures this way:"
   ]
  },
  {
   "cell_type": "code",
   "execution_count": 7,
   "metadata": {},
   "outputs": [
    {
     "data": {
      "text/plain": [
       "[59.0, 68.0, 77.0, 86.0]"
      ]
     },
     "execution_count": 7,
     "metadata": {},
     "output_type": "execute_result"
    }
   ],
   "source": [
    "# create an empty list for Fahrenheit temperatures\n",
    "fahr_list = []\n",
    "\n",
    "for c in cels_list:\n",
    "    x = c * 1.8 + 32.0\n",
    "    fahr_list.append(x)\n",
    "\n",
    "    \n",
    "fahr_list"
   ]
  },
  {
   "cell_type": "markdown",
   "metadata": {},
   "source": [
    "Another important feature of lists is that it’s easy to sort them; you just call the sort method"
   ]
  },
  {
   "cell_type": "code",
   "execution_count": 11,
   "metadata": {},
   "outputs": [
    {
     "data": {
      "text/plain": [
       "[86.0, 77.0, 68.0, 59.0]"
      ]
     },
     "execution_count": 11,
     "metadata": {},
     "output_type": "execute_result"
    }
   ],
   "source": [
    "fahr_list.reverse()\n",
    "fahr_list"
   ]
  },
  {
   "cell_type": "code",
   "execution_count": 13,
   "metadata": {},
   "outputs": [
    {
     "data": {
      "text/plain": [
       "[59.0, 68.0, 77.0, 86.0]"
      ]
     },
     "execution_count": 13,
     "metadata": {},
     "output_type": "execute_result"
    }
   ],
   "source": [
    "fahr_list.sort()\n",
    "fahr_list"
   ]
  },
  {
   "cell_type": "markdown",
   "metadata": {},
   "source": [
    "certain values equate to False when evaluated as conditions. In particular, empty strings are considered False. Therefore, consider the following code:\n",
    "``if s == '': ``\n",
    "<br><br>\n",
    "You can save a little space by rewriting this as:\n",
    "<br><br>\n",
    "``if not s: ``\n",
    "<br>\n",
    "If s is empty, then not s has the effect of True within an if condition."
   ]
  },
  {
   "cell_type": "markdown",
   "metadata": {},
   "source": [
    "|||\n",
    "|--- |--- |\n",
    "|INDEXING SYNTAX|MEANING|\n",
    "|[begin: end]|Include all elements from the index named begin, up to but not including end.|\n",
    "|[begin: ]|Include all elements from the index named begin forward to the end of the list.|\n",
    "|[: end]|Include all elements up to but not including end.|\n",
    "|[:]|Include all elements of the list. When this appears on the right side of an assignment, it forces copies to be made of all elements.|\n",
    "|[begin: end: step]|The step argument, if included, indicates which elements of the list to include. For example, a step value of 2 indicates that every other item is to be included. A negative argument (such as –1) causes the direction to be reversed.|\n"
   ]
  },
  {
   "cell_type": "markdown",
   "metadata": {},
   "source": [
    "### Ranges"
   ]
  },
  {
   "cell_type": "code",
   "execution_count": 15,
   "metadata": {},
   "outputs": [
    {
     "data": {
      "text/plain": [
       "[32.018, 482.90000000000003, 72.98599999999999]"
      ]
     },
     "execution_count": 15,
     "metadata": {},
     "output_type": "execute_result"
    }
   ],
   "source": [
    "temp_list = [0.01, 250.5, 22.77]\n",
    "\n",
    "for i in [0, 1, 2]:\n",
    "\n",
    "    temp_list[i] = temp_list[i] * 1.8 + 32.0\n",
    "\n",
    "temp_list"
   ]
  },
  {
   "cell_type": "markdown",
   "metadata": {},
   "source": [
    "``range(end)``\n",
    "<br><br>\n",
    "``range(start, end)``\n",
    "<br><br>\n",
    "``range(start, end, step)``"
   ]
  },
  {
   "cell_type": "markdown",
   "metadata": {},
   "source": [
    "When working with index numbers, it’s often most efficient to specify the length of a list as the end argument and leave start set to 0 (the default). Here’s an example:"
   ]
  },
  {
   "cell_type": "code",
   "execution_count": 17,
   "metadata": {},
   "outputs": [
    {
     "data": {
      "text/plain": [
       "[193.33832, 1654.1960000000001, 326.07464]"
      ]
     },
     "execution_count": 17,
     "metadata": {},
     "output_type": "execute_result"
    }
   ],
   "source": [
    "for i in range(len(temp_list)):\n",
    "\n",
    "    temp_list[i] = temp_list[i] * 1.8 + 32.0\n",
    "\n",
    "temp_list"
   ]
  },
  {
   "cell_type": "markdown",
   "metadata": {},
   "source": [
    "If you specify a third argument, it’s interpreted as the step argument, which specifies how much the index (i in this case) should increase during iteration. For example, the following statement operates only on items with an even number, starting with index number 0."
   ]
  },
  {
   "cell_type": "code",
   "execution_count": 18,
   "metadata": {},
   "outputs": [
    {
     "data": {
      "text/plain": [
       "[380.008976, 1654.1960000000001, 618.934352]"
      ]
     },
     "execution_count": 18,
     "metadata": {},
     "output_type": "execute_result"
    }
   ],
   "source": [
    "for i in range(0, len(temp_list), 2):\n",
    "\n",
    "    temp_list[i] = temp_list[i] * 1.8 + 32.0\n",
    "    \n",
    "    \n",
    "temp_list"
   ]
  },
  {
   "cell_type": "markdown",
   "metadata": {},
   "source": [
    "Remember that the range of numbers generated includes integers up to but not including the end argument. This is called the excluded end point.\n",
    "<br><br>\n",
    "The following table shows examples of how uses of range translate into a series of numbers:"
   ]
  },
  {
   "cell_type": "markdown",
   "metadata": {},
   "source": [
    "|||\n",
    "|--- |--- |\n",
    "|EXAMPLE RANGE|RESULTING LIST|\n",
    "|range(3)|[0, 1, 2]|\n",
    "|range(4)|[0, 1, 2, 3]|\n",
    "|range(1, 4)|[1, 2, 3]|\n",
    "|range(1, 5)|[1, 2, 3, 4]|\n",
    "|range(1, 6)|[1, 2, 3, 4, 5]|\n",
    "|range(10, 16)|[10, 11, 12, 13, 14, 15]|\n",
    "|range(10, 16, 2)|[10, 12, 14]|\n",
    "|range(0, 10, 3)|[0, 3, 6, 9]|\n"
   ]
  },
  {
   "cell_type": "code",
   "execution_count": null,
   "metadata": {},
   "outputs": [],
   "source": [
    "for i in range(len(my_list))\n",
    "\n",
    "    my_list[i] = 0   # Reset each elem to 0."
   ]
  },
  {
   "cell_type": "code",
   "execution_count": 13,
   "metadata": {},
   "outputs": [
    {
     "name": "stdout",
     "output_type": "stream",
     "text": [
      "1 . item0\n",
      "2 . item1\n",
      "3 . item2\n",
      "4 . item3\n",
      "5 . item4\n",
      "6 . item5\n",
      "7 . item6\n",
      "8 . item7\n"
     ]
    }
   ],
   "source": [
    "i = 1\n",
    "\n",
    "for item in my_list:\n",
    "\n",
    "    print(i, '.', item, sep=' ')\n",
    "\n",
    "    i += 1"
   ]
  },
  {
   "cell_type": "markdown",
   "metadata": {},
   "source": [
    "<font color=\"red\">**Note:**</font> This produces the desired result, but it introduces an extra variable, separate from the for statement. It also adds two lines of code.\n",
    "\n",
    "### The enumerate function lets you iterate directly over the data while getting an index number “for free.”"
   ]
  },
  {
   "cell_type": "code",
   "execution_count": 3,
   "metadata": {},
   "outputs": [
    {
     "name": "stdout",
     "output_type": "stream",
     "text": [
      "1 .  item0\n",
      "2 .  item1\n",
      "3 .  item2\n",
      "4 .  item3\n",
      "5 .  item4\n",
      "6 .  item5\n",
      "7 .  item6\n",
      "8 .  item7\n"
     ]
    }
   ],
   "source": [
    "for i, item in enumerate(my_list, 1):\n",
    "\n",
    "    print(i, '. ', item, sep=' ')"
   ]
  },
  {
   "cell_type": "code",
   "execution_count": 4,
   "metadata": {},
   "outputs": [
    {
     "name": "stdout",
     "output_type": "stream",
     "text": [
      "5. item0\n",
      "6. item1\n",
      "7. item2\n",
      "8. item3\n",
      "9. item4\n",
      "10. item5\n",
      "11. item6\n",
      "12. item7\n"
     ]
    }
   ],
   "source": [
    "for i, item in enumerate(my_list, 5):\n",
    "\n",
    "    print(i, '. ', item, sep='')"
   ]
  },
  {
   "cell_type": "markdown",
   "metadata": {},
   "source": [
    "The <font color=\"blue\">**enumerate function**</font> is a built-in function that generates a series of value pairs (tuples) of the form index, item, in which index is a running count, and item refers to an element. The function has this syntax:\n",
    "Image\n",
    "<br><br>\n",
    "``enumerate(iterable, start=0)``"
   ]
  },
  {
   "cell_type": "markdown",
   "metadata": {},
   "source": [
    "The enumerate function is most often used within for statements.\n",
    "\n",
    "``for index, item in enumerate(iterable, num=0):``\n",
    "\n",
    "    ``indented_statements``"
   ]
  },
  {
   "cell_type": "markdown",
   "metadata": {},
   "source": [
    "___"
   ]
  },
  {
   "cell_type": "markdown",
   "metadata": {},
   "source": [
    "### Append to the empty list using for loop"
   ]
  },
  {
   "cell_type": "code",
   "execution_count": 24,
   "metadata": {},
   "outputs": [
    {
     "data": {
      "text/plain": [
       "[2, 4, 6, 8, 10, 12, 14, 16, 18, 20]"
      ]
     },
     "execution_count": 24,
     "metadata": {},
     "output_type": "execute_result"
    }
   ],
   "source": [
    "my_list = []\n",
    "\n",
    "for i in range(1, 11):\n",
    "\n",
    "    my_list.append(i * 2)\n",
    "\n",
    "    \n",
    "my_list"
   ]
  },
  {
   "cell_type": "markdown",
   "metadata": {},
   "source": [
    "``list_name = []``\n",
    "\n",
    "``for_statement_header :``\n",
    "\n",
    "         list_name.append(expression)\n",
    " \n",
    "### We can change 2 line for loop into one line:\n",
    " \n",
    " ``list_name = [expression  for_statement_header]``"
   ]
  },
  {
   "cell_type": "code",
   "execution_count": 25,
   "metadata": {},
   "outputs": [
    {
     "data": {
      "text/plain": [
       "[2, 4, 6, 8, 10, 12, 14, 16, 18, 20]"
      ]
     },
     "execution_count": 25,
     "metadata": {},
     "output_type": "execute_result"
    }
   ],
   "source": [
    "my_list = []\n",
    "\n",
    "\n",
    "my_list  = [i * 2 for i in range(1, 11)]\n",
    "\n",
    "\n",
    "my_list"
   ]
  },
  {
   "cell_type": "code",
   "execution_count": 29,
   "metadata": {},
   "outputs": [
    {
     "data": {
      "text/plain": [
       "[0, 1, 2, 3, 4, 5, 6, 7, 8, 9]"
      ]
     },
     "execution_count": 29,
     "metadata": {},
     "output_type": "execute_result"
    }
   ],
   "source": [
    "a_list = [i for i in range(10)]\n",
    "a_list"
   ]
  },
  {
   "cell_type": "markdown",
   "metadata": {},
   "source": [
    "___"
   ]
  },
  {
   "cell_type": "code",
   "execution_count": 32,
   "metadata": {},
   "outputs": [
    {
     "data": {
      "text/plain": [
       "[0, 1, 2, 3, 4, 5, 6, 7]"
      ]
     },
     "execution_count": 32,
     "metadata": {},
     "output_type": "execute_result"
    }
   ],
   "source": [
    "old_list = [i for i in range(8)]\n",
    "old_list"
   ]
  },
  {
   "cell_type": "code",
   "execution_count": 35,
   "metadata": {},
   "outputs": [],
   "source": [
    "#### First Method"
   ]
  },
  {
   "cell_type": "code",
   "execution_count": 33,
   "metadata": {},
   "outputs": [
    {
     "data": {
      "text/plain": [
       "[0, 1, 2, 3, 4, 5, 6, 7]"
      ]
     },
     "execution_count": 33,
     "metadata": {},
     "output_type": "execute_result"
    }
   ],
   "source": [
    "new_list = []\n",
    "\n",
    "for i in old_list:\n",
    "\n",
    "    new_list.append(i)\n",
    "new_list"
   ]
  },
  {
   "cell_type": "code",
   "execution_count": 36,
   "metadata": {},
   "outputs": [],
   "source": [
    "#### Second Method"
   ]
  },
  {
   "cell_type": "code",
   "execution_count": 38,
   "metadata": {},
   "outputs": [
    {
     "data": {
      "text/plain": [
       "[0, 1, 2, 3, 4, 5, 6, 7]"
      ]
     },
     "execution_count": 38,
     "metadata": {},
     "output_type": "execute_result"
    }
   ],
   "source": [
    "new_list = [i for i in old_list]\n",
    "new_list"
   ]
  },
  {
   "cell_type": "code",
   "execution_count": 39,
   "metadata": {},
   "outputs": [
    {
     "data": {
      "text/plain": [
       "[0, 2, 4, 6, 8, 10, 12, 14]"
      ]
     },
     "execution_count": 39,
     "metadata": {},
     "output_type": "execute_result"
    }
   ],
   "source": [
    "new_list = [i * 2 for i in old_list]\n",
    "new_list"
   ]
  },
  {
   "cell_type": "code",
   "execution_count": 40,
   "metadata": {},
   "outputs": [
    {
     "data": {
      "text/plain": [
       "[1, 4, 9, 16, 25, 36]"
      ]
     },
     "execution_count": 40,
     "metadata": {},
     "output_type": "execute_result"
    }
   ],
   "source": [
    "sqr_list = [i * i for i in range(1, 7)]\n",
    "sqr_list"
   ]
  },
  {
   "cell_type": "code",
   "execution_count": 41,
   "metadata": {},
   "outputs": [],
   "source": [
    "nums = []\n",
    "for i in range(1, 4):\n",
    "\n",
    "    for j in range(1, 4):\n",
    "\n",
    "        nums.append(i * j)"
   ]
  },
  {
   "cell_type": "code",
   "execution_count": 43,
   "metadata": {},
   "outputs": [
    {
     "data": {
      "text/plain": [
       "[1, 2, 3, 2, 4, 6, 3, 6, 9]"
      ]
     },
     "execution_count": 43,
     "metadata": {},
     "output_type": "execute_result"
    }
   ],
   "source": [
    "nums"
   ]
  },
  {
   "cell_type": "code",
   "execution_count": 44,
   "metadata": {},
   "outputs": [],
   "source": [
    "nums = [i * j for i in range(1,4) for j in range(1,4)]"
   ]
  },
  {
   "cell_type": "code",
   "execution_count": 45,
   "metadata": {},
   "outputs": [
    {
     "data": {
      "text/plain": [
       "[1, 2, 3, 2, 4, 6, 3, 6, 9]"
      ]
     },
     "execution_count": 45,
     "metadata": {},
     "output_type": "execute_result"
    }
   ],
   "source": [
    "nums"
   ]
  },
  {
   "cell_type": "code",
   "execution_count": 46,
   "metadata": {},
   "outputs": [],
   "source": [
    "nums = []\n",
    "\n",
    "for i in range(1, 4):\n",
    "\n",
    "    for j in range(1, 4):\n",
    "\n",
    "        if i >= j:\n",
    "\n",
    "            nums.append(i * j)"
   ]
  },
  {
   "cell_type": "code",
   "execution_count": 47,
   "metadata": {},
   "outputs": [
    {
     "data": {
      "text/plain": [
       "[1, 2, 4, 3, 6, 9]"
      ]
     },
     "execution_count": 47,
     "metadata": {},
     "output_type": "execute_result"
    }
   ],
   "source": [
    "nums"
   ]
  }
 ],
 "metadata": {
  "kernelspec": {
   "display_name": "Python 3",
   "language": "python",
   "name": "python3"
  },
  "language_info": {
   "codemirror_mode": {
    "name": "ipython",
    "version": 3
   },
   "file_extension": ".py",
   "mimetype": "text/x-python",
   "name": "python",
   "nbconvert_exporter": "python",
   "pygments_lexer": "ipython3",
   "version": "3.6.5"
  }
 },
 "nbformat": 4,
 "nbformat_minor": 2
}
