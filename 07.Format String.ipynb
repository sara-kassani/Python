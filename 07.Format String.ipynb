{
 "cells": [
  {
   "cell_type": "code",
   "execution_count": 1,
   "metadata": {},
   "outputs": [],
   "source": [
    "my_str = 'The numbers are {} and {}.'"
   ]
  },
  {
   "cell_type": "markdown",
   "metadata": {},
   "source": [
    "Then you apply the format method to this string. The result produces an output string."
   ]
  },
  {
   "cell_type": "code",
   "execution_count": 2,
   "metadata": {},
   "outputs": [
    {
     "name": "stdout",
     "output_type": "stream",
     "text": [
      "The numbers are 10 and 20.\n"
     ]
    }
   ],
   "source": [
    "output_str = my_str.format(10, 20)\n",
    "\n",
    "print(output_str)"
   ]
  },
  {
   "cell_type": "code",
   "execution_count": 3,
   "metadata": {},
   "outputs": [],
   "source": [
    "x = 2\n",
    "y = 4"
   ]
  },
  {
   "cell_type": "code",
   "execution_count": 4,
   "metadata": {},
   "outputs": [
    {
     "name": "stdout",
     "output_type": "stream",
     "text": [
      "2 results in 4.\n"
     ]
    }
   ],
   "source": [
    "format_spec_str = '{} results in {}.'\n",
    "\n",
    "print(format_spec_str.format(x, y))"
   ]
  },
  {
   "cell_type": "markdown",
   "metadata": {},
   "source": [
    "Remember that the basic syntax includes a format-specification string, followed by the word format, followed by arguments in parentheses.\n",
    "Image\n",
    "\n",
    "``format_spec_str.format(args)``"
   ]
  },
  {
   "cell_type": "markdown",
   "metadata": {},
   "source": [
    "The result of this syntax is to produce a new string, which includes the arguments arranged and printed according to the ``format_spec_str``, a string that combines print fields with other text.\n",
    "<br><br>\n",
    "The ``format_spec_str`` itself contains curly braces, ``{}``, to define a print field corresponding to one of the arguments, or args. Other text that appears is considered ``“template”`` or ``“boilerplate”`` and is printed unconditionally."
   ]
  },
  {
   "cell_type": "code",
   "execution_count": 5,
   "metadata": {},
   "outputs": [],
   "source": [
    "fib_list = [1, 2, 4, 5, 8, 13, 21, 34, 55, 89, 144]"
   ]
  },
  {
   "cell_type": "code",
   "execution_count": 8,
   "metadata": {},
   "outputs": [
    {
     "name": "stdout",
     "output_type": "stream",
     "text": [
      "     1.        1\n",
      "     2.        2\n",
      "     3.        4\n",
      "     4.        5\n",
      "     5.        8\n",
      "     6.       13\n",
      "     7.       21\n",
      "     8.       34\n",
      "     9.       55\n",
      "    10.       89\n",
      "    11.      144\n"
     ]
    }
   ],
   "source": [
    "for i, item in enumerate(fib_list, 1):\n",
    "        print('{:>6}. {:>8}'.format(i, item))\n",
    "        \n",
    "        \n",
    "# :>6 and :>8 means the number of spaces"
   ]
  },
  {
   "cell_type": "code",
   "execution_count": null,
   "metadata": {},
   "outputs": [],
   "source": []
  },
  {
   "cell_type": "code",
   "execution_count": null,
   "metadata": {},
   "outputs": [],
   "source": []
  }
 ],
 "metadata": {
  "kernelspec": {
   "display_name": "Python 3",
   "language": "python",
   "name": "python3"
  },
  "language_info": {
   "codemirror_mode": {
    "name": "ipython",
    "version": 3
   },
   "file_extension": ".py",
   "mimetype": "text/x-python",
   "name": "python",
   "nbconvert_exporter": "python",
   "pygments_lexer": "ipython3",
   "version": "3.6.5"
  }
 },
 "nbformat": 4,
 "nbformat_minor": 2
}
