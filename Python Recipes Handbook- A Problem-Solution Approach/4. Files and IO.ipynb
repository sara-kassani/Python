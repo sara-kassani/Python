{
 "cells": [
  {
   "cell_type": "markdown",
   "metadata": {},
   "source": [
    "# Files and I/O"
   ]
  },
  {
   "cell_type": "markdown",
   "metadata": {},
   "source": [
    "# 4-1. Copying Files\n",
    "You need to copy files from one location to another.\n",
    "<br>\n",
    "There are two functions from the shutil module that can be used to copy files.\n",
    "<br>\n",
    "Copying files involves two parts of a file, the actual contents of said file and the metadata\n",
    "describing this file. Listing 4-1 shows how to only copy the contents of the file.\n",
    "### Copying File Contents\n"
   ]
  },
  {
   "cell_type": "code",
   "execution_count": null,
   "metadata": {},
   "outputs": [],
   "source": [
    "import shutil\n",
    "new_file_path = shutil.copy('file1.txt', 'file2.txt')"
   ]
  },
  {
   "cell_type": "markdown",
   "metadata": {},
   "source": [
    "This will copy file1.txt to file2.txt , returning the path of file2.txt to the\n",
    "variable new_file_path . If a directory name is given as the second parameter, the file\n",
    "will be copied into this directory using the original file name as the new filename. This\n",
    "function will also preserve the permissions of the file. If file1.txt is a symbolic link, this\n",
    "function call will create file2.txt as a separate file. If you want to actually create a copy\n",
    "of the symlink instead, you can use the example in Listing 4-2 \n",
    "#### Listing 4-2. Copying Symlinks"
   ]
  },
  {
   "cell_type": "code",
   "execution_count": null,
   "metadata": {},
   "outputs": [],
   "source": [
    "shutil.copy('file1.txt', 'file2.txt', follow_symlinks=False)"
   ]
  },
  {
   "cell_type": "markdown",
   "metadata": {},
   "source": [
    "If you want to preserve more of the metadata associated with the file, you can use\n",
    "copy2() , as shown in Listing 4-3 .\n",
    "#### Listing 4-3. Copying File Contents Plus Metadata"
   ]
  },
  {
   "cell_type": "code",
   "execution_count": null,
   "metadata": {},
   "outputs": [],
   "source": [
    "shutil.copy2('file1.txt', 'file2.txt')"
   ]
  },
  {
   "cell_type": "markdown",
   "metadata": {},
   "source": [
    "The amount of metadata that can be copied varies from operating system to operating\n",
    "system and platform to platform. It will copy as much as possible, with the worst case\n",
    "being that it can only do the same amount of work as copy() . Note that copy2() will never\n",
    "return a failure. It also accepts the follow_symlinks parameter, as does copy() .\n",
    "# 4-2. Moving Files\n",
    "Because renaming and moving files is essentially the same thing to the filesystem, you\n",
    "can use either shutils.move() or os.rename() to achieve the same result.\n",
    "<br>\n",
    "When using the move function, there is different behavior based on the location of the\n",
    "source and destination. If they are both on the same filesystem, the function os.rename()\n",
    "is used. Otherwise, a copying function is used to copy the file to the destination and then\n",
    "the source is removed. The default copying function is copy2 , but you can hand in some\n",
    "other function, as shown in Listing 4-4 .\n",
    "### Listing 4-4. Moving a File"
   ]
  },
  {
   "cell_type": "code",
   "execution_count": null,
   "metadata": {},
   "outputs": [],
   "source": [
    "import shutil\n",
    "shutil.move('file1.txt', 'dir2', copy_function=copy)"
   ]
  },
  {
   "cell_type": "markdown",
   "metadata": {},
   "source": [
    "The copying function needs to accept a source and a destination in order to be used\n",
    "by the move function.\n",
    "If the files are on the same file system, you can use the rename function directly, as in Listing 4-5\n",
    "#### Listing 4-5. Renaming a File"
   ]
  },
  {
   "cell_type": "code",
   "execution_count": null,
   "metadata": {},
   "outputs": [],
   "source": [
    "import os\n",
    "os.rename('file1.txt', 'dir2')"
   ]
  },
  {
   "cell_type": "markdown",
   "metadata": {},
   "source": [
    "The major item to be aware of is that if the destination already exists and you have\n",
    "permission to write to it, it will be silently replaced with the source.\n",
    "# 4-3. Reading and Writing Text Files\n",
    "<br>\n",
    "You need to open, read, and write text files.\n",
    "<br>\n",
    "You can use the built-in open function provided to open files, and then use the read and\n",
    "write methods to read from them and write to them.\n",
    "<br>\n",
    "In Python, accessing files is done through a file descriptor object. This is the object that\n",
    "gets handed back as the returned object from a call to the built-in open function, as\n",
    "shown in Listing 4-6 .\n",
    "#### Listing 4-6. Opening a Text File for Reading"
   ]
  },
  {
   "cell_type": "code",
   "execution_count": null,
   "metadata": {},
   "outputs": [],
   "source": [
    "fd1 = open('file1.txt')\n",
    "entire_file = fd1.read()"
   ]
  },
  {
   "cell_type": "markdown",
   "metadata": {},
   "source": [
    "The file descriptor's read method will read in the entire contents of a file. This is not\n",
    "usually what you want to do. To read in some chunk of the file, you can hand in a size\n",
    "parameter, as in Listing 4-7 .\n",
    "#### Listing 4-7. Reading the First 100 Bytes of a File"
   ]
  },
  {
   "cell_type": "code",
   "execution_count": null,
   "metadata": {},
   "outputs": [],
   "source": [
    "chunk1 = fd1.read(100)"
   ]
  },
  {
   "cell_type": "markdown",
   "metadata": {},
   "source": [
    "Reading in data line by line is so common that there is a method provided to do just\n",
    "that. In Listing 4-8 , you can see how to read in a single line, or how to loop through the\n",
    "entire file.\n",
    "\n",
    "#### Listing 4-8. Reading a File Line by Line"
   ]
  },
  {
   "cell_type": "code",
   "execution_count": null,
   "metadata": {},
   "outputs": [],
   "source": [
    "line1 = fd1.readline()"
   ]
  },
  {
   "cell_type": "markdown",
   "metadata": {},
   "source": [
    "##### OR"
   ]
  },
  {
   "cell_type": "code",
   "execution_count": null,
   "metadata": {},
   "outputs": [],
   "source": [
    "for line in fd1:\n",
    "        do_my_process(line)"
   ]
  },
  {
   "cell_type": "markdown",
   "metadata": {},
   "source": [
    "If the file is not too large, you can read the entire contents into a list, where each\n",
    "element is a line from the file. Listing 4-9 provides an example.\n",
    "Listing 4-9. Reading a File into a List"
   ]
  },
  {
   "cell_type": "code",
   "execution_count": null,
   "metadata": {},
   "outputs": [],
   "source": [
    "file_list = fd1.readlines()\n",
    "first_line = file_list[0]"
   ]
  },
  {
   "cell_type": "markdown",
   "metadata": {},
   "source": [
    "Writing a text file only requires a few minor changes. When calling the open function,\n",
    "the default is that you will be opening the file for reading only. In order to open the file for\n",
    "writing, you need to use a different mode. The modes of interest are as follows:\n",
    "Mode Description\n",
    "w Open the file for writing. If it already exists, truncate the contents to 0 size first.\n",
    "a Open the file for writing. If it already exists, move the insertion point to the end\n",
    "of the file, ready for appending.\n",
    "# 4-4. Reading and Writing XML Files\n",
    "<br>\n",
    "You need to read in and process XML files, and then write out results.\n",
    "<br>\n",
    "The Python standard library includes an XML parser that generates an element tree that\n",
    "you can work with.\n",
    "<br>\n",
    "The Python standard library includes an ElementTree class that provides a simplified way\n",
    "to work with XML structured data. To start, you need to open an XML file with the code in\n",
    "Listing 4-10 .\n",
    "#### Listing 4-10. Opening an XML File"
   ]
  },
  {
   "cell_type": "code",
   "execution_count": null,
   "metadata": {},
   "outputs": [],
   "source": [
    "import xml.etree.ElementTree as ET\n",
    "my_tree = ET.parse(‘my_data.xml’)\n",
    "root = my_tree.getroot()"
   ]
  },
  {
   "cell_type": "markdown",
   "metadata": {},
   "source": [
    "Once you have the root element, you can query it and get the tag and attribute\n",
    "values, as in Listing 4-11 .\n",
    "#### Listing 4-11. Looking at Element Attributes"
   ]
  },
  {
   "cell_type": "code",
   "execution_count": null,
   "metadata": {},
   "outputs": [],
   "source": [
    "root.tag\n",
    "root.attrib"
   ]
  },
  {
   "cell_type": "markdown",
   "metadata": {},
   "source": [
    "You can easily iterate through the children of any given element. For example,\n",
    "Listing 4-12 shows how to iterate through all of the children of the root element.\n",
    "#### Listing 4-12. Iterating Through the Children of the Root Element"
   ]
  },
  {
   "cell_type": "code",
   "execution_count": null,
   "metadata": {},
   "outputs": [],
   "source": [
    "for child in root:\n",
    "# look at the tag\n",
    "print(child.tag)"
   ]
  },
  {
   "cell_type": "markdown",
   "metadata": {},
   "source": [
    "Elements can also be accessed as lists. This means that you can use list notations, as\n",
    "in Listing 4-13 .\n",
    "#### Listing 4-13. Getting the First Child of an Element"
   ]
  },
  {
   "cell_type": "code",
   "execution_count": null,
   "metadata": {},
   "outputs": [],
   "source": [
    "child1 = root[0]"
   ]
  },
  {
   "cell_type": "markdown",
   "metadata": {},
   "source": [
    "Altering an existing XML file, or creating a new one, is also very easy with the\n",
    "ElementTree class. You can directly change the text value of an element, and you can use\n",
    "the set() method to set element attributes. You can then use the write() method to save\n",
    "the changes. Listing 4-14 shows how to create a completely new XML file.\n",
    "#### Listing 4-14. Creating a New XML File"
   ]
  },
  {
   "cell_type": "code",
   "execution_count": null,
   "metadata": {},
   "outputs": [],
   "source": [
    "a = ET.Element(‘a’)\n",
    "b = ET.SubElement(a, ‘b’)\n",
    "c = ET.SubElement(a, ‘c’)\n",
    "a.write(‘new_file.xml’)"
   ]
  },
  {
   "cell_type": "markdown",
   "metadata": {},
   "source": [
    "# 4-5. Creating a Directory\n",
    "<br>\n",
    "You need to create a new directory in which to write out files.\n",
    "<br>\n",
    "Python includes a new module called pathlib that provides an object-oriented way of\n",
    "working with paths.\n",
    "<br>\n",
    "The core class for handling paths is Path . You need to start by creating a new Path object\n",
    "and setting the new directory name, as in Listing 4-15 . You can then call the mkdir()\n",
    "method to create the actual new directory on the filesystem.\n",
    "#### Listing 4-15. Creating a New Subdirectory"
   ]
  },
  {
   "cell_type": "code",
   "execution_count": null,
   "metadata": {},
   "outputs": [],
   "source": [
    "from pathlib import Path\n",
    "p = Path('.')\n",
    "p.joinpath('subdir1')\n",
    "p.mkdir()"
   ]
  },
  {
   "cell_type": "markdown",
   "metadata": {},
   "source": [
    "# 4-6. Monitoring a Directory for Changes\n",
    "You need to monitor a directory and register when a change happens, like a new file is\n",
    "created.\n",
    "<br>\n",
    "The Path class includes a method to check the detailed properties of a directory or file.\n",
    "<br>\n",
    "To check whether any changes have occurred in the current directory, you need to get the\n",
    "current status with the code in Listing 4-16 .\n",
    "#### Listing 4-16. Finding the Status of the Current Directory"
   ]
  },
  {
   "cell_type": "code",
   "execution_count": null,
   "metadata": {},
   "outputs": [],
   "source": [
    "import pathlib\n",
    "p = pathlib.Path('.')\n",
    "modified_time = p.stat().st_ mtime"
   ]
  },
  {
   "cell_type": "markdown",
   "metadata": {},
   "source": [
    "You can then loop and see if this last modified time has changed. If so, then you\n",
    "know that the directory has changed. If you need to know what the change is, then you\n",
    "need to instead create a list of the contents and compare before and after the change is\n",
    "registered. You can generate a list of all of the current contents with the glob method, as\n",
    "in Listing 4-17 .\n",
    "#### Listing 4-17. Getting the Contents of a Directory"
   ]
  },
  {
   "cell_type": "code",
   "execution_count": null,
   "metadata": {},
   "outputs": [],
   "source": [
    "import pathlib\n",
    "dir_list = sorted(pathlib.Path('.').glob('*'))"
   ]
  },
  {
   "cell_type": "markdown",
   "metadata": {},
   "source": [
    "# 4-7. Iterating Over the Files in a Directory\n",
    "You need to iterate over the contents of a directory in order to process a group of files.\n",
    "<br>\n",
    "The Path class includes a function to iterate over the contents, giving you a list of child\n",
    "Path objects.\n",
    "<br>\n",
    "If you want to iterate over the contents of the current directory, you can use code like that\n",
    "in Listing 4-18 .\n",
    "#### Listing 4-18. Iterating Over the Contents of the Current Directory"
   ]
  },
  {
   "cell_type": "code",
   "execution_count": null,
   "metadata": {},
   "outputs": [],
   "source": [
    "import pathlib\n",
    "p = pathlib.Path('.')\n",
    "for child in p.iterdir():\n",
    "# Do something with the child object\n",
    "    my_func(child)"
   ]
  },
  {
   "cell_type": "markdown",
   "metadata": {},
   "source": [
    "If you only want to work with files, you need to include a check, as in Listing 4-19 .\n",
    "#### Listing 4-19. Iterating Over the Files in the Current Directory"
   ]
  },
  {
   "cell_type": "code",
   "execution_count": null,
   "metadata": {},
   "outputs": [],
   "source": [
    "import pathlib\n",
    "for child in pathlib.Path('.').iterdir():\n",
    "    if child.is_file():\n",
    "    my_func(child)"
   ]
  },
  {
   "cell_type": "markdown",
   "metadata": {},
   "source": [
    "# 4-8. Saving Data Objects\n",
    "You need to save Python objects for future use in another Python program run.\n",
    "<br>\n",
    "Pickling objects is the standard way of serializing Python objects for later reuse.\n",
    "<br>\n",
    "The Python standard library includes the module pickle . You need to open a file with the\n",
    "usual open function to hand it into the pickling functions. When you do open the file, you\n",
    "need to remember to include the binary flag. Listing 4-20 shows how to pickle a Python\n",
    "object to a file.\n",
    "#### Listing 4-20. Pickling a Python Object"
   ]
  },
  {
   "cell_type": "code",
   "execution_count": null,
   "metadata": {},
   "outputs": [],
   "source": [
    "import pickle\n",
    "file1 = open('data1.pickle', 'wb')\n",
    "pickle.dump(data_obj1, file1)"
   ]
  },
  {
   "cell_type": "markdown",
   "metadata": {},
   "source": [
    "To reuse this data later, you can use the code in Listing 4-21 to reload it into Python.\n",
    "#### Listing 4-21. Loading a Pickled Object"
   ]
  },
  {
   "cell_type": "code",
   "execution_count": null,
   "metadata": {},
   "outputs": [],
   "source": [
    "file2 = open('data1.pickle', 'rb')\n",
    "data_reload = pickle.load(file2)"
   ]
  },
  {
   "cell_type": "markdown",
   "metadata": {},
   "source": [
    "Don’t forget to close the file handles after you are done.\n",
    "# 4-9. Compressing Files\n",
    "\n",
    "You need to compress a file to save space.\n",
    "<br>\n",
    "There are a number of modules available within the standard library to help you work\n",
    "with zip, gzip, bzip2, lzma, and tar files.\n",
    "<br>\n",
    "To begin, let’s look at how to work with zip files. The first step when working with\n",
    "compressed files is to open them. This is similar to the open function in Python, as in\n",
    "Listing 4-22 .\n",
    "#### Listing 4-22. Opening a Zip File"
   ]
  },
  {
   "cell_type": "code",
   "execution_count": null,
   "metadata": {},
   "outputs": [],
   "source": [
    "import zipfile\n",
    "my_zip = zipfile.ZipFile('my_file.zip', mode='r')"
   ]
  },
  {
   "cell_type": "markdown",
   "metadata": {},
   "source": [
    "The mode is used in the same way as in the open function. To read a currently\n",
    "existing zip file, you use mode 'r' . If you wish to create a new zip file to write to, you use\n",
    "mode 'w' . You can also modify an existing zip file by using mode 'a' .\n",
    "\n",
    "You can add files to a zip file by using the write method, as in Listing 4-23 .\n",
    "#### Listing 4-23. Adding a File to a Zip Archive"
   ]
  },
  {
   "cell_type": "code",
   "execution_count": null,
   "metadata": {},
   "outputs": [],
   "source": [
    "import zipfile\n",
    "my_zip = zipfile.ZipFile(‘archive1.zip’, mode=’w’)\n",
    "my_zip.write(‘file1.txt’)\n",
    "my_zip.close()"
   ]
  },
  {
   "cell_type": "markdown",
   "metadata": {},
   "source": [
    "To extract files back out from an existing zip archive, use the code shown in Listing 4-24 .\n",
    "#### Listing 4-24. Extracting One File from a Zip Archive"
   ]
  },
  {
   "cell_type": "code",
   "execution_count": null,
   "metadata": {},
   "outputs": [],
   "source": [
    "import zipfile\n",
    "my_zip = zipfile.ZipFile(‘archive1.zip’, mode=’r’)\n",
    "my_zip.extract(‘file1.txt’)\n",
    "my_zip.close()"
   ]
  },
  {
   "cell_type": "markdown",
   "metadata": {},
   "source": [
    "You can extract everything with the method extractall() . If you don’t know what\n",
    "files are in a given archive, you can get a listing with the method namelist() .\n",
    "If you need to work with the contents of a zip archive directly, you can read bytes\n",
    "from and write bytes to an archive. Once you have an opened zip file, you can read and\n",
    "write an archive with the code in Listing 4-25\n",
    "#### Listing 4-25. Reading and Writing Bytes from a Zip Archive"
   ]
  },
  {
   "cell_type": "code",
   "execution_count": null,
   "metadata": {},
   "outputs": [],
   "source": [
    "import zipfile\n",
    "my_zip = zipfile.ZipFile(‘file1.zip’, ‘a’)\n",
    "data_in = my_zip.read(‘data1.txt’)\n",
    "my_zip.write(‘data2.txt’, data_out)\n",
    "my_zip.close()"
   ]
  },
  {
   "cell_type": "markdown",
   "metadata": {},
   "source": [
    "Both the gzip and bzip2 modules handle compression of single files, as opposed to\n",
    "handling compressed archives of multiple files. To open either type, use the boilerplate\n",
    "code in Listing 4-26 .\n",
    "### Listing 4-26. Opening Gzip or Bzip2 Files"
   ]
  },
  {
   "cell_type": "code",
   "execution_count": null,
   "metadata": {},
   "outputs": [],
   "source": [
    "import gzip\n",
    "my_gzip = gzip.GzipFile(‘data1.txt.gz’)\n",
    "import bz2\n",
    "my_bzip = bz2.BZ2File(‘data2.txt.bz’)"
   ]
  },
  {
   "cell_type": "markdown",
   "metadata": {},
   "source": [
    "\n",
    "In both cases, you get an object that implements BufferedIOBase . You can then\n",
    "read and write and manipulate the data within the compressed file. Remember to use the\n",
    "appropriate mode when creating a new gzip or bzip2 object."
   ]
  }
 ],
 "metadata": {
  "kernelspec": {
   "display_name": "Python 3",
   "language": "python",
   "name": "python3"
  },
  "language_info": {
   "codemirror_mode": {
    "name": "ipython",
    "version": 3
   },
   "file_extension": ".py",
   "mimetype": "text/x-python",
   "name": "python",
   "nbconvert_exporter": "python",
   "pygments_lexer": "ipython3",
   "version": "3.6.4"
  }
 },
 "nbformat": 4,
 "nbformat_minor": 2
}
