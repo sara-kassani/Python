{
 "cells": [
  {
   "cell_type": "markdown",
   "metadata": {},
   "source": [
    "# Numerics and Numpy"
   ]
  },
  {
   "cell_type": "markdown",
   "metadata": {},
   "source": [
    "One of the growing areas of use for Python is within the scientific communities. One\n",
    "issue, which has always been an issue, is that Python is not very efficient when doing\n",
    "numeric calculations. Luckily, Python’s very design is meant to make it relatively easy to\n",
    "expand its functionality. The core module that helps in scientific calculations is the Numpy\n",
    "module. Numpy takes the most inefficient parts of dealing with numerical calculations\n",
    "and outsources them to external libraries that are written in C. It uses the same standard\n",
    "open source libraries that are used in other applications written specifically to do heavy\n",
    "number-crunching. <br>\n",
    "The core of the Numpy functionality is provided by a new object called an array . An\n",
    "array is a multi-dimensional object that contains elements of one datatype. This means\n",
    "that the functions within the Numpy module are free to make assumptions about what\n",
    "can be done with the data without having to check every element as it is being accessed.\n",
    "### 9-1. Creating Arrays\n",
    "\n",
    "You want to create arrays to use in other Numpy functions.\n",
    "<br>\n",
    "The simplest way to create an array is to use the supplied creation function to take\n",
    "existing data within a list and convert it into a new array object. You can also use the\n",
    "empty function to create a new empty array object.\n",
    "<br>\n",
    "The simplest form of the array function simply takes a list of values and returns a new\n",
    "array object, as in Listing 9-1 .\n",
    "### Listing 9-1. Basic Array Creation"
   ]
  },
  {
   "cell_type": "code",
   "execution_count": 1,
   "metadata": {},
   "outputs": [],
   "source": [
    "import numpy as np\n",
    "list1 = [1, 2, 3.0, 4]"
   ]
  },
  {
   "cell_type": "code",
   "execution_count": 2,
   "metadata": {},
   "outputs": [
    {
     "data": {
      "text/plain": [
       "array([1., 2., 3., 4.])"
      ]
     },
     "execution_count": 2,
     "metadata": {},
     "output_type": "execute_result"
    }
   ],
   "source": [
    "array1 = np.array(list1)\n",
    "array1"
   ]
  },
  {
   "cell_type": "markdown",
   "metadata": {},
   "source": [
    "This will return a one-dimensional array where each of the elements is a real\n",
    "number. The default behavior of the array function is to select the smallest datatype that\n",
    "will hold each of the elements in the original list. You can specifically select the datatype\n",
    "you wish to use with code such as Listing 9-2 .\n",
    "### Listing 9-2. Creating an Array of Complex Numbers"
   ]
  },
  {
   "cell_type": "code",
   "execution_count": 3,
   "metadata": {},
   "outputs": [
    {
     "data": {
      "text/plain": [
       "array([1.+0.j, 2.+0.j, 3.+0.j, 4.+0.j])"
      ]
     },
     "execution_count": 3,
     "metadata": {},
     "output_type": "execute_result"
    }
   ],
   "source": [
    "complex1 = np.array(list1, dtype=complex)\n",
    "complex1"
   ]
  },
  {
   "cell_type": "markdown",
   "metadata": {},
   "source": [
    "If you have a matrix of data that you need to work with, you can simply hand in a list\n",
    "of lists, where each list is a row of your matrix, as in Listing 9-3 .\n",
    "#### Listing 9-3. Creating a Matrix"
   ]
  },
  {
   "cell_type": "code",
   "execution_count": 4,
   "metadata": {},
   "outputs": [
    {
     "data": {
      "text/plain": [
       "array([[1, 2],\n",
       "       [3, 4]])"
      ]
     },
     "execution_count": 4,
     "metadata": {},
     "output_type": "execute_result"
    }
   ],
   "source": [
    "matrix1 = np.array([[1, 2], [3, 4]])\n",
    "matrix1"
   ]
  },
  {
   "cell_type": "markdown",
   "metadata": {},
   "source": [
    "If you don’t have data ready, but want somewhere to store data, there is a function\n",
    "to create an empty array of some fixed size and of a particular datatype. For example,\n",
    "Listing 9-4 shows how to make an empty two-dimensional array of integers.\n",
    "#### Listing 9-4. Creating an Empty Array of Integers"
   ]
  },
  {
   "cell_type": "code",
   "execution_count": 5,
   "metadata": {},
   "outputs": [
    {
     "data": {
      "text/plain": [
       "array([[4607182418800017408, 4611686018427387904],\n",
       "       [4613937818241073152, 4616189618054758400]])"
      ]
     },
     "execution_count": 5,
     "metadata": {},
     "output_type": "execute_result"
    }
   ],
   "source": [
    "empty1 = np.empty([2, 2], dtype=int)\n",
    "empty1"
   ]
  },
  {
   "cell_type": "markdown",
   "metadata": {},
   "source": [
    "The issue with this function is that it may not initialize the values in any way,\n",
    "depending on the operating system that it is running on. You just end up with whatever\n",
    "data exists in those memory locations. While this is slightly faster, it does mean that you\n",
    "need to be aware that the initial values in your new array are junk data. If you need to start\n",
    "with some initial values, you can start with either zeroes or ones, as in Listing 9-5 .\n",
    "#### Listing 9-5. Creating Arrays of Zeroes and Ones"
   ]
  },
  {
   "cell_type": "code",
   "execution_count": 6,
   "metadata": {},
   "outputs": [
    {
     "data": {
      "text/plain": [
       "array([[0., 0., 0.],\n",
       "       [0., 0., 0.]])"
      ]
     },
     "execution_count": 6,
     "metadata": {},
     "output_type": "execute_result"
    }
   ],
   "source": [
    "zero1 = np.zeros((2, 3), dtype=float)\n",
    "zero1"
   ]
  },
  {
   "cell_type": "code",
   "execution_count": 7,
   "metadata": {},
   "outputs": [
    {
     "data": {
      "text/plain": [
       "array([[1, 1],\n",
       "       [1, 1],\n",
       "       [1, 1]])"
      ]
     },
     "execution_count": 7,
     "metadata": {},
     "output_type": "execute_result"
    }
   ],
   "source": [
    "ones1 = np.ones((3, 2), dtype=int)\n",
    "ones1"
   ]
  },
  {
   "cell_type": "code",
   "execution_count": null,
   "metadata": {},
   "outputs": [],
   "source": [
    "Be aware that these two functions take a sequence of values, rather than a list, for the\n",
    "dimensions of the newly created array.\n",
    "### 9-2. Copying an Array\n",
    "\n",
    "You need to make a copy of an array for further processing.\n",
    "<br>\n",
    "There are three ways of sharing data across different parts of your program: no-copy\n",
    "access, shallow copying, and deep copying.\n",
    "<br>\n",
    "You can make your arrays accessible to different parts of your program by using more\n",
    "than one variable at a time. In Listing 9-6 , you can see how to assign the same array to\n",
    "two different variables.\n",
    "#### Listing 9-6. Using No-Copy Sharing"
   ]
  },
  {
   "cell_type": "code",
   "execution_count": 8,
   "metadata": {},
   "outputs": [
    {
     "data": {
      "text/plain": [
       "array([1, 1, 1, 1, 1, 1])"
      ]
     },
     "execution_count": 8,
     "metadata": {},
     "output_type": "execute_result"
    }
   ],
   "source": [
    "a = np.ones((6,), dtype=int)\n",
    "a"
   ]
  },
  {
   "cell_type": "code",
   "execution_count": 9,
   "metadata": {},
   "outputs": [],
   "source": [
    "b = a"
   ]
  },
  {
   "cell_type": "markdown",
   "metadata": {},
   "source": [
    "As with the rest of Python in general, these two variables point to the same actual\n",
    "object in memory. You can use either to affect the actual object.\n",
    "The second type of access sharing is through a shallow copy, where the data itself\n",
    "isn’t copied, only information about the data. This is possible because an array object\n",
    "consists of two parts. The first is the data that is being stored within the array, while the\n",
    "second contains metadata about the array, such as the shape of the array. Listing 9-7\n",
    "shows how to create a shallow copy by creating a view.\n",
    "### Listing 9-7. Shallow Copies"
   ]
  },
  {
   "cell_type": "code",
   "execution_count": 10,
   "metadata": {},
   "outputs": [
    {
     "data": {
      "text/plain": [
       "False"
      ]
     },
     "execution_count": 10,
     "metadata": {},
     "output_type": "execute_result"
    }
   ],
   "source": [
    "view1 = ones1.view()\n",
    "# Do these variables point to the same object?\n",
    "view1 is ones1"
   ]
  },
  {
   "cell_type": "code",
   "execution_count": 11,
   "metadata": {},
   "outputs": [
    {
     "data": {
      "text/plain": [
       "True"
      ]
     },
     "execution_count": 11,
     "metadata": {},
     "output_type": "execute_result"
    }
   ],
   "source": [
    "view1.base is ones1"
   ]
  },
  {
   "cell_type": "markdown",
   "metadata": {},
   "source": [
    "You can access the original object by using the base property of the new view. You\n",
    "can change the metadata through the view, as in Listing 9-8 .\n",
    "#### Listing 9-8. Changing the Shape of a View"
   ]
  },
  {
   "cell_type": "code",
   "execution_count": 12,
   "metadata": {},
   "outputs": [
    {
     "data": {
      "text/plain": [
       "array([[1, 1],\n",
       "       [1, 1],\n",
       "       [1, 1]])"
      ]
     },
     "execution_count": 12,
     "metadata": {},
     "output_type": "execute_result"
    }
   ],
   "source": [
    "view1.shape = 2,3\n",
    "ones1"
   ]
  },
  {
   "cell_type": "code",
   "execution_count": 13,
   "metadata": {},
   "outputs": [
    {
     "data": {
      "text/plain": [
       "array([[1, 1, 1],\n",
       "       [1, 1, 1]])"
      ]
     },
     "execution_count": 13,
     "metadata": {},
     "output_type": "execute_result"
    }
   ],
   "source": [
    "view1"
   ]
  },
  {
   "cell_type": "markdown",
   "metadata": {},
   "source": [
    "This changes the shape of the matrix that the data is stored in (the number of\n",
    "columns and rows). The third form of copy is a deep copy, where all parts of an array are\n",
    "copied over. This is handled by the copy method, as in Listing 9-9 .\n",
    "### Listing 9-9. Deep Copy of an Array"
   ]
  },
  {
   "cell_type": "code",
   "execution_count": 14,
   "metadata": {},
   "outputs": [
    {
     "data": {
      "text/plain": [
       "False"
      ]
     },
     "execution_count": 14,
     "metadata": {},
     "output_type": "execute_result"
    }
   ],
   "source": [
    "copy1 = a.copy()\n",
    "a is copy1"
   ]
  },
  {
   "cell_type": "code",
   "execution_count": 15,
   "metadata": {},
   "outputs": [
    {
     "data": {
      "text/plain": [
       "False"
      ]
     },
     "execution_count": 15,
     "metadata": {},
     "output_type": "execute_result"
    }
   ],
   "source": [
    "a is copy1.base"
   ]
  },
  {
   "cell_type": "code",
   "execution_count": null,
   "metadata": {},
   "outputs": [],
   "source": [
    "### 9-3. Accessing Array Data\n",
    "\n",
    "You need to access individual elements or subsections of an array.\n",
    "<br>\n",
    "You can access individual elements with multidimensional list indexing, and subsections\n",
    "can be accessed with slices.\n",
    "<br>\n",
    "For a one-dimensional array, you can access individual elements with the same indexing\n",
    "that is used for lists. Listing 9-10 shows a simple example.\n",
    "#### Listing 9-10. Changing the Value of an Array Element"
   ]
  },
  {
   "cell_type": "code",
   "execution_count": 16,
   "metadata": {},
   "outputs": [
    {
     "data": {
      "text/plain": [
       "array([1, 2, 1, 1, 1, 1])"
      ]
     },
     "execution_count": 16,
     "metadata": {},
     "output_type": "execute_result"
    }
   ],
   "source": [
    "a[1] = 2\n",
    "a"
   ]
  },
  {
   "cell_type": "markdown",
   "metadata": {},
   "source": [
    "Slices also work the same way, as in Listing 9-11 .\n",
    "#### Listing 9-11. Getting a Slice of an Array"
   ]
  },
  {
   "cell_type": "code",
   "execution_count": 17,
   "metadata": {},
   "outputs": [
    {
     "data": {
      "text/plain": [
       "array([2, 1])"
      ]
     },
     "execution_count": 17,
     "metadata": {},
     "output_type": "execute_result"
    }
   ],
   "source": [
    "a[1:3]"
   ]
  },
  {
   "cell_type": "markdown",
   "metadata": {},
   "source": [
    "One thing to note is that a slice actually returns a shallow copy of the original array,\n",
    "so no copy of the original data is made.\n",
    "When dealing with multi-dimensional arrays, you simply need to extend the\n",
    "indexing by adding one extra value for each additional dimension. For example, Listing 9-12 shows how to get a single element from a matrix.\n",
    "#### Listing 9-12. Accessing One Element from a Matrix"
   ]
  },
  {
   "cell_type": "code",
   "execution_count": 18,
   "metadata": {},
   "outputs": [
    {
     "data": {
      "text/plain": [
       "array([[1, 1],\n",
       "       [1, 2],\n",
       "       [1, 1]])"
      ]
     },
     "execution_count": 18,
     "metadata": {},
     "output_type": "execute_result"
    }
   ],
   "source": [
    "ones1[1, 1] = 2\n",
    "ones1"
   ]
  },
  {
   "cell_type": "markdown",
   "metadata": {},
   "source": [
    "If you were interested in getting a single row, you could do so with the example in\n",
    "Listing 9-13 .\n",
    "#### Listing 9-13. Selecting a Row from a Matrix"
   ]
  },
  {
   "cell_type": "code",
   "execution_count": 19,
   "metadata": {},
   "outputs": [
    {
     "data": {
      "text/plain": [
       "array([1, 2])"
      ]
     },
     "execution_count": 19,
     "metadata": {},
     "output_type": "execute_result"
    }
   ],
   "source": [
    "ones1[1, : ]"
   ]
  },
  {
   "cell_type": "markdown",
   "metadata": {},
   "source": [
    "### 9-4. Manipulating a Matrix\n",
    "\n",
    "You need to manipulate a given matrix. This includes inversion, transposing, and\n",
    "calculating the norm.\n",
    "<br>\n",
    "Numpy includes a full suite of linear algebra tools to handle matrix manipulations .\n",
    "<br>\n",
    "If you start with a simple 2-by-2 matrix, you can transpose it with the code in Listing 9-14 .\n",
    "### Listing 9-14. Inverting a Matrix"
   ]
  },
  {
   "cell_type": "code",
   "execution_count": 20,
   "metadata": {},
   "outputs": [
    {
     "data": {
      "text/plain": [
       "array([[-2. ,  1. ],\n",
       "       [ 1.5, -0.5]])"
      ]
     },
     "execution_count": 20,
     "metadata": {},
     "output_type": "execute_result"
    }
   ],
   "source": [
    "a = np.array([[1.0, 2.0], [3.0, 4.0]])\n",
    "np.linalg.inv(a)"
   ]
  },
  {
   "cell_type": "markdown",
   "metadata": {},
   "source": [
    "The linalg submodule also provides a function to calculate the norm, as in\n",
    "Listing 9-15 .\n",
    "#### Listing 9-15. Finding a Norm"
   ]
  },
  {
   "cell_type": "code",
   "execution_count": 21,
   "metadata": {},
   "outputs": [
    {
     "data": {
      "text/plain": [
       "5.477225575051661"
      ]
     },
     "execution_count": 21,
     "metadata": {},
     "output_type": "execute_result"
    }
   ],
   "source": [
    "np.linalg.norm(a)"
   ]
  },
  {
   "cell_type": "markdown",
   "metadata": {},
   "source": [
    "If you want to find the trace of a matrix, this is actually a method of the array object,\n",
    "as in Listing 9-16\n",
    "### Listing 9-16. Finding the Trace of a Matrix"
   ]
  },
  {
   "cell_type": "code",
   "execution_count": 22,
   "metadata": {},
   "outputs": [
    {
     "data": {
      "text/plain": [
       "5.0"
      ]
     },
     "execution_count": 22,
     "metadata": {},
     "output_type": "execute_result"
    }
   ],
   "source": [
    " a.trace()"
   ]
  },
  {
   "cell_type": "markdown",
   "metadata": {},
   "source": [
    "The transpose of a matrix is also a method of the array, as in Listing 9-17 .\n",
    "### Listing 9-17. Finding the Transpose of a Matrix"
   ]
  },
  {
   "cell_type": "code",
   "execution_count": 23,
   "metadata": {},
   "outputs": [
    {
     "data": {
      "text/plain": [
       "array([[1., 3.],\n",
       "       [2., 4.]])"
      ]
     },
     "execution_count": 23,
     "metadata": {},
     "output_type": "execute_result"
    }
   ],
   "source": [
    "a.transpose()"
   ]
  },
  {
   "cell_type": "code",
   "execution_count": null,
   "metadata": {},
   "outputs": [],
   "source": [
    "### 9-5. Calculating Fast Fourier Transforms\n",
    "\n",
    "You need to calculate a Fast Fourier Transform to look at the frequency spectrum of some\n",
    "collection of data.\n",
    "\n",
    "Numpy provides a suite of different types of FFT ( Fast Fourier Transform ) functions.\n",
    "<br>\n",
    "The discrete FFT can be used with one-dimensional, two-dimensional, or n-dimensional\n",
    "data. The math for each of these cases is very different, however. So Numpy provides\n",
    "separate functions for each of the cases, as you can see in Listing 9-18 .\n",
    "#### Listing 9-18. Discrete FFTs\n"
   ]
  },
  {
   "cell_type": "code",
   "execution_count": 24,
   "metadata": {},
   "outputs": [
    {
     "data": {
      "text/plain": [
       "array([[ 3.+0.j, -1.+0.j],\n",
       "       [ 7.+0.j, -1.+0.j]])"
      ]
     },
     "execution_count": 24,
     "metadata": {},
     "output_type": "execute_result"
    }
   ],
   "source": [
    "# a is a 1-dimensional array\n",
    "np.fft.fft(a)"
   ]
  },
  {
   "cell_type": "code",
   "execution_count": null,
   "metadata": {},
   "outputs": [],
   "source": [
    "# b is a 2-dimensional array\n",
    "np.fft.fft2(b)"
   ]
  },
  {
   "cell_type": "code",
   "execution_count": null,
   "metadata": {},
   "outputs": [],
   "source": [
    "# c is a 3-dimensional array\n",
    "np.fft.fftn(c)"
   ]
  },
  {
   "cell_type": "markdown",
   "metadata": {},
   "source": [
    "As you can see, all of the FFT functions are actually arranged within a submodule\n",
    "of Numpy called fft . If you use a larger data set than appropriate for the chosen FFT\n",
    "function, then the last x number of axes are used. For example, if you use the array c in\n",
    "the one-dimensional FFT, it will use the last axis as the input for the calculation. If you\n",
    "wish to, you can specify a different axis with the axis parameter, as in Listing 9-19 .\n",
    "#### Listing 9-19. FFT Over Other Axes"
   ]
  },
  {
   "cell_type": "code",
   "execution_count": null,
   "metadata": {},
   "outputs": [],
   "source": [
    "np.fft.fft(c, axis=1)"
   ]
  },
  {
   "cell_type": "markdown",
   "metadata": {},
   "source": [
    "### 9-6. Loading File Data into an Array\n",
    "\n",
    "You want to load data from a file directly into an array.\n",
    "<br>\n",
    "Numpy can read and write plain text files, as well as its own special binary format.\n",
    "<br>\n",
    "To read data from a plain text file, you can use the function loadtxt() , as in Listing 9-20 .\n",
    "### Listing 9-20. Reading in a Text File"
   ]
  },
  {
   "cell_type": "code",
   "execution_count": null,
   "metadata": {},
   "outputs": [],
   "source": [
    "txt1 = np.loadtxt('mydata.txt')"
   ]
  },
  {
   "cell_type": "markdown",
   "metadata": {},
   "source": [
    "This function assumes that your data is laid out in columns and rows, where each\n",
    "line is a row. Defining the columns is done by delimiting the separate values with some\n",
    "other character. By default, this is done with whitespaces. The usual format with scientific\n",
    "data is comma-separated values (CSV). If this is the case, you can load your data with the\n",
    "code given in Listing 9-21 .\n",
    "#### Listing 9-21. Loading a CSV File"
   ]
  },
  {
   "cell_type": "code",
   "execution_count": null,
   "metadata": {},
   "outputs": [],
   "source": [
    "txt2 = np.loadtxt('mydata.txt', delimiter=',')"
   ]
  },
  {
   "cell_type": "markdown",
   "metadata": {},
   "source": [
    "If you have data that has been saved in Numpy ’s special binary format, you can use a\n",
    "simple load command to load it back into memory, as in Listing 9-22 .\n",
    "Listing 9-22. Loading Binary Data"
   ]
  },
  {
   "cell_type": "code",
   "execution_count": null,
   "metadata": {},
   "outputs": [],
   "source": [
    " data = np.load('mydata.npy')"
   ]
  },
  {
   "cell_type": "markdown",
   "metadata": {},
   "source": [
    "### 9-7. Saving Arrays\n",
    "\n",
    "You have data in an array that you want to save to disk.\n",
    "<br>\n",
    "As with loading data, you have a few options when saving data. You can either save it to\n",
    "Numpy ’s binary format or save it to some raw text format.\n",
    "<br>\n",
    "To save 9 data using Numpy ’s binary format, you can simply use the save function, as in\n",
    "Listing 9-23 .\n",
    "### Listing 9-23. Saving Data Using Numpy’s Binary Format"
   ]
  },
  {
   "cell_type": "code",
   "execution_count": null,
   "metadata": {},
   "outputs": [],
   "source": [
    "np.save('mydata.npy', data)"
   ]
  },
  {
   "cell_type": "markdown",
   "metadata": {},
   "source": [
    "If the filename you give it in the above call doesn’t have an .npy file extension, one\n",
    "will be added to it. If, instead, you want to save the data to a plain text file so that it can be\n",
    "used by other programs, you can use the savetxt function call, as in Listing 9-24 .\n",
    "### Listing 9-24. Saving a CSV File"
   ]
  },
  {
   "cell_type": "code",
   "execution_count": null,
   "metadata": {},
   "outputs": [],
   "source": [
    " np.savetxt('mydata.csv', data, delimiter=',')"
   ]
  },
  {
   "cell_type": "markdown",
   "metadata": {},
   "source": [
    "In this case, you explicitly set the delimiter as the comma, giving you a CSV file. If you\n",
    "don’t set a delimiter, the default is a single space character.\n",
    "### 9-8. Generating Random Numbers\n",
    "\n",
    "You need to generate good quality random numbers.\n",
    "<br>\n",
    "Numpy provides a Mersenne Twister pseudo-random number generator , which provides\n",
    "very good quality random numbers. It can provide random numbers based on several\n",
    "distributions, like binomial, chisquare, gamma, and exponential.\n",
    "\n",
    "<br>\n",
    "If you need random numbers using a particular distribution, you can use methods\n",
    "provided by RandomState to generate them. Listing 9-25 shows how to generate a\n",
    "random value from the geometric distribution.\n",
    "### Listing 9-25. Generating Random Numbers from a Geometric Distribution"
   ]
  },
  {
   "cell_type": "code",
   "execution_count": 27,
   "metadata": {},
   "outputs": [],
   "source": [
    "rand1 = np.random.geometric(p=0.5)"
   ]
  },
  {
   "cell_type": "markdown",
   "metadata": {},
   "source": [
    "Most of these generators include parameters that control the details for each\n",
    "distribution. They usually also include a size parameter, which you can use to ask for an\n",
    "array of random values rather than just a single one.\n",
    "If you want to have a repeatable sequence of random numbers (if you are testing\n",
    "code, for example), you can explicitly set a seed with the code in Listing 9-26 .\n",
    "### Listing 9-26. Setting a Seed for Random Number Generation"
   ]
  },
  {
   "cell_type": "code",
   "execution_count": 28,
   "metadata": {},
   "outputs": [],
   "source": [
    "np.random.seed(42)"
   ]
  },
  {
   "cell_type": "markdown",
   "metadata": {},
   "source": [
    "This seed also gets initialized when RandomState is created. If you don’t hand one\n",
    "in, then RandomState will either try to read a value from the operating system random\n",
    "number generator (for example, /dev/urandom on Linux), or it will set the seed based on\n",
    "the clock.\n",
    "In most cases, you can get the type of random numbers used with the code in\n",
    "Listing 9-27 .\n",
    "#### Listing 9-27. Generating Random Numbers"
   ]
  },
  {
   "cell_type": "code",
   "execution_count": 29,
   "metadata": {},
   "outputs": [],
   "source": [
    "rand2 = np.random.random()"
   ]
  },
  {
   "cell_type": "markdown",
   "metadata": {},
   "source": [
    "### 9-9. Calculating Basic Statistics\n",
    "\n",
    "You need to do basic statistics on data stored in arrays.\n",
    "<br>\n",
    "Numpy provides a series of statistical functions that operate on arrays of various\n",
    "dimensions. You can do all of the standard simple statistical analyses that you are likely to\n",
    "need.\n",
    "<br>\n",
    "Given a set of data stored in a one-dimensional array, you can find the mean, median,\n",
    "variance, and standard deviation with the code in Listing 9-28 .\n",
    "### Listing 9-28. Basic Statistics"
   ]
  },
  {
   "cell_type": "code",
   "execution_count": 30,
   "metadata": {},
   "outputs": [
    {
     "data": {
      "text/plain": [
       "3.0"
      ]
     },
     "execution_count": 30,
     "metadata": {},
     "output_type": "execute_result"
    }
   ],
   "source": [
    "a = np.array([1, 2, 3, 4, 5])\n",
    "np.mean(a)"
   ]
  },
  {
   "cell_type": "code",
   "execution_count": 31,
   "metadata": {},
   "outputs": [
    {
     "data": {
      "text/plain": [
       "3.0"
      ]
     },
     "execution_count": 31,
     "metadata": {},
     "output_type": "execute_result"
    }
   ],
   "source": [
    "np.median(a)"
   ]
  },
  {
   "cell_type": "code",
   "execution_count": 32,
   "metadata": {},
   "outputs": [
    {
     "data": {
      "text/plain": [
       "2.0"
      ]
     },
     "execution_count": 32,
     "metadata": {},
     "output_type": "execute_result"
    }
   ],
   "source": [
    "np.var(a)"
   ]
  },
  {
   "cell_type": "code",
   "execution_count": 33,
   "metadata": {},
   "outputs": [
    {
     "data": {
      "text/plain": [
       "1.4142135623730951"
      ]
     },
     "execution_count": 33,
     "metadata": {},
     "output_type": "execute_result"
    }
   ],
   "source": [
    "np.std(a)"
   ]
  },
  {
   "cell_type": "markdown",
   "metadata": {},
   "source": [
    "If you have multi-dimensional data, you can select which axis to calculate these\n",
    "statistics along.\n",
    "### 9-10. Computing Histograms\n",
    "\n",
    "You have a series of data that you need to group into bins and calculate a histogram.\n",
    "<br>\n",
    "Numpy contains a handful of related functions to work with histograms, both one-\n",
    "dimensional and multi-dimensional.\n",
    "<br>\n",
    "Assuming you have your data series stored in the variable b , you can generate a histogram\n",
    "with the code in Listing 9-29 .\n",
    "#### Listing 9-29. Generating a Simple Histogram"
   ]
  },
  {
   "cell_type": "code",
   "execution_count": 34,
   "metadata": {},
   "outputs": [
    {
     "data": {
      "text/plain": [
       "(array([4, 0, 0, 0, 0, 4, 0, 0, 0, 3]),\n",
       " array([1. , 1.2, 1.4, 1.6, 1.8, 2. , 2.2, 2.4, 2.6, 2.8, 3. ]))"
      ]
     },
     "execution_count": 34,
     "metadata": {},
     "output_type": "execute_result"
    }
   ],
   "source": [
    " b = np.array([1,2,1,2,3,1,2,3,3,2,1])\n",
    "np.histogram(b)"
   ]
  },
  {
   "cell_type": "markdown",
   "metadata": {},
   "source": [
    "By default, Numpy will try to group your data into 10 bins. The first array tells you how\n",
    "many values are in each bin and the second array tells you the boundaries of each bin.\n",
    "You can set the number of bins by adding in a second parameter, as in Listing 9-30 .\n",
    "#### Listing 9-30. Histograms with a Set Bin Count"
   ]
  },
  {
   "cell_type": "code",
   "execution_count": 35,
   "metadata": {},
   "outputs": [
    {
     "data": {
      "text/plain": [
       "(array([4, 4, 3]), array([1.        , 1.66666667, 2.33333333, 3.        ]))"
      ]
     },
     "execution_count": 35,
     "metadata": {},
     "output_type": "execute_result"
    }
   ],
   "source": [
    "np.histogram(b, 3)"
   ]
  }
 ],
 "metadata": {
  "kernelspec": {
   "display_name": "Python 3",
   "language": "python",
   "name": "python3"
  },
  "language_info": {
   "codemirror_mode": {
    "name": "ipython",
    "version": 3
   },
   "file_extension": ".py",
   "mimetype": "text/x-python",
   "name": "python",
   "nbconvert_exporter": "python",
   "pygments_lexer": "ipython3",
   "version": "3.6.4"
  }
 },
 "nbformat": 4,
 "nbformat_minor": 2
}
