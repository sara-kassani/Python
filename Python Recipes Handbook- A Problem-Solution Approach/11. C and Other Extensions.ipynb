{
 "cells": [
  {
   "cell_type": "markdown",
   "metadata": {},
   "source": [
    "# C and Other Extensions"
   ]
  },
  {
   "cell_type": "markdown",
   "metadata": {},
   "source": [
    "One of the great things about Python is that it is not the best tool for every job, and more\n",
    "importantly, it knows that it isn't the best tool for every job. Because of this self-awareness,\n",
    "Python was designed from the beginning to be extensible with code written in C. This\n",
    "capability is provided by a module called Cython, which is available from http://cython.\n",
    "org . In this chapter, you will look at some of the different ways you can include Cython within\n",
    "your own Python programs in order to improve its performance or add extra functionality.\n",
    "### 11-1. Compiling Python Code\n",
    "\n",
    "You want to compile your Python code to C to get a speedup.\n",
    "<br>\n",
    "The Cython package provides a mechanism for mixing compiled C code with Python.\n",
    "<br>\n",
    "The initial setup applies to all of the following examples within this chapter. You need\n",
    "to have a C compiler on your system. If you are running Linux or Mac OS, then you can\n",
    "use gcc as the required compiler. To get the compiler on Mac OS, you need to install\n",
    "the XCode package. As for Windows, there are more steps involved. There is an entire\n",
    "appendix within the Cython documentation just for instructions on how to set up\n",
    "Windows. As well, you will need Cython installed. You can either install it from source, or\n",
    "you can install it using pip, as in Listing 11-1 .\n",
    "#### Listing 11-1. Installing Cython with pip"
   ]
  },
  {
   "cell_type": "code",
   "execution_count": 1,
   "metadata": {},
   "outputs": [
    {
     "name": "stdout",
     "output_type": "stream",
     "text": [
      "\n",
      "The following command must be run outside of the IPython shell:\n",
      "\n",
      "    $ pip install --user cython\n",
      "\n",
      "The Python package manager (pip) can only be used from outside of IPython.\n",
      "Please reissue the `pip` command in a separate terminal or command prompt.\n",
      "\n",
      "See the Python documentation for more informations on how to install packages:\n",
      "\n",
      "    https://docs.python.org/3/installing/\n"
     ]
    }
   ],
   "source": [
    "pip install --user cython"
   ]
  },
  {
   "cell_type": "markdown",
   "metadata": {},
   "source": [
    "Once everything is installed, you need to write the Python code that is to be compiled\n",
    "into C. This code is saved in a file ending with .pyx , rather than .py . This Cython source\n",
    "file is then compiled in one of several different ways. For larger projects, the most flexible\n",
    "and robust way to handle the compilation is to write a setup.py file and use distutils .\n",
    "This method is a bit too complex to introduce in such a short space. Happily, there are a\n",
    "couple of other simpler methods to start using Cython with your code right away.\n",
    "Listing 11-2 shows a sample . pyx file that just has a single function in it.\n",
    "#### Listing 11-2. HelloWorld.pyx File"
   ]
  },
  {
   "cell_type": "code",
   "execution_count": null,
   "metadata": {},
   "outputs": [],
   "source": [
    "def print_msg():\n",
    "print(\"Hello World\")"
   ]
  },
  {
   "cell_type": "markdown",
   "metadata": {},
   "source": [
    "Cython includes a module named pyximport , which will compile . pyx files in the\n",
    "background when you try to import them. Listing 11-3 shows how you can use this within\n",
    "an interactive Python session.\n",
    "#### Listing 11-3. Using pyximport"
   ]
  },
  {
   "cell_type": "code",
   "execution_count": null,
   "metadata": {},
   "outputs": [],
   "source": [
    "import pyximport\n",
    "pyximport.install()\n",
    "import HelloWorld\n",
    "print_msg()"
   ]
  },
  {
   "cell_type": "markdown",
   "metadata": {},
   "source": [
    "This works fine for entire source files. If the section of code you wish to compile is\n",
    "even shorter, you can have Cython compile it inline, directly in the middle of your Python\n",
    "source code. Listing 11-4 gives one example of inlining compiled code.\n",
    "#### Listing 11-4. Using Inlined Cython Code"
   ]
  },
  {
   "cell_type": "code",
   "execution_count": null,
   "metadata": {},
   "outputs": [],
   "source": [
    "import cython\n",
    "def my_adder(a, b):\n",
    "ret = cython.inline(\"return a+b\")"
   ]
  },
  {
   "cell_type": "markdown",
   "metadata": {},
   "source": [
    "The compiled version of the inline code is cached in order to improve efficiency.\n",
    "### 11-2. Using Static Types\n",
    "\n",
    "You want to speed up access to objects by giving them a type.\n",
    "<br>\n",
    "You can install the Cython module, along with a supported C compiler, to define new\n",
    "types that are accessed and worked with much faster than with Python objects.\n",
    "\n",
    "To use static typing, Cython introduces a new keyword called cdef . When this is used,\n",
    "you can get even more speedups than you achieved by compiling your Python code with\n",
    "Cython. Listing 11-5 shows an example of an integration problem.\n",
    "#### Listing 11-5. Pure Python Integration Problem"
   ]
  },
  {
   "cell_type": "code",
   "execution_count": null,
   "metadata": {},
   "outputs": [],
   "source": [
    "def f(x):\n",
    "    return x**2-42\n",
    "\n",
    "def integrate_f(a, b, N):\n",
    "s = 0\n",
    "dx = (b-a)/N\n",
    "for I in range(N):\n",
    "    s += f(a+i*dx)\n",
    "    return s*dx"
   ]
  },
  {
   "cell_type": "markdown",
   "metadata": {},
   "source": [
    "Compiling this under Cython will provide a certain amount of speedup, but there\n",
    "is still type checking that happens. This is especially costly on loops, where variables are\n",
    "accessed many times. Listing 11-6 shows the same example, except using the cdef keyword.\n",
    "#### Listing 11-6. Integration Problem Using Static Typing"
   ]
  },
  {
   "cell_type": "code",
   "execution_count": null,
   "metadata": {},
   "outputs": [],
   "source": [
    "def f(double x):\n",
    "    return x**2-42\n",
    "\n",
    "def integrate_f(double a, double b, int N):\n",
    "    cdef int i\n",
    "    cdef double s, dx\n",
    "    s = 0\n",
    "    dx = (b-a)/N\n",
    "    for I in range(N):\n",
    "        s += f(a+i*dx)\n",
    "    return s*dx"
   ]
  },
  {
   "cell_type": "markdown",
   "metadata": {},
   "source": [
    "This code removes all of those costly type checks and can be a great boon when\n",
    "trying to optimize your code. In order to compile these files, you can use the Cython\n",
    "command line utility to generate a C source file that can be compiled to a shared object\n",
    "to be imported within Python. Assuming the above examples were saved in a file named\n",
    "mycode.pyx , Listing 11-7 shows how to use GCC.\n",
    "#### Listing 11-7. Compiling Cython Code Manually"
   ]
  },
  {
   "cell_type": "code",
   "execution_count": null,
   "metadata": {},
   "outputs": [],
   "source": [
    "cython myfile.pyx\n",
    "gcc -shared -o myfile.so myfile.c `python3-config --includes`"
   ]
  },
  {
   "cell_type": "markdown",
   "metadata": {},
   "source": [
    "You can then import this newly compiled shared object from within Python.\n",
    "\n",
    "\n",
    "### 11-3. Calling Python from C\n",
    "\n",
    "You want to be able to call Python code from within a C program.\n",
    "<br>\n",
    "The standard library includes the header file called Python.h , which makes Python\n",
    "callable from C.\n",
    "<br>\n",
    "There are two main functions that are available when you want to call Python code from\n",
    "C: Py_Initialize() and Py_Finalize() . The first function starts the Python interpreter\n",
    "and the second function shuts it down again. Between the two function calls, you can\n",
    "run your Python code. Listing 11-8 shows an example where you can execute a string of\n",
    "Python code.\n",
    "#### Listing 11-8. Running Python Code from C"
   ]
  },
  {
   "cell_type": "code",
   "execution_count": null,
   "metadata": {},
   "outputs": [],
   "source": [
    "#include \"Python.h\"\n",
    "void run_pycode(const char* code) {\n",
    "Py_Initialize();\n",
    "PyRun_SimpleString(code);\n",
    "Py_Finalize();\n",
    "}"
   ]
  },
  {
   "cell_type": "markdown",
   "metadata": {},
   "source": [
    "This works fine for shorter pieces of code, but if you have an entire script, you can\n",
    "run it from your C program, as shown in Listing 11-9 .\n",
    "#### Listing 11-9. Running a Python Script from C"
   ]
  },
  {
   "cell_type": "code",
   "execution_count": null,
   "metadata": {},
   "outputs": [],
   "source": [
    "#include \"Python.h\"\n",
    "Int main() {\n",
    "Py_Initialize();\n",
    "FILE* file = fopen(\"./my_script.py\", \"r\");\n",
    "PyRun_SimpleFile(file, \"./my_script.py\");\n",
    "Py_Finalize();\n",
    "}"
   ]
  },
  {
   "cell_type": "markdown",
   "metadata": {},
   "source": [
    "### 11-4. Calling C from Python\n",
    "\n",
    "You want to call external C code from a Python program.\n",
    "<br>\n",
    "The standard Python API includes code to help connect Python and C. The Cython\n",
    "package makes this communication easier.\n",
    "\n",
    "The keywords cdef extern from tell Cython a location from which to import C functions.\n",
    "Listing 11-10 shows an example of a . pyx file.\n",
    "#### Listing 11-10. Importing External C Code"
   ]
  },
  {
   "cell_type": "code",
   "execution_count": null,
   "metadata": {},
   "outputs": [],
   "source": [
    "cdef extern from \"hello_world.c\":\n",
    "void print_msg()\n",
    "Listing 11-11 shows the related C source code file.\n",
    "Listing 11-11. Imported C Code\n",
    "static void print_msg() {\n",
    "printf(\"Hello World\");\n",
    "}\n"
   ]
  },
  {
   "cell_type": "markdown",
   "metadata": {},
   "source": [
    "This is a much simpler interface for importing C code than the standard API\n",
    "included in Python."
   ]
  }
 ],
 "metadata": {
  "kernelspec": {
   "display_name": "Python 3",
   "language": "python",
   "name": "python3"
  },
  "language_info": {
   "codemirror_mode": {
    "name": "ipython",
    "version": 3
   },
   "file_extension": ".py",
   "mimetype": "text/x-python",
   "name": "python",
   "nbconvert_exporter": "python",
   "pygments_lexer": "ipython3",
   "version": "3.6.4"
  }
 },
 "nbformat": 4,
 "nbformat_minor": 2
}
