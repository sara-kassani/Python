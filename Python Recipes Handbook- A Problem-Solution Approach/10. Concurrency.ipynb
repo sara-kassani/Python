{
 "cells": [
  {
   "cell_type": "markdown",
   "metadata": {},
   "source": [
    "# Concurrency"
   ]
  },
  {
   "cell_type": "markdown",
   "metadata": {},
   "source": [
    "Computers have been getting faster and faster over the decades, but we are starting\n",
    "to bump into some of the limitations of physics. This means that in order to get more\n",
    "work done, we need to move to using multiple processes in parallel. There are several\n",
    "techniques available within Python to support concurrent execution of code.\n",
    "The first technique is to use threads to break up the work. The main problem with this\n",
    "method is that it suffers from the bottleneck caused by the GIL (Global Interpreter Lock ).\n",
    "Threads that are doing I/O or using certain modules, such as numpy, can get around this\n",
    "bottleneck. If you need to do more computational work, you may want to uses processes\n",
    "instead. In this chapter, you will look at several of the available options within Python.\n",
    "### 10-1. Creating a Thread\n",
    "\n",
    "You want to create a thread to do some task.\n",
    "<br>\n",
    "The Python standard library contains a module named threading that contains a Thread\n",
    "class.\n",
    "<br>\n",
    "The main class, Thread , provides for running multiple functions in parallel. Listing 10-1\n",
    "shows how to create and run a basic thread.\n",
    "### Listing 10-1. Creating a Thread"
   ]
  },
  {
   "cell_type": "code",
   "execution_count": 2,
   "metadata": {},
   "outputs": [
    {
     "name": "stdout",
     "output_type": "stream",
     "text": [
      "The sum of 1 and 2 is 3\n"
     ]
    }
   ],
   "source": [
    "import threading\n",
    "def print_sum():\n",
    "    print('The sum of 1 and 2 is 3')\n",
    "my_thread = threading.Thread(target=print_sum)\n",
    "my_thread.start()"
   ]
  },
  {
   "cell_type": "markdown",
   "metadata": {},
   "source": [
    "You should note that the thread that you created won't start executing the target\n",
    "function until you call the start() method. If the function is a longer-running one, you\n",
    "can check to see whether it is still running by using the is_alive() method. It will return\n",
    "a Boolean value telling you whether it is still running or not. If you can't continue without\n",
    "the results from a given thread, you can call the join() method to force a wait until the\n",
    "thread is all done.\n",
    "### 10-2. Using Locks\n",
    "\n",
    "You need to control thread access to a particular resource.\n",
    "<br>\n",
    "The threading module includes a Lock class to control thread access.\n",
    "<br>\n",
    "Locks are used when threads need to access global resources safely. Listing 10-2 shows\n",
    "how to create and use a lock object.\n",
    "#### Listing 10-2. Creating a Lock Object"
   ]
  },
  {
   "cell_type": "code",
   "execution_count": null,
   "metadata": {},
   "outputs": [],
   "source": [
    "import threading\n",
    "sum = 0\n",
    "my_lock = threading.Lock()\n",
    "def adder():\n",
    "    global sum, my_lock\n",
    "    my_lock.acquire()\n",
    "    sum = sum + 1\n",
    "    my_lock.release()\n",
    "my_thread = threading.thread(target=adder)\n",
    "my_thread.start()"
   ]
  },
  {
   "cell_type": "markdown",
   "metadata": {},
   "source": [
    "By default, the acquire() method of the lock object blocks if the lock was already\n",
    "acquired by another thread. If, instead, you want to be able to do something else while\n",
    "waiting for a lock, you can use the parameter blocking=False in the acquire() method.\n",
    "It will return right away, giving you a Boolean value as to whether the acquire attempt\n",
    "succeeded or not.\n",
    "### 10-3. Setting a Barrier\n",
    "\n",
    "You need to synchronize thread activity by setting a common stop point.\n",
    "<br>\n",
    "The threading module includes a barrier object that can be used to set a common\n",
    "stopping point.\n",
    "<br>\n",
    "In many languages, using a barrier involves a simple function call, whereas in Python,\n",
    "barriers are managed with an object. Listing 10-3 shows how you can create a barrier for\n",
    "five threads.\n",
    "#### Listing 10-3. Creating a Barrier Object import threading"
   ]
  },
  {
   "cell_type": "code",
   "execution_count": 4,
   "metadata": {},
   "outputs": [],
   "source": [
    "b = threading.Barrier(5, timeout=10)"
   ]
  },
  {
   "cell_type": "markdown",
   "metadata": {},
   "source": [
    "As you can see, you have to explicitly tell the barrier object how many threads will\n",
    "be using it. You can also set a timeout for the maximum amount of time that the threads\n",
    "are allowed to wait for the barrier to be satisfied. To actually use the barrier object, each\n",
    "thread needs to call the wait() method.\n",
    "### 10-4. Creating a Process\n",
    "\n",
    "You need to create multiple processes for multiprocessing .\n",
    "<br>\n",
    "The Python standard library includes a module named multiprocessing that contains a\n",
    "Process class.\n",
    "<br>\n",
    "If your code is being affected by the GIL, one way around it is by using the class Process\n",
    "to spawn other tasks outside the main Python process. The interface is very similar to\n",
    "that for threads. For example, Listing 10-4 shows how to create a new process and start it\n",
    "running.\n",
    "#### Listing 10-4. Creating a New Process"
   ]
  },
  {
   "cell_type": "code",
   "execution_count": 5,
   "metadata": {},
   "outputs": [],
   "source": [
    "import multiprocessing\n",
    "def adder(a, b):\n",
    "    return a+b\n",
    "proc1 = multiprocessing.Process(target=adder, args=(2,2))\n",
    "proc1.start()\n",
    "proc1.join()"
   ]
  },
  {
   "cell_type": "markdown",
   "metadata": {},
   "source": [
    "As you can see, your newly created process object is executed with the start() method,\n",
    "and you can force the main part of your code to wait for results with the join() method.\n",
    "### 10-5. Communicating Between Processes\n",
    "\n",
    "You need to send information from one process object to another.\n",
    "<br>\n",
    "The multiprocessing module has two classes that can be used for inter-process\n",
    "communications: the pipe and queue classes.\n",
    "<br>\n",
    "Because process objects execute outside the main part of the Python interpreter,\n",
    "communicating with them, or between them, requires a bit more work. The most basic\n",
    "form of communication is the pipe. Listing 10-5 shows how to create a new pipe object.\n",
    "#### Listing 10-5. Creating a Pipe\n",
    "import multiprocessing"
   ]
  },
  {
   "cell_type": "code",
   "execution_count": 6,
   "metadata": {},
   "outputs": [
    {
     "name": "stdout",
     "output_type": "stream",
     "text": [
      "['hello', 'world']\n"
     ]
    }
   ],
   "source": [
    "def func(pipe_end):\n",
    "    pipe_end.send(['hello', 'world'])\n",
    "    pipe_end.close()\n",
    "parent_end, child_end = multiprocessing.Pipe()\n",
    "proc1 = multiprocessing.Process(target=func, args=(child_end,))\n",
    "proc1.start()\n",
    "print(parent_end.recv())\n",
    "proc1.join()"
   ]
  },
  {
   "cell_type": "markdown",
   "metadata": {},
   "source": [
    "As you can see, pipes are a simple communication channel with two ends that\n",
    "processes can read to and write from. Pipes are full-duplex, so messages can be sent from\n",
    "both ends. The major problem with pipes, however, is that the ends can only be used by\n",
    "one process at a time. If two processes try to read from or write to the same end at the\n",
    "same time, the data could be corrupted.\n",
    "A different technique is to use a queue object to communicate with. A queue is a\n",
    "FIFO (First In, First Out ) object. It can accept data from multiple processes and multiple\n",
    "processes can pull data off the queue . Listing 10-6 show how you can create and use a\n",
    "queue object.\n",
    "#### Listing 10-6. Creating a Queue"
   ]
  },
  {
   "cell_type": "code",
   "execution_count": 7,
   "metadata": {},
   "outputs": [
    {
     "name": "stdout",
     "output_type": "stream",
     "text": [
      "['hello', 'world']\n"
     ]
    }
   ],
   "source": [
    "import multiprocessing\n",
    "def func(queue1):\n",
    "    queue1.put(['hello', 'world'])\n",
    "my_queue = multiprocessing.Queue()\n",
    "proc1 = multiprocessing.Process(target=func, args=(my_queue,))\n",
    "proc1.start()\n",
    "print(my_queue.get())\n",
    "proc1.join()"
   ]
  },
  {
   "cell_type": "markdown",
   "metadata": {},
   "source": [
    "### 10-6. Creating a Pool of Workers\n",
    "\n",
    "\n",
    "You need to start up and run a pool of processes .\n",
    "<br>\n",
    "The Python standard library module, multiprocessing , contains a Pool class to manage\n",
    "a task queue.\n",
    "<br>\n",
    "When you have a whole series of tasks that need to be handled, you can create a pool of\n",
    "processes to work through those tasks. Listing 10-7 shows how to create a pool of four\n",
    "worker processes and have them work on a stack of tasks.\n",
    "#### Listing 10-7. Creating a Pool of Processes"
   ]
  },
  {
   "cell_type": "code",
   "execution_count": 9,
   "metadata": {},
   "outputs": [],
   "source": [
    "import multiprocessing\n",
    "def adder(a):\n",
    "    return a+a\n",
    "pool1 = multiprocessing.Pool(processes=4)"
   ]
  },
  {
   "cell_type": "markdown",
   "metadata": {},
   "source": [
    "This newly created pool object has several different methods to divide the tasks\n",
    "among the processes. There are both blocking and non-blocking versions of these\n",
    "methods . For example, Listing 10-8 shows how to use the map method.\n",
    "Listing 10-8. Mapping a Function to a Pool of Processes\n",
    "# This method blocks untill all processes return"
   ]
  },
  {
   "cell_type": "code",
   "execution_count": 10,
   "metadata": {},
   "outputs": [
    {
     "data": {
      "text/plain": [
       "[0, 2, 4, 6, 8, 10, 12, 14, 16, 18]"
      ]
     },
     "execution_count": 10,
     "metadata": {},
     "output_type": "execute_result"
    }
   ],
   "source": [
    "pool1.map(adder, range(10))"
   ]
  },
  {
   "cell_type": "code",
   "execution_count": 11,
   "metadata": {},
   "outputs": [],
   "source": [
    "# This method returns a result object\n",
    "results = pool1.map_async(adder, range(10))\n",
    "results.wait()"
   ]
  },
  {
   "cell_type": "markdown",
   "metadata": {},
   "source": [
    "The last line in Listing 10-8 is used to block and wait until all of the results are returned.\n",
    "You can use it when you are ready to use all of the results from the farmed out tasks.\n",
    "\n",
    "### 10-7. Creating a Subprocess\n",
    "\n",
    "You need to spawn a subprocess to handle an external task.\n",
    "<br>\n",
    "The Python standard library contains a module named subprocess that can spawn\n",
    "external processes.\n",
    "<br>\n",
    "The subprocess module is intended to replace the older os.system and os.spawn\n",
    "methods for running external processes. The module contains a method named run() that\n",
    "is the usual method for using subprocesses. For example, Listing 10-9 shows how you can\n",
    "get a list of the files in the current directory on either a Linux box or a Mac OS machine.\n",
    "#### Listing 10-9. Spawning a Subprocess"
   ]
  },
  {
   "cell_type": "code",
   "execution_count": 12,
   "metadata": {},
   "outputs": [
    {
     "name": "stdout",
     "output_type": "stream",
     "text": [
      "b'total 216\\n-rw-rw-r-- 1 sara sara 14336 Apr 29 20:02 10. Concurrency.ipynb\\n-rw-rw-r-- 1 sara sara  9856 Apr 29 19:54 11. C and Other Extensions.ipynb\\n-rw-rw-r-- 1 sara sara 15163 Apr 21 22:24 1. Strings and Texts.ipynb\\n-rw-rw-r-- 1 sara sara 11092 Apr 21 22:55 2. Numbers, Dates, and Times.ipynb\\n-rw-rw-r-- 1 sara sara 17781 Apr 22 10:01 3. Iterators and Generators.ipynb\\n-rw-rw-r-- 1 sara sara 19906 Apr 22 11:11 4. Files and IO.ipynb\\n-rw-rw-r-- 1 sara sara 38590 Apr 22 12:43 5. Python Data Analysis with pandas.ipynb\\n-rw-rw-r-- 1 sara sara 15322 Apr 22 13:15 6. Functions.ipynb\\n-rw-rw-r-- 1 sara sara 18356 Apr 29 17:56 7. Classes and Objects.ipynb\\n-rw-rw-r-- 1 sara sara 11598 Apr 29 18:34 8. Metaprogramming.ipynb\\n-rw-rw-r-- 1 sara sara 28714 Apr 29 19:31 9. Numerics and Numpy.ipynb\\n'\n"
     ]
    }
   ],
   "source": [
    "import subprocess\n",
    "results = subprocess.run(['ls', '-l'], stdout=subprocess.PIPE)\n",
    "print(results.stdout)"
   ]
  },
  {
   "cell_type": "markdown",
   "metadata": {},
   "source": [
    "The returned results object contains a lot of information about how the external\n",
    "process ran, including the exit code.\n",
    "### 10-8. Scheduling Events\n",
    "\n",
    "You need to schedule tasks for some later time.\n",
    "<br>\n",
    "The Python standard library contains a module named sched that has several objects and\n",
    "methods that are useful in scheduling work at different times.\n",
    "<br> To schedule future tasks, you can create a Scheduler object to can take a queue of events\n",
    "and manage them. You can use the enter() method to add events to the queue, as in\n",
    "Listing 10-10 .\n",
    "#### Listing 10-10. Creating a Scheduler"
   ]
  },
  {
   "cell_type": "code",
   "execution_count": 13,
   "metadata": {},
   "outputs": [
    {
     "data": {
      "text/plain": [
       "Event(time=12741.710048027, priority=1, action=<function print_time at 0x7f3ce8487ae8>, argument=(), kwargs={})"
      ]
     },
     "execution_count": 13,
     "metadata": {},
     "output_type": "execute_result"
    }
   ],
   "source": [
    "import sched, time\n",
    "def print_time():\n",
    "    print(time.time())\n",
    "my_sched = sched.scheduler()\n",
    "my_sched.enter(10, 1, print_time)"
   ]
  },
  {
   "cell_type": "markdown",
   "metadata": {},
   "source": [
    "The enter() method takes a delay, a priority, and a function to execute when the\n",
    "event triggers. If you want to have an event trigger at a specific time instead, you can use the\n",
    "enterabs() method. Once you have a larger list of events, you can always check the current\n",
    "queue with the scheduler's queue attribute. If you get to the end of your program, you can\n",
    "force your code to stop and wait until all the events have finished with the run() method."
   ]
  }
 ],
 "metadata": {
  "kernelspec": {
   "display_name": "Python 3",
   "language": "python",
   "name": "python3"
  },
  "language_info": {
   "codemirror_mode": {
    "name": "ipython",
    "version": 3
   },
   "file_extension": ".py",
   "mimetype": "text/x-python",
   "name": "python",
   "nbconvert_exporter": "python",
   "pygments_lexer": "ipython3",
   "version": "3.6.4"
  }
 },
 "nbformat": 4,
 "nbformat_minor": 2
}
