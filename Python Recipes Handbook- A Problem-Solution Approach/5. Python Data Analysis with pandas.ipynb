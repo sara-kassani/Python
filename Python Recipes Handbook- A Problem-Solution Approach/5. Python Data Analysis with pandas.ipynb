{
 "cells": [
  {
   "cell_type": "markdown",
   "metadata": {},
   "source": [
    "# Python Data Analysis with pandas\n",
    "# 5-1. Working with 1D Data\n",
    "\n",
    "You need to work with one-dimensional data such as arrays .\n",
    "<br>\n",
    "pandas includes a new data type called a Series that is used for one-dimensional data.\n",
    "<br>\n",
    "Once you import the pandas package, you can use the Series constructor to take an\n",
    "already existing data object, such as a list, and convert it to a format that pandas can work\n",
    "with. Listing 5-1 shows how to convert a basic list.\n",
    "#### Listing 5-1. Converting a List into a Series"
   ]
  },
  {
   "cell_type": "code",
   "execution_count": 1,
   "metadata": {},
   "outputs": [],
   "source": [
    "import pandas as pd\n",
    "data = [1,2,3,4]\n",
    "data_pd = pd.Series(data)"
   ]
  },
  {
   "cell_type": "markdown",
   "metadata": {},
   "source": [
    "You can optionally include an index array to index the values. In the example in\n",
    "Listing 5-1 , the index simply becomes the numeric index within the data array. Also,\n",
    "by default, the data is left where it is. If you need to create a new copy of the data when\n",
    "you create your Series object, you can include the parameter copy=True. pandas can\n",
    "deduce the data type being used for the new Series object. You can explicitly set it with\n",
    "the dtype parameter . The possible values are those available from numpy . Listing 5-2\n",
    "shows how you can treat the data from Listing 5-1 as floating point.\n",
    "#### Listing 5-2. Explicitly Setting the dtype"
   ]
  },
  {
   "cell_type": "code",
   "execution_count": 2,
   "metadata": {},
   "outputs": [
    {
     "data": {
      "text/plain": [
       "dtype('int64')"
      ]
     },
     "execution_count": 2,
     "metadata": {},
     "output_type": "execute_result"
    }
   ],
   "source": [
    "data_pd.dtype"
   ]
  },
  {
   "cell_type": "code",
   "execution_count": 3,
   "metadata": {},
   "outputs": [
    {
     "data": {
      "text/plain": [
       "dtype('float64')"
      ]
     },
     "execution_count": 3,
     "metadata": {},
     "output_type": "execute_result"
    }
   ],
   "source": [
    "import numpy as np\n",
    "data_pd2 = pd.Series(data, dtype=np.float64)\n",
    "data_pd2.dtype"
   ]
  },
  {
   "cell_type": "markdown",
   "metadata": {},
   "source": [
    "All of the usual operators are overloaded to be usable with Series objects, as in\n",
    "Listing 5-3 .\n",
    "#### Listing 5-3. Basic Arithmetic with Series"
   ]
  },
  {
   "cell_type": "code",
   "execution_count": 4,
   "metadata": {},
   "outputs": [
    {
     "data": {
      "text/plain": [
       "0    2\n",
       "1    4\n",
       "2    6\n",
       "3    8\n",
       "dtype: int64"
      ]
     },
     "execution_count": 4,
     "metadata": {},
     "output_type": "execute_result"
    }
   ],
   "source": [
    "2 * data_pd"
   ]
  },
  {
   "cell_type": "markdown",
   "metadata": {},
   "source": [
    "Accessing elements is done with the same syntax as for lists, as in Listing 5-4 .\n",
    "#### Listing 5-4. Accessing Series Data"
   ]
  },
  {
   "cell_type": "code",
   "execution_count": 5,
   "metadata": {},
   "outputs": [
    {
     "data": {
      "text/plain": [
       "3"
      ]
     },
     "execution_count": 5,
     "metadata": {},
     "output_type": "execute_result"
    }
   ],
   "source": [
    "data_pd[2]"
   ]
  },
  {
   "cell_type": "code",
   "execution_count": 6,
   "metadata": {},
   "outputs": [],
   "source": [
    "data_pd[3] = 9"
   ]
  },
  {
   "cell_type": "markdown",
   "metadata": {},
   "source": [
    "# 5-2. Working with 2D Data\n",
    "You need to work with two-dimensional data .\n",
    "<br>\n",
    "pandas includes an optimized object called a DataFrame that supports two dimensional\n",
    "data sets.\n",
    "<br>\n",
    "pandas includes a new object called a DataFrame that creates an object for 2D data\n",
    "sets. You can create a new DataFrame from either a dictionary of lists, or from a list of\n",
    "dictionaries. Listing 5-5 shows how to create a new DataFrame from a dictionary of lists.\n",
    "#### Listing 5-5. Creating a DataFrame"
   ]
  },
  {
   "cell_type": "code",
   "execution_count": 7,
   "metadata": {},
   "outputs": [
    {
     "data": {
      "text/html": [
       "<div>\n",
       "<style scoped>\n",
       "    .dataframe tbody tr th:only-of-type {\n",
       "        vertical-align: middle;\n",
       "    }\n",
       "\n",
       "    .dataframe tbody tr th {\n",
       "        vertical-align: top;\n",
       "    }\n",
       "\n",
       "    .dataframe thead th {\n",
       "        text-align: right;\n",
       "    }\n",
       "</style>\n",
       "<table border=\"1\" class=\"dataframe\">\n",
       "  <thead>\n",
       "    <tr style=\"text-align: right;\">\n",
       "      <th></th>\n",
       "      <th>one</th>\n",
       "      <th>two</th>\n",
       "    </tr>\n",
       "  </thead>\n",
       "  <tbody>\n",
       "    <tr>\n",
       "      <th>0</th>\n",
       "      <td>1</td>\n",
       "      <td>9</td>\n",
       "    </tr>\n",
       "    <tr>\n",
       "      <th>1</th>\n",
       "      <td>2</td>\n",
       "      <td>8</td>\n",
       "    </tr>\n",
       "    <tr>\n",
       "      <th>2</th>\n",
       "      <td>3</td>\n",
       "      <td>7</td>\n",
       "    </tr>\n",
       "    <tr>\n",
       "      <th>3</th>\n",
       "      <td>4</td>\n",
       "      <td>6</td>\n",
       "    </tr>\n",
       "  </tbody>\n",
       "</table>\n",
       "</div>"
      ],
      "text/plain": [
       "   one  two\n",
       "0    1    9\n",
       "1    2    8\n",
       "2    3    7\n",
       "3    4    6"
      ]
     },
     "execution_count": 7,
     "metadata": {},
     "output_type": "execute_result"
    }
   ],
   "source": [
    "d1 = {'one' : [1,2,3,4], 'two' : [9,8,7,6]}\n",
    "df1 = pd.DataFrame(d1)\n",
    "df1"
   ]
  },
  {
   "cell_type": "markdown",
   "metadata": {},
   "source": [
    "Again, the standard arithmetic operators are overloaded to be easy to use with\n",
    "DataFrames . Now that you have two dimensions, accessing elements is a bit more\n",
    "complicated. Addressing is column-based by default. This means that you can access a\n",
    "given column directly with the appropriate label, as in Listing 5-6 .\n",
    "#### Listing 5-6. Accessing DataFrame Columns"
   ]
  },
  {
   "cell_type": "code",
   "execution_count": 8,
   "metadata": {},
   "outputs": [
    {
     "data": {
      "text/plain": [
       "0    1\n",
       "1    2\n",
       "2    3\n",
       "3    4\n",
       "Name: one, dtype: int64"
      ]
     },
     "execution_count": 8,
     "metadata": {},
     "output_type": "execute_result"
    }
   ],
   "source": [
    "df1['one']"
   ]
  },
  {
   "cell_type": "code",
   "execution_count": 9,
   "metadata": {},
   "outputs": [
    {
     "data": {
      "text/plain": [
       "3"
      ]
     },
     "execution_count": 9,
     "metadata": {},
     "output_type": "execute_result"
    }
   ],
   "source": [
    "df1['one'][2]"
   ]
  },
  {
   "cell_type": "markdown",
   "metadata": {},
   "source": [
    "If you want to access the data by row, you need to use either the iloc or loc\n",
    "properties of the DataFrame , as in Listing 5-7 .\n",
    "#### Listing 5-7. Accessing DataFrame Rows"
   ]
  },
  {
   "cell_type": "code",
   "execution_count": 10,
   "metadata": {},
   "outputs": [
    {
     "data": {
      "text/plain": [
       "one    2\n",
       "two    8\n",
       "Name: 1, dtype: int64"
      ]
     },
     "execution_count": 10,
     "metadata": {},
     "output_type": "execute_result"
    }
   ],
   "source": [
    " df1.loc[1]"
   ]
  },
  {
   "cell_type": "code",
   "execution_count": 11,
   "metadata": {},
   "outputs": [
    {
     "data": {
      "text/plain": [
       "8"
      ]
     },
     "execution_count": 11,
     "metadata": {},
     "output_type": "execute_result"
    }
   ],
   "source": [
    "df1.loc[1][1]"
   ]
  },
  {
   "cell_type": "markdown",
   "metadata": {},
   "source": [
    "# 5-3. Working with 3D Data\n",
    "\n",
    "You need to process three-dimensional data sets with pandas .\n",
    "\n",
    "<br>\n",
    "pandas includes a new object called a Panel that handles three-dimensional data sets\n",
    "efficiently.\n",
    "<br>\n",
    "Similar to creating a DataFrame , creating a new Panel object can be done with a\n",
    "dictionary of DataFrames . Listing 5-8 shows a basic example.\n",
    "##### Listing 5-8. Creating a Panel"
   ]
  },
  {
   "cell_type": "code",
   "execution_count": 13,
   "metadata": {},
   "outputs": [],
   "source": [
    "data_dict = {'item1' : pd.DataFrame(np.random.randn(4, 3)), 'item2' :\n",
    "pd.DataFrame(np.random.randn(4, 2))}"
   ]
  },
  {
   "cell_type": "code",
   "execution_count": 14,
   "metadata": {},
   "outputs": [],
   "source": [
    "data_panel = pd.Panel(data_dict)"
   ]
  },
  {
   "cell_type": "markdown",
   "metadata": {},
   "source": [
    "You can access each of the DataFrames within your new Panel by using their label.\n",
    "For example, you can get the item2 DataFrame with the code in Listing 5-9 .\n",
    "#### Listing 5-9. Accessing DataFrames within a Panel"
   ]
  },
  {
   "cell_type": "code",
   "execution_count": 15,
   "metadata": {},
   "outputs": [
    {
     "data": {
      "text/html": [
       "<div>\n",
       "<style scoped>\n",
       "    .dataframe tbody tr th:only-of-type {\n",
       "        vertical-align: middle;\n",
       "    }\n",
       "\n",
       "    .dataframe tbody tr th {\n",
       "        vertical-align: top;\n",
       "    }\n",
       "\n",
       "    .dataframe thead th {\n",
       "        text-align: right;\n",
       "    }\n",
       "</style>\n",
       "<table border=\"1\" class=\"dataframe\">\n",
       "  <thead>\n",
       "    <tr style=\"text-align: right;\">\n",
       "      <th></th>\n",
       "      <th>0</th>\n",
       "      <th>1</th>\n",
       "      <th>2</th>\n",
       "    </tr>\n",
       "  </thead>\n",
       "  <tbody>\n",
       "    <tr>\n",
       "      <th>0</th>\n",
       "      <td>0.290827</td>\n",
       "      <td>-0.311617</td>\n",
       "      <td>NaN</td>\n",
       "    </tr>\n",
       "    <tr>\n",
       "      <th>1</th>\n",
       "      <td>-1.559988</td>\n",
       "      <td>-0.006139</td>\n",
       "      <td>NaN</td>\n",
       "    </tr>\n",
       "    <tr>\n",
       "      <th>2</th>\n",
       "      <td>-0.766882</td>\n",
       "      <td>1.931294</td>\n",
       "      <td>NaN</td>\n",
       "    </tr>\n",
       "    <tr>\n",
       "      <th>3</th>\n",
       "      <td>-1.143126</td>\n",
       "      <td>-0.631373</td>\n",
       "      <td>NaN</td>\n",
       "    </tr>\n",
       "  </tbody>\n",
       "</table>\n",
       "</div>"
      ],
      "text/plain": [
       "          0         1   2\n",
       "0  0.290827 -0.311617 NaN\n",
       "1 -1.559988 -0.006139 NaN\n",
       "2 -0.766882  1.931294 NaN\n",
       "3 -1.143126 -0.631373 NaN"
      ]
     },
     "execution_count": 15,
     "metadata": {},
     "output_type": "execute_result"
    }
   ],
   "source": [
    "data_panel['item2']"
   ]
  },
  {
   "cell_type": "markdown",
   "metadata": {},
   "source": [
    "Once you have a DataFrame , you can access individual elements in the same manner\n",
    "as in the previous section.\n",
    "# 5-4. Importing Data from CSV Files\n",
    "\n",
    "You need to import data collected offline from a CSV (comma-separated values ) file.\n",
    "<br>\n",
    "Pandas includes a method named read_csv() that can import and parse CSV files.\n",
    "<br>\n",
    "A top-level method is available in the pandas package to read in CSV files. The most basic\n",
    "usage is shown in Listing 5-10 .\n",
    "#### Listing 5-10. Reading a CSV File"
   ]
  },
  {
   "cell_type": "code",
   "execution_count": null,
   "metadata": {},
   "outputs": [],
   "source": [
    "csv_data = pd.read_csv('data_file.csv')"
   ]
  },
  {
   "cell_type": "markdown",
   "metadata": {},
   "source": [
    "By default, pandas will read the column names from the first row within the CSV file.\n",
    "If you have the column names on some other row, you can use the parameter header=X\n",
    "to redirect pandas to row X to pull the column names. If your file has no column names,\n",
    "you can use the parameter header=None and then hand in the list of column names with\n",
    "the parameter names=[col1, col2, ...] . Also, by default, pandas will treat the first column\n",
    "as the labels for each of the rows. If the row labels are in another column, you can use the\n",
    "parameter index_col=X . If you don't have any row labels at all, you will probably want to\n",
    "use the parameter index_col=False to force pandas not to use any of the columns.\n",
    "# 5-5. Saving to a CSV File\n",
    "\n",
    "You want to save data into a CSV file to share with other people or applications.\n",
    "<br>\n",
    "The Series and DataFrame objects include a method called to_csv() .\n",
    "<br>\n",
    "If you need to save the data that you have been working with, you can call the to_csv()\n",
    "method with a file name to use, as in Listing 5-11 .\n",
    "#### Listing 5-11. Saving to a CSV File"
   ]
  },
  {
   "cell_type": "code",
   "execution_count": null,
   "metadata": {},
   "outputs": [],
   "source": [
    "series_data.to_csv('export_file.csv')"
   ]
  },
  {
   "cell_type": "markdown",
   "metadata": {},
   "source": [
    "There are parameters available to change the delimiter used or the character used\n",
    "for quoting. By default, pandas will write out column headers and row labels. If you want\n",
    "just the data, you can use the code in Listing 5-12 .\n",
    "#### Listing 5-12. Saving Data without Headers and Labels"
   ]
  },
  {
   "cell_type": "code",
   "execution_count": null,
   "metadata": {},
   "outputs": [],
   "source": [
    "data2.to_csv('data_file.csv', header=False, index=False)"
   ]
  },
  {
   "cell_type": "markdown",
   "metadata": {},
   "source": [
    "By default, pandas will overwrite the output file if it already exists. If you want to\n",
    "append to an already existing file, you can change the output mode with the parameter\n",
    "mode='a' .\n",
    "# 5-6. Importing from Spreadsheets\n",
    "\n",
    "You want to import existing data from a spreadsheet .\n",
    "<br>\n",
    "pandas includes a method to import a single sheet from a spreadsheet file , as well as a\n",
    "wrapper class if you need to work with more than one sheet from a given file.\n",
    "<br>\n",
    "If you only need to import a single sheet from a file, you can use the code in Listing 5-13\n",
    "to do so.\n",
    "#### Listing 5-13. Importing a Single Spreadsheet Sheet"
   ]
  },
  {
   "cell_type": "code",
   "execution_count": null,
   "metadata": {},
   "outputs": [],
   "source": [
    "data_frame1 = pd.read_excel('data_file.xsl', sheetname='Sheet1')"
   ]
  },
  {
   "cell_type": "markdown",
   "metadata": {},
   "source": [
    "This will import the data as a single DataFrame object.\n",
    "If you have multiple sheets that you wish to work with, it is more efficient to load the\n",
    "file once into a wrapper class in order to access them easily. Luckily, pandas has such a\n",
    "wrapper class, as shown in Listing 5-14 .\n",
    "#### Listing 5-14. Wrapping a Spreadsheet in pandas"
   ]
  },
  {
   "cell_type": "code",
   "execution_count": null,
   "metadata": {},
   "outputs": [],
   "source": [
    "excel_data = pd.ExcelFile('data_file.xsl')"
   ]
  },
  {
   "cell_type": "markdown",
   "metadata": {},
   "source": [
    "You can then hand this object in to the read_excel() method rather than a filename.\n",
    "# 5-7. Saving to a Spreadsheet\n",
    "You want to save your DataFrame to a spreadsheet file.\n",
    "<br>\n",
    "The DataFrame class includes a method named to_excel() that writes the data out\n",
    "to a file.\n",
    "<br>\n",
    "The simplest way to write your output is shown in Listing 5-15 .\n",
    "#### Listing 5-15. Writing Output to a Spreadsheet File"
   ]
  },
  {
   "cell_type": "code",
   "execution_count": null,
   "metadata": {},
   "outputs": [],
   "source": [
    "df.to_excel('output_file.xsl', sheet='Sheet1')"
   ]
  },
  {
   "cell_type": "markdown",
   "metadata": {},
   "source": [
    "pandas will choose a different writing engine based on the file name extension.\n",
    "You can also save files using the file name ending .xslx .\n",
    "# 5-8. Getting the Head and Tail\n",
    "\n",
    "You want to query the data to see how it is structured.\n",
    "<br>\n",
    "There are functions available to look at the beginning or the ending of a given data set.\n",
    "They are very useful once you get to using large data sets.\n",
    "<br>\n",
    "Both the Series and DataFrame objects have methods named head() and tail() . By\n",
    "default, they will give you the first five entries or the last five entries, respectively, for the\n",
    "given data set. If you want to look at more or less of the data, you can include a parameter\n",
    "for the number of entries you want to see, as in Listing 5-16 .\n",
    "#### Listing 5-16. Getting the First and Last Two Data Entries"
   ]
  },
  {
   "cell_type": "code",
   "execution_count": 16,
   "metadata": {},
   "outputs": [
    {
     "data": {
      "text/plain": [
       "0    0.029022\n",
       "1   -3.228761\n",
       "dtype: float64"
      ]
     },
     "execution_count": 16,
     "metadata": {},
     "output_type": "execute_result"
    }
   ],
   "source": [
    "data_series = pd.Series(np.random.randn(1000))\n",
    "data_series.head(2)"
   ]
  },
  {
   "cell_type": "code",
   "execution_count": 17,
   "metadata": {},
   "outputs": [
    {
     "data": {
      "text/plain": [
       "998    0.653707\n",
       "999   -1.409047\n",
       "dtype: float64"
      ]
     },
     "execution_count": 17,
     "metadata": {},
     "output_type": "execute_result"
    }
   ],
   "source": [
    "data_series.tail(2)"
   ]
  },
  {
   "cell_type": "markdown",
   "metadata": {},
   "source": [
    "# 5-9. Summarizing Data\n",
    "\n",
    "You want to get a statistical summary of the data set.\n",
    "<br>\n",
    "The new data objects introduced in pandas include a collection of methods used to\n",
    "provide summary statistics of your data.\n",
    "<br>\n",
    "There are several methods available for individual statistics, such as the mean or standard\n",
    "deviation. There is also a single method called describe() that provides a complete\n",
    "summary, as shown in Listing 5-17 .\n",
    "#### Listing 5-17. Describing Your Data"
   ]
  },
  {
   "cell_type": "code",
   "execution_count": 18,
   "metadata": {},
   "outputs": [
    {
     "data": {
      "text/plain": [
       "count    1000.000000\n",
       "mean       -0.033709\n",
       "std         1.022034\n",
       "min        -3.228761\n",
       "25%        -0.697743\n",
       "50%        -0.043676\n",
       "75%         0.642479\n",
       "max         3.611882\n",
       "dtype: float64"
      ]
     },
     "execution_count": 18,
     "metadata": {},
     "output_type": "execute_result"
    }
   ],
   "source": [
    "data_series.describe()"
   ]
  },
  {
   "cell_type": "markdown",
   "metadata": {},
   "source": [
    "Each of these values is available with individual methods. For example, Listing 5-18\n",
    "shows how you can verify that the standard deviation is equal to the square root of the\n",
    "variance.\n",
    "#### Listing 5-18. Comparing the Standard Deviation and the Variance"
   ]
  },
  {
   "cell_type": "code",
   "execution_count": 19,
   "metadata": {},
   "outputs": [
    {
     "data": {
      "text/plain": [
       "1.0445525800349265"
      ]
     },
     "execution_count": 19,
     "metadata": {},
     "output_type": "execute_result"
    }
   ],
   "source": [
    "data_series.std() ** 2"
   ]
  },
  {
   "cell_type": "code",
   "execution_count": 20,
   "metadata": {},
   "outputs": [
    {
     "data": {
      "text/plain": [
       "1.0445525800349265"
      ]
     },
     "execution_count": 20,
     "metadata": {},
     "output_type": "execute_result"
    }
   ],
   "source": [
    "data_series.var()"
   ]
  },
  {
   "cell_type": "markdown",
   "metadata": {},
   "source": [
    "This looks good, within the accuracy of floating point numbers.\n",
    "# 5-10. Sorting Data\n",
    "\n",
    "You wish to do some sorting as preprocessing of your data.\n",
    "<br>\n",
    "The Series and DataFrame objects include methods to sort either by index or by value.\n",
    "<br>\n",
    "If your data is entered in a random order, you may need to do some preprocessing before\n",
    "you can do the actual analysis. Listing 5-19 shows how you can sort a DataFrame by either\n",
    "the row or column labels.\n",
    "#### Listing 5-19. Sorting a DataFrame by Index"
   ]
  },
  {
   "cell_type": "code",
   "execution_count": 21,
   "metadata": {},
   "outputs": [],
   "source": [
    "df = pd.DataFrame({'one' : [1,2,3], 'two' : [4,5,6], 'three' : [7,8,9]},\n",
    "index=['b','c','a'])"
   ]
  },
  {
   "cell_type": "code",
   "execution_count": 22,
   "metadata": {},
   "outputs": [
    {
     "data": {
      "text/html": [
       "<div>\n",
       "<style scoped>\n",
       "    .dataframe tbody tr th:only-of-type {\n",
       "        vertical-align: middle;\n",
       "    }\n",
       "\n",
       "    .dataframe tbody tr th {\n",
       "        vertical-align: top;\n",
       "    }\n",
       "\n",
       "    .dataframe thead th {\n",
       "        text-align: right;\n",
       "    }\n",
       "</style>\n",
       "<table border=\"1\" class=\"dataframe\">\n",
       "  <thead>\n",
       "    <tr style=\"text-align: right;\">\n",
       "      <th></th>\n",
       "      <th>one</th>\n",
       "      <th>three</th>\n",
       "      <th>two</th>\n",
       "    </tr>\n",
       "  </thead>\n",
       "  <tbody>\n",
       "    <tr>\n",
       "      <th>b</th>\n",
       "      <td>1</td>\n",
       "      <td>7</td>\n",
       "      <td>4</td>\n",
       "    </tr>\n",
       "    <tr>\n",
       "      <th>c</th>\n",
       "      <td>2</td>\n",
       "      <td>8</td>\n",
       "      <td>5</td>\n",
       "    </tr>\n",
       "    <tr>\n",
       "      <th>a</th>\n",
       "      <td>3</td>\n",
       "      <td>9</td>\n",
       "      <td>6</td>\n",
       "    </tr>\n",
       "  </tbody>\n",
       "</table>\n",
       "</div>"
      ],
      "text/plain": [
       "   one  three  two\n",
       "b    1      7    4\n",
       "c    2      8    5\n",
       "a    3      9    6"
      ]
     },
     "execution_count": 22,
     "metadata": {},
     "output_type": "execute_result"
    }
   ],
   "source": [
    "df"
   ]
  },
  {
   "cell_type": "code",
   "execution_count": 23,
   "metadata": {},
   "outputs": [
    {
     "data": {
      "text/html": [
       "<div>\n",
       "<style scoped>\n",
       "    .dataframe tbody tr th:only-of-type {\n",
       "        vertical-align: middle;\n",
       "    }\n",
       "\n",
       "    .dataframe tbody tr th {\n",
       "        vertical-align: top;\n",
       "    }\n",
       "\n",
       "    .dataframe thead th {\n",
       "        text-align: right;\n",
       "    }\n",
       "</style>\n",
       "<table border=\"1\" class=\"dataframe\">\n",
       "  <thead>\n",
       "    <tr style=\"text-align: right;\">\n",
       "      <th></th>\n",
       "      <th>one</th>\n",
       "      <th>three</th>\n",
       "      <th>two</th>\n",
       "    </tr>\n",
       "  </thead>\n",
       "  <tbody>\n",
       "    <tr>\n",
       "      <th>a</th>\n",
       "      <td>3</td>\n",
       "      <td>9</td>\n",
       "      <td>6</td>\n",
       "    </tr>\n",
       "    <tr>\n",
       "      <th>b</th>\n",
       "      <td>1</td>\n",
       "      <td>7</td>\n",
       "      <td>4</td>\n",
       "    </tr>\n",
       "    <tr>\n",
       "      <th>c</th>\n",
       "      <td>2</td>\n",
       "      <td>8</td>\n",
       "      <td>5</td>\n",
       "    </tr>\n",
       "  </tbody>\n",
       "</table>\n",
       "</div>"
      ],
      "text/plain": [
       "   one  three  two\n",
       "a    3      9    6\n",
       "b    1      7    4\n",
       "c    2      8    5"
      ]
     },
     "execution_count": 23,
     "metadata": {},
     "output_type": "execute_result"
    }
   ],
   "source": [
    "df.sort_index()"
   ]
  },
  {
   "cell_type": "code",
   "execution_count": 24,
   "metadata": {},
   "outputs": [
    {
     "data": {
      "text/html": [
       "<div>\n",
       "<style scoped>\n",
       "    .dataframe tbody tr th:only-of-type {\n",
       "        vertical-align: middle;\n",
       "    }\n",
       "\n",
       "    .dataframe tbody tr th {\n",
       "        vertical-align: top;\n",
       "    }\n",
       "\n",
       "    .dataframe thead th {\n",
       "        text-align: right;\n",
       "    }\n",
       "</style>\n",
       "<table border=\"1\" class=\"dataframe\">\n",
       "  <thead>\n",
       "    <tr style=\"text-align: right;\">\n",
       "      <th></th>\n",
       "      <th>two</th>\n",
       "      <th>three</th>\n",
       "      <th>one</th>\n",
       "    </tr>\n",
       "  </thead>\n",
       "  <tbody>\n",
       "    <tr>\n",
       "      <th>b</th>\n",
       "      <td>4</td>\n",
       "      <td>7</td>\n",
       "      <td>1</td>\n",
       "    </tr>\n",
       "    <tr>\n",
       "      <th>c</th>\n",
       "      <td>5</td>\n",
       "      <td>8</td>\n",
       "      <td>2</td>\n",
       "    </tr>\n",
       "    <tr>\n",
       "      <th>a</th>\n",
       "      <td>6</td>\n",
       "      <td>9</td>\n",
       "      <td>3</td>\n",
       "    </tr>\n",
       "  </tbody>\n",
       "</table>\n",
       "</div>"
      ],
      "text/plain": [
       "   two  three  one\n",
       "b    4      7    1\n",
       "c    5      8    2\n",
       "a    6      9    3"
      ]
     },
     "execution_count": 24,
     "metadata": {},
     "output_type": "execute_result"
    }
   ],
   "source": [
    "df.sort_index(axis=1, ascending=False)"
   ]
  },
  {
   "cell_type": "markdown",
   "metadata": {},
   "source": [
    "The other way you may wish to sort your data is by the actual data values. In this\n",
    "case, you need to decide by which column to sort on. Listing 5-20 shows how to sort by\n",
    "column two in descending order.\n",
    "#### Listing 5-20. Sorting a DataFrame by Values"
   ]
  },
  {
   "cell_type": "code",
   "execution_count": 25,
   "metadata": {},
   "outputs": [
    {
     "data": {
      "text/html": [
       "<div>\n",
       "<style scoped>\n",
       "    .dataframe tbody tr th:only-of-type {\n",
       "        vertical-align: middle;\n",
       "    }\n",
       "\n",
       "    .dataframe tbody tr th {\n",
       "        vertical-align: top;\n",
       "    }\n",
       "\n",
       "    .dataframe thead th {\n",
       "        text-align: right;\n",
       "    }\n",
       "</style>\n",
       "<table border=\"1\" class=\"dataframe\">\n",
       "  <thead>\n",
       "    <tr style=\"text-align: right;\">\n",
       "      <th></th>\n",
       "      <th>one</th>\n",
       "      <th>three</th>\n",
       "      <th>two</th>\n",
       "    </tr>\n",
       "  </thead>\n",
       "  <tbody>\n",
       "    <tr>\n",
       "      <th>a</th>\n",
       "      <td>3</td>\n",
       "      <td>9</td>\n",
       "      <td>6</td>\n",
       "    </tr>\n",
       "    <tr>\n",
       "      <th>c</th>\n",
       "      <td>2</td>\n",
       "      <td>8</td>\n",
       "      <td>5</td>\n",
       "    </tr>\n",
       "    <tr>\n",
       "      <th>b</th>\n",
       "      <td>1</td>\n",
       "      <td>7</td>\n",
       "      <td>4</td>\n",
       "    </tr>\n",
       "  </tbody>\n",
       "</table>\n",
       "</div>"
      ],
      "text/plain": [
       "   one  three  two\n",
       "a    3      9    6\n",
       "c    2      8    5\n",
       "b    1      7    4"
      ]
     },
     "execution_count": 25,
     "metadata": {},
     "output_type": "execute_result"
    }
   ],
   "source": [
    "df.sort_values(by='two', ascending=False)"
   ]
  },
  {
   "cell_type": "markdown",
   "metadata": {},
   "source": [
    "#### ■ <font color=\"red\"> Note: </font> Starting with version 0.17.0, these methods return a new sorted object unless\n",
    "you use the parameter inplace=True . Before this version, the sorting happens in the\n",
    "original data object.\n",
    "# 5-11. Applying Functions Row- or Column-Wise\n",
    "\n",
    "You need to execute a function on an entire row or column.\n",
    "<br>\n",
    "Both DataFrames and Panels have a method called apply() that can be used to apply a\n",
    "function across a column or row.\n",
    "<br>\n",
    "Listing 5-21 shows how you can find the average for each column, then each row.\n",
    "#### Listing 5-21. Averaging Rows and Columns"
   ]
  },
  {
   "cell_type": "code",
   "execution_count": 26,
   "metadata": {},
   "outputs": [],
   "source": [
    "df = pd.DataFrame({'one' : [1,2,3], 'two' : [4,5,6], 'three' : [7,8,9]},\n",
    "index=['b','c','a'])"
   ]
  },
  {
   "cell_type": "code",
   "execution_count": 27,
   "metadata": {},
   "outputs": [
    {
     "data": {
      "text/plain": [
       "one      2.0\n",
       "three    8.0\n",
       "two      5.0\n",
       "dtype: float64"
      ]
     },
     "execution_count": 27,
     "metadata": {},
     "output_type": "execute_result"
    }
   ],
   "source": [
    "df.apply(np.mean)"
   ]
  },
  {
   "cell_type": "markdown",
   "metadata": {},
   "source": [
    "df.apply(np.mean, axis=1)"
   ]
  },
  {
   "cell_type": "markdown",
   "metadata": {},
   "source": [
    "This is a great place to use lambda functions , if your function is simple enough to fit\n",
    "into a single expression. Listing 5-22 shows an example of a simple lambda function that\n",
    "simply doubles the values from the dataframe.\n",
    "#### Listing 5-22. Applying a Lambda Function on a Data Set"
   ]
  },
  {
   "cell_type": "code",
   "execution_count": 29,
   "metadata": {},
   "outputs": [
    {
     "data": {
      "text/html": [
       "<div>\n",
       "<style scoped>\n",
       "    .dataframe tbody tr th:only-of-type {\n",
       "        vertical-align: middle;\n",
       "    }\n",
       "\n",
       "    .dataframe tbody tr th {\n",
       "        vertical-align: top;\n",
       "    }\n",
       "\n",
       "    .dataframe thead th {\n",
       "        text-align: right;\n",
       "    }\n",
       "</style>\n",
       "<table border=\"1\" class=\"dataframe\">\n",
       "  <thead>\n",
       "    <tr style=\"text-align: right;\">\n",
       "      <th></th>\n",
       "      <th>one</th>\n",
       "      <th>three</th>\n",
       "      <th>two</th>\n",
       "    </tr>\n",
       "  </thead>\n",
       "  <tbody>\n",
       "    <tr>\n",
       "      <th>b</th>\n",
       "      <td>2</td>\n",
       "      <td>14</td>\n",
       "      <td>8</td>\n",
       "    </tr>\n",
       "    <tr>\n",
       "      <th>c</th>\n",
       "      <td>4</td>\n",
       "      <td>16</td>\n",
       "      <td>10</td>\n",
       "    </tr>\n",
       "    <tr>\n",
       "      <th>a</th>\n",
       "      <td>6</td>\n",
       "      <td>18</td>\n",
       "      <td>12</td>\n",
       "    </tr>\n",
       "  </tbody>\n",
       "</table>\n",
       "</div>"
      ],
      "text/plain": [
       "   one  three  two\n",
       "b    2     14    8\n",
       "c    4     16   10\n",
       "a    6     18   12"
      ]
     },
     "execution_count": 29,
     "metadata": {},
     "output_type": "execute_result"
    }
   ],
   "source": [
    "df.apply(lambda x: 2*x, axis=1)"
   ]
  },
  {
   "cell_type": "markdown",
   "metadata": {},
   "source": [
    "# 5-12. Applying Functions Element- Wise\n",
    "You need to apply functions to either all of the elements in a data set or some subset of\n",
    "the elements.\n",
    "<br>\n",
    "The new pandas data objects have two useful methods named map() and applymap() that\n",
    "can be used to apply functions to groups of individual elements.\n",
    "<br>\n",
    "There are times when you need to apply some function to individual elements of your\n",
    "data set. Listing 5-23 shows how you can square all of the elements of a data set.\n",
    "#### Listing 5-23. Squaring Data Elements"
   ]
  },
  {
   "cell_type": "code",
   "execution_count": 30,
   "metadata": {},
   "outputs": [],
   "source": [
    "df = pd.DataFrame({'one' : [1,2,3], 'two' : [4,5,6], 'three' : [7,8,9]},\n",
    "index=['b','c','a'])"
   ]
  },
  {
   "cell_type": "code",
   "execution_count": 31,
   "metadata": {},
   "outputs": [
    {
     "data": {
      "text/html": [
       "<div>\n",
       "<style scoped>\n",
       "    .dataframe tbody tr th:only-of-type {\n",
       "        vertical-align: middle;\n",
       "    }\n",
       "\n",
       "    .dataframe tbody tr th {\n",
       "        vertical-align: top;\n",
       "    }\n",
       "\n",
       "    .dataframe thead th {\n",
       "        text-align: right;\n",
       "    }\n",
       "</style>\n",
       "<table border=\"1\" class=\"dataframe\">\n",
       "  <thead>\n",
       "    <tr style=\"text-align: right;\">\n",
       "      <th></th>\n",
       "      <th>one</th>\n",
       "      <th>three</th>\n",
       "      <th>two</th>\n",
       "    </tr>\n",
       "  </thead>\n",
       "  <tbody>\n",
       "    <tr>\n",
       "      <th>b</th>\n",
       "      <td>1</td>\n",
       "      <td>49</td>\n",
       "      <td>16</td>\n",
       "    </tr>\n",
       "    <tr>\n",
       "      <th>c</th>\n",
       "      <td>4</td>\n",
       "      <td>64</td>\n",
       "      <td>25</td>\n",
       "    </tr>\n",
       "    <tr>\n",
       "      <th>a</th>\n",
       "      <td>9</td>\n",
       "      <td>81</td>\n",
       "      <td>36</td>\n",
       "    </tr>\n",
       "  </tbody>\n",
       "</table>\n",
       "</div>"
      ],
      "text/plain": [
       "   one  three  two\n",
       "b    1     49   16\n",
       "c    4     64   25\n",
       "a    9     81   36"
      ]
     },
     "execution_count": 31,
     "metadata": {},
     "output_type": "execute_result"
    }
   ],
   "source": [
    "df.applymap(lambda x: x*x)"
   ]
  },
  {
   "cell_type": "markdown",
   "metadata": {},
   "source": [
    "If you only wish to apply a function to a given column, Listing 5-24 shows how you\n",
    "can double the values in column 2 .\n",
    "#### Listing 5-24. Doubling a Single Column of Elements"
   ]
  },
  {
   "cell_type": "code",
   "execution_count": 32,
   "metadata": {},
   "outputs": [
    {
     "data": {
      "text/plain": [
       "b     8\n",
       "c    10\n",
       "a    12\n",
       "Name: two, dtype: int64"
      ]
     },
     "execution_count": 32,
     "metadata": {},
     "output_type": "execute_result"
    }
   ],
   "source": [
    "df['two'].map(lambda x: 2*x)"
   ]
  },
  {
   "cell_type": "markdown",
   "metadata": {},
   "source": [
    "# 5-13. Iterating Over Data\n",
    "\n",
    "You need iterate over your data set as part of the processing workflow.\n",
    "<br>\n",
    "pandas data objects are iterable objects and can be used in most cases when you need to\n",
    "loop over all of the elements.\n",
    "<br>\n",
    "If you want to do basic iteration of one of the new data objects that pandas provides, you\n",
    "need to be aware that they each behave a little differently. The basic types of iteration are\n",
    "• Series : Iterate over each element\n",
    "• DataFrame : Iterate over the columns\n",
    "• Panel : Iterate over the item labels\n",
    "For example, Listing 5-25 shows how to find the average of each column using\n",
    "iteration.\n",
    "#### Listing 5-25. Averaging Each Column of a DataFrame"
   ]
  },
  {
   "cell_type": "code",
   "execution_count": 33,
   "metadata": {},
   "outputs": [],
   "source": [
    "df = pd.DataFrame({'one' : [1,2,3], 'two' : [4,5,6], 'three' : [7,8,9]},\n",
    "index=['b','c','a'])"
   ]
  },
  {
   "cell_type": "code",
   "execution_count": 34,
   "metadata": {},
   "outputs": [
    {
     "name": "stdout",
     "output_type": "stream",
     "text": [
      "2.0\n",
      "8.0\n",
      "5.0\n"
     ]
    }
   ],
   "source": [
    "for col in df:\n",
    "    print(df[col].mean())"
   ]
  },
  {
   "cell_type": "markdown",
   "metadata": {},
   "source": [
    "If you need to iterate over the rows of a DataFrame instead, Listing 5-26 shows one\n",
    "example.\n",
    "#### Listing 5-26. Iterating Over Rows"
   ]
  },
  {
   "cell_type": "code",
   "execution_count": 35,
   "metadata": {},
   "outputs": [
    {
     "name": "stdout",
     "output_type": "stream",
     "text": [
      "b\n",
      "one      1\n",
      "three    7\n",
      "two      4\n",
      "Name: b, dtype: int64\n",
      "c\n",
      "one      2\n",
      "three    8\n",
      "two      5\n",
      "Name: c, dtype: int64\n",
      "a\n",
      "one      3\n",
      "three    9\n",
      "two      6\n",
      "Name: a, dtype: int64\n"
     ]
    }
   ],
   "source": [
    "for row_index,row in df.iterrows():\n",
    "    print(row_index)\n",
    "    print(row)"
   ]
  },
  {
   "cell_type": "markdown",
   "metadata": {},
   "source": [
    "Note, however, that iterating can be rather slow. Whenever possible, you will probably\n",
    "want to find another way of expressing the processing workflow that you need to do."
   ]
  }
 ],
 "metadata": {
  "kernelspec": {
   "display_name": "Python 3",
   "language": "python",
   "name": "python3"
  },
  "language_info": {
   "codemirror_mode": {
    "name": "ipython",
    "version": 3
   },
   "file_extension": ".py",
   "mimetype": "text/x-python",
   "name": "python",
   "nbconvert_exporter": "python",
   "pygments_lexer": "ipython3",
   "version": "3.6.4"
  }
 },
 "nbformat": 4,
 "nbformat_minor": 2
}
