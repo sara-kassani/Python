{
 "cells": [
  {
   "cell_type": "markdown",
   "metadata": {},
   "source": [
    "# Functions"
   ]
  },
  {
   "cell_type": "markdown",
   "metadata": {},
   "source": [
    "Any modern programming language needs to have some way of combining functionality\n",
    "into reusable chunks of code. In Python, one of the most basic units of reusable code is\n",
    "the function. In this chapter, you will look at how functions work within Python, as well as\n",
    "some places where they may do something surprising.\n",
    "# 6-1. Creating Basic Functions\n",
    "\n",
    "You want to create a basic function to handle a simple task, such as finding the square\n",
    "of two.\n",
    "<br>\n",
    "Within Python, you can use the built-in def keyword to create a new function.\n",
    "<br>\n",
    "#### Listing 6-1. Defining a Basic Function"
   ]
  },
  {
   "cell_type": "code",
   "execution_count": 1,
   "metadata": {},
   "outputs": [],
   "source": [
    "def square_of_two():\n",
    "    ans = 2 * 2\n",
    "    return ans"
   ]
  },
  {
   "cell_type": "markdown",
   "metadata": {},
   "source": [
    "As you can see, the body of the function’s code is defined by the indentation level.\n",
    "The first line uses def and creates a new function with the given name. In this case, you\n",
    "create a function called square_of_two() . You can now call this function as you would\n",
    "any other. For an example, see Listing 6-2 .\n",
    "#### Listing 6-2. Calling a Function"
   ]
  },
  {
   "cell_type": "code",
   "execution_count": 2,
   "metadata": {},
   "outputs": [
    {
     "data": {
      "text/plain": [
       "4"
      ]
     },
     "execution_count": 2,
     "metadata": {},
     "output_type": "execute_result"
    }
   ],
   "source": [
    "square_of_two()"
   ]
  },
  {
   "cell_type": "code",
   "execution_count": 3,
   "metadata": {},
   "outputs": [],
   "source": [
    "my_ans = square_of_two()"
   ]
  },
  {
   "cell_type": "code",
   "execution_count": 4,
   "metadata": {},
   "outputs": [
    {
     "data": {
      "text/plain": [
       "4"
      ]
     },
     "execution_count": 4,
     "metadata": {},
     "output_type": "execute_result"
    }
   ],
   "source": [
    "my_ans "
   ]
  },
  {
   "cell_type": "markdown",
   "metadata": {},
   "source": [
    "If your function is supposed to return a value to the calling statement, then you need to\n",
    "use the built-in return keyword. If you have conditionals or loops within your new function,\n",
    "you will need to increase the indentation level for these structures, as in Listing 6-3 .\n",
    "#### Listing 6-3. Factorial of Two Function"
   ]
  },
  {
   "cell_type": "code",
   "execution_count": 6,
   "metadata": {},
   "outputs": [],
   "source": [
    "def fact_two():\n",
    "    a = 2\n",
    "    ans = a\n",
    "    while a > 1:\n",
    "        ans = ans * (a-1)\n",
    "        a = a - 1\n",
    "    return ans"
   ]
  },
  {
   "cell_type": "code",
   "execution_count": 7,
   "metadata": {},
   "outputs": [],
   "source": [
    "my_ans = fact_two()"
   ]
  },
  {
   "cell_type": "code",
   "execution_count": 8,
   "metadata": {},
   "outputs": [
    {
     "data": {
      "text/plain": [
       "2"
      ]
     },
     "execution_count": 8,
     "metadata": {},
     "output_type": "execute_result"
    }
   ],
   "source": [
    "my_ans "
   ]
  },
  {
   "cell_type": "markdown",
   "metadata": {},
   "source": [
    "# 6-2. Using Named Parameters Rather Than Positional Parameters\n",
    "\n",
    "You want to hand in parameters to your function, optionally using names. This allows for\n",
    "parameters being handed in to your function in an arbitrary order.\n",
    "<br>\n",
    "Since variable names are untyped in Python, you simply need to add names to the\n",
    "parameter list within the parentheses . These can be used based on position or they can\n",
    "be explicitly by name.\n",
    "<br>\n",
    "Adding parameters can be done very simply, as in Listing 6-4 .\n",
    "#### Listing 6-4. Squaring Any Number"
   ]
  },
  {
   "cell_type": "code",
   "execution_count": 10,
   "metadata": {},
   "outputs": [],
   "source": [
    "def square_num(a):\n",
    "    return a*a"
   ]
  },
  {
   "cell_type": "markdown",
   "metadata": {},
   "source": [
    "You can then call this function two different ways, either by position or by label.\n",
    "#### Listing 6-5. Calling Functions with Parameters"
   ]
  },
  {
   "cell_type": "code",
   "execution_count": 11,
   "metadata": {},
   "outputs": [
    {
     "data": {
      "text/plain": [
       "4"
      ]
     },
     "execution_count": 11,
     "metadata": {},
     "output_type": "execute_result"
    }
   ],
   "source": [
    "square_num(2)"
   ]
  },
  {
   "cell_type": "code",
   "execution_count": 12,
   "metadata": {},
   "outputs": [
    {
     "data": {
      "text/plain": [
       "9"
      ]
     },
     "execution_count": 12,
     "metadata": {},
     "output_type": "execute_result"
    }
   ],
   "source": [
    "square_num(a=3)"
   ]
  },
  {
   "cell_type": "markdown",
   "metadata": {},
   "source": [
    "If you have more than one parameter, you can mix the use of positional and named\n",
    "parameters . The only thing to be aware of is that all positional parameters need to be\n",
    "included before using any named parameters. Listing 6-6 shows a simple example.\n",
    "#### Listing 6-6. Multiplying Many Numbers"
   ]
  },
  {
   "cell_type": "code",
   "execution_count": 13,
   "metadata": {},
   "outputs": [],
   "source": [
    "def multiplication(a, b, c):\n",
    "    return a*b*c"
   ]
  },
  {
   "cell_type": "code",
   "execution_count": 14,
   "metadata": {},
   "outputs": [
    {
     "data": {
      "text/plain": [
       "6"
      ]
     },
     "execution_count": 14,
     "metadata": {},
     "output_type": "execute_result"
    }
   ],
   "source": [
    "multiplication(1, 2, 3)"
   ]
  },
  {
   "cell_type": "code",
   "execution_count": 15,
   "metadata": {},
   "outputs": [
    {
     "data": {
      "text/plain": [
       "6"
      ]
     },
     "execution_count": 15,
     "metadata": {},
     "output_type": "execute_result"
    }
   ],
   "source": [
    "multiplication(2, c=3, b=1)"
   ]
  },
  {
   "cell_type": "markdown",
   "metadata": {},
   "source": [
    "If you try something like multiplication (1, a=2, c=3) , you will get an error\n",
    "because by positional rules you have already given a a value, and then you try to give it\n",
    "another value with the named parameter a=2 . Also, if you try to use a positional parameter\n",
    "after a named parameter, such as multiplication(a=1,b=2,3) , you will also get an error.\n",
    "# 6-3. Using Default Values in Functions\n",
    "\n",
    "You want to allow a function to use default values if none are handed in.\n",
    "<br>\n",
    "When a function and its input parameters are defined, you can include a default value to\n",
    "use if none are provided.\n",
    "<br>\n",
    "You can simply state what the default values need to be when you define the function, as\n",
    "in Listing 6-7 .\n",
    "#### Listing 6-7. Defining Default Parameter Values"
   ]
  },
  {
   "cell_type": "code",
   "execution_count": 17,
   "metadata": {},
   "outputs": [],
   "source": [
    "def multiplication(a=1,b=2,c=3):\n",
    "    return a*b*c"
   ]
  },
  {
   "cell_type": "markdown",
   "metadata": {},
   "source": [
    "All of the rules around positional and named parameters still apply. Listing 6-8\n",
    "shows some examples.\n",
    "#### Listing 6-8. Multiplication Examples"
   ]
  },
  {
   "cell_type": "code",
   "execution_count": 18,
   "metadata": {},
   "outputs": [
    {
     "data": {
      "text/plain": [
       "6"
      ]
     },
     "execution_count": 18,
     "metadata": {},
     "output_type": "execute_result"
    }
   ],
   "source": [
    "multiplication()"
   ]
  },
  {
   "cell_type": "code",
   "execution_count": 19,
   "metadata": {},
   "outputs": [
    {
     "data": {
      "text/plain": [
       "30"
      ]
     },
     "execution_count": 19,
     "metadata": {},
     "output_type": "execute_result"
    }
   ],
   "source": [
    "multiplication(5)"
   ]
  },
  {
   "cell_type": "code",
   "execution_count": 20,
   "metadata": {},
   "outputs": [
    {
     "data": {
      "text/plain": [
       "3"
      ]
     },
     "execution_count": 20,
     "metadata": {},
     "output_type": "execute_result"
    }
   ],
   "source": [
    "multiplication(1,1)"
   ]
  },
  {
   "cell_type": "code",
   "execution_count": 21,
   "metadata": {},
   "outputs": [
    {
     "data": {
      "text/plain": [
       "2"
      ]
     },
     "execution_count": 21,
     "metadata": {},
     "output_type": "execute_result"
    }
   ],
   "source": [
    "multiplication(c=1)"
   ]
  },
  {
   "cell_type": "markdown",
   "metadata": {},
   "source": [
    "Now that you have default values, you have actions that can happen invisibly to\n",
    "someone who has not read the code for themselves. In this case, it makes sense to switch\n",
    "to using strictly named parameters to help clarify the code and to aid in future code\n",
    "maintenance.\n",
    "# 6-4. Implementing a Recursive Algorithm\n",
    "You need to implement a recursive algorithm within your Python program.\n",
    "<br>\n",
    "Python supports recursion, so you can call a function from within itself.\n",
    "<br>\n",
    "Since Python supports recursion, you can simply call a function directly. The classic\n",
    "example is calculating a factorial, as in Listing 6-9 .\n",
    "#### Listing 6-9. Calculating Factorials Through Recursion"
   ]
  },
  {
   "cell_type": "code",
   "execution_count": 22,
   "metadata": {},
   "outputs": [],
   "source": [
    "def fact(a):\n",
    "    if a == 1:\n",
    "        return 1\n",
    "    else:\n",
    "        return a * fact(a-1)"
   ]
  },
  {
   "cell_type": "code",
   "execution_count": 23,
   "metadata": {},
   "outputs": [
    {
     "data": {
      "text/plain": [
       "120"
      ]
     },
     "execution_count": 23,
     "metadata": {},
     "output_type": "execute_result"
    }
   ],
   "source": [
    "fact(5)"
   ]
  },
  {
   "cell_type": "markdown",
   "metadata": {},
   "source": [
    "While there are some algorithms that only really work as a recursive function, they\n",
    "should be approached warily. Recursive functions actually are nested function calls. This\n",
    "means that each step through the recursion needs to push the current state onto the stack\n",
    "before the next call. You can very quickly use up large amounts of RAM, depending on what\n",
    "needs to be tracked. Also, each function call requires more time to do the context switch. So\n",
    "always be sure that this is the only solution before diving into a recursive function.\n",
    "# 6-5. Using Lambda Functions to Create Temporary Anonymous Functions\n",
    "\n",
    "You need a function temporarily (as a parameter for another function, for example) and\n",
    "don’t need it accessible by name.\n",
    "<br>\n",
    "Python has the mechanism of the built-in lambda statement, which provides the ability to\n",
    "create and use anonymous functions.\n",
    "<br>\n",
    "To show how you can use lambda functions , we need an example that requires one.\n",
    "Listing 6-10 shows a function that takes two parameters and a function, and executes the\n",
    "given function with the two given parameters as input.\n",
    "#### Listing 6-10. Applying a Function"
   ]
  },
  {
   "cell_type": "code",
   "execution_count": 24,
   "metadata": {},
   "outputs": [],
   "source": [
    "def apply_operator(a, b, f):\n",
    "    return f(a,b)"
   ]
  },
  {
   "cell_type": "markdown",
   "metadata": {},
   "source": [
    "If you want to just use a one-off function in the above example code, you can use a\n",
    "lambda function directly within the call. Listing 6-11 shows how to apply a multiplication\n",
    "function.\n",
    "#### Listing 6-11. Applying a Multiplication Function"
   ]
  },
  {
   "cell_type": "code",
   "execution_count": 25,
   "metadata": {},
   "outputs": [
    {
     "data": {
      "text/plain": [
       "6"
      ]
     },
     "execution_count": 25,
     "metadata": {},
     "output_type": "execute_result"
    }
   ],
   "source": [
    "apply_operator(2, 3, lambda x, y: x*y)"
   ]
  },
  {
   "cell_type": "markdown",
   "metadata": {},
   "source": [
    "The big limitation with lambda functions is that they are restricted to a single\n",
    "expression line. Anything larger than that needs to be defined as a regular function.\n",
    "# 6-6. Generating Specialized Functions\n",
    "\n",
    "You need to create a function that can generate specialized functions for special cases.\n",
    "For example, you might want a different averaging function for complex numbers rather\n",
    "than for regular floating point numbers.\n",
    "<br>\n",
    "Using lambda functions, you can generate specialized functions.\n",
    "<br>\n",
    "Since functions are simply another type of object, they can be returned from a function\n",
    "call. Using this fact, you can create a function that takes in some input parameter and\n",
    "kicks out a function defined by it. For example, Listing 6-12 generates a scaling function\n",
    "based on an input value.\n",
    "#### Listing 6-12. Generating Scaling Functions"
   ]
  },
  {
   "cell_type": "code",
   "execution_count": 26,
   "metadata": {},
   "outputs": [],
   "source": [
    "def generate_scaler(a):\n",
    "    return lambda x: a*x"
   ]
  },
  {
   "cell_type": "markdown",
   "metadata": {},
   "source": [
    "You can then use this generator to create a function that scales numbers by 2 or 3, as\n",
    "in Listing 6-13 .\n",
    "#### Listing 6-13. Function Generator Examples"
   ]
  },
  {
   "cell_type": "code",
   "execution_count": 28,
   "metadata": {},
   "outputs": [],
   "source": [
    "doubler = generate_scaler(2)"
   ]
  },
  {
   "cell_type": "code",
   "execution_count": 29,
   "metadata": {},
   "outputs": [
    {
     "data": {
      "text/plain": [
       "6"
      ]
     },
     "execution_count": 29,
     "metadata": {},
     "output_type": "execute_result"
    }
   ],
   "source": [
    "doubler(3)"
   ]
  },
  {
   "cell_type": "code",
   "execution_count": 30,
   "metadata": {},
   "outputs": [],
   "source": [
    "tripler = generate_scaler(3)"
   ]
  },
  {
   "cell_type": "code",
   "execution_count": 31,
   "metadata": {},
   "outputs": [
    {
     "data": {
      "text/plain": [
       "9"
      ]
     },
     "execution_count": 31,
     "metadata": {},
     "output_type": "execute_result"
    }
   ],
   "source": [
    "tripler(3)"
   ]
  }
 ],
 "metadata": {
  "kernelspec": {
   "display_name": "Python 3",
   "language": "python",
   "name": "python3"
  },
  "language_info": {
   "codemirror_mode": {
    "name": "ipython",
    "version": 3
   },
   "file_extension": ".py",
   "mimetype": "text/x-python",
   "name": "python",
   "nbconvert_exporter": "python",
   "pygments_lexer": "ipython3",
   "version": "3.6.4"
  }
 },
 "nbformat": 4,
 "nbformat_minor": 2
}
