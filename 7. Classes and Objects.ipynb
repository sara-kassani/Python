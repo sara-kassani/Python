{
 "cells": [
  {
   "cell_type": "markdown",
   "metadata": {},
   "source": [
    "# Classes and Objects\n",
    "Once you have a way of storing blocks of code into reusable functions, it is a natural\n",
    "progression to want to bundle multiple functions together into larger blocks of reusable\n",
    "code called objects. Along with this actual code, you may also want to store data in the form\n",
    "of properties. In order to define these new objects, you need to create classes and then\n",
    "instantiate them into actual objects that you can use. In this chapter, you will look at some\n",
    "of the most common tasks that come up when you start defining and using new objects.\n",
    "### 7-1. Discovering the Type of an Object\n",
    "(Everything Is an Object)\n",
    "Just about everything in Python is an object. The important thing is to find out what kind\n",
    "of object you have in your possession. <br>\n",
    "##### Solution\n",
    "The built-in function type() returns the class of the object handed in as the parameter.\n",
    "You can also use isinstance() to test whether the given object is of the same type of\n",
    "some particular class.\n",
    "#### Listing 7-1.  Checking the Type of an Object"
   ]
  },
  {
   "cell_type": "code",
   "execution_count": 1,
   "metadata": {},
   "outputs": [
    {
     "data": {
      "text/plain": [
       "int"
      ]
     },
     "execution_count": 1,
     "metadata": {},
     "output_type": "execute_result"
    }
   ],
   "source": [
    "a = 1\n",
    "type(a)"
   ]
  },
  {
   "cell_type": "code",
   "execution_count": 2,
   "metadata": {},
   "outputs": [
    {
     "data": {
      "text/plain": [
       "str"
      ]
     },
     "execution_count": 2,
     "metadata": {},
     "output_type": "execute_result"
    }
   ],
   "source": [
    "b = \"Hello World\"\n",
    "type(b)"
   ]
  },
  {
   "cell_type": "markdown",
   "metadata": {},
   "source": [
    "This will query the given object and return a type object for the inputted object. You\n",
    "can use this to check if two objects are of the same class. If you want to see if an object is\n",
    "of a particular class, you can use isinstance(), as in Listing 7-2.\n",
    "#### Listing 7-2.  Is an Object of a Particular Class?"
   ]
  },
  {
   "cell_type": "code",
   "execution_count": 3,
   "metadata": {},
   "outputs": [
    {
     "data": {
      "text/plain": [
       "True"
      ]
     },
     "execution_count": 3,
     "metadata": {},
     "output_type": "execute_result"
    }
   ],
   "source": [
    "a = 1\n",
    "isinstance(a, int)"
   ]
  },
  {
   "cell_type": "markdown",
   "metadata": {},
   "source": [
    "## 7-2. Creating Classes\n",
    "You wish to create a new class, encapsulating a set of methods and attributes, to use in\n",
    "other pieces of code.\n",
    "#### Solution\n",
    "The class keyword allows you to define a new class.\n",
    "<br>\n",
    "As with functions, defining a new class is as simple as using the class keyword and then\n",
    "having an indented block of code. You can see a very simple example in Listing 7-3.\n",
    "#### Listing 7-3.  Creating a Simple Class"
   ]
  },
  {
   "cell_type": "code",
   "execution_count": 5,
   "metadata": {},
   "outputs": [],
   "source": [
    "class my_simple_class:\n",
    "    a = 3\n",
    "    b = \"Hello World\""
   ]
  },
  {
   "cell_type": "markdown",
   "metadata": {},
   "source": [
    "#### Listing 7-4.  Creating a Complex Class"
   ]
  },
  {
   "cell_type": "code",
   "execution_count": 6,
   "metadata": {},
   "outputs": [],
   "source": [
    "class my_complex_class:\n",
    "    a = 42\n",
    "    def method1():\n",
    "        print(\"The value of a is \" + str(a))\n",
    "    b = \"Hello World\""
   ]
  },
  {
   "cell_type": "markdown",
   "metadata": {},
   "source": [
    "#### 7-3. Adding Private Fields\n",
    "You wish to have some parts of your class private—that is, not accessible from other\n",
    "pieces of code.\n",
    "<br>\n",
    "In Python, all methods and attributes are publicly visible. As a solution, the addition\n",
    "of underscore characters to the name of the attribute or method is nearly universally\n",
    "accepted as representing an element that is not meant for public consumption.\n",
    "<br>\n",
    "Defining an attribute that is meant to be only used within the class in question should be\n",
    "prefixed with at least one underscore character. The usual way this is done is to actually\n",
    "add two underscore characters to both the beginning and ending of the element names,\n",
    "as in Listing 7-5.\n",
    "#### Listing 7-5.  Creating a Private Variable"
   ]
  },
  {
   "cell_type": "code",
   "execution_count": 7,
   "metadata": {},
   "outputs": [],
   "source": [
    "class priv_vars:\n",
    "    __a__ = \"This is a private variable\""
   ]
  },
  {
   "cell_type": "markdown",
   "metadata": {},
   "source": [
    "There is a special form of a private name that induces Python to rename the element\n",
    "using a system of name mangling. If you have an element that may have the same name\n",
    "as some other element, you can add at least two leading underscore characters and at\n",
    "most one trailing underscore. Python will then prepend the class name to the element\n",
    "name. For example, if you had a class like"
   ]
  },
  {
   "cell_type": "code",
   "execution_count": 8,
   "metadata": {},
   "outputs": [],
   "source": [
    "class my_class1:\n",
    "    __a_ = 1"
   ]
  },
  {
   "cell_type": "markdown",
   "metadata": {},
   "source": [
    "the attribute __a_ would be renamed as _my_class__a_ in order to avoid name collision.\n",
    "#### 7-4. Subclassing\n",
    "You want to build on the functionality provided in another class.\n",
    "<br>\n",
    "The ability to subclass is key to any object-oriented programming language. Python\n",
    "supports inheritance from either a single base class or a multiple of base classes.\n",
    "<br>\n",
    "Inheriting from a class is a simple matter of adding a reference to the class in question in\n",
    "the definition of your new class. A simple example is given in Listing 7-6.\n",
    "\n",
    "#### Listing 7-6.  Inheriting from a Class"
   ]
  },
  {
   "cell_type": "code",
   "execution_count": 9,
   "metadata": {},
   "outputs": [],
   "source": [
    "class animal:\n",
    "    type = \"mammal\"\n",
    "class dog(animal):\n",
    "    breed = \"labrador\""
   ]
  },
  {
   "cell_type": "code",
   "execution_count": 10,
   "metadata": {},
   "outputs": [],
   "source": [
    "my_dog = dog()"
   ]
  },
  {
   "cell_type": "code",
   "execution_count": 11,
   "metadata": {},
   "outputs": [
    {
     "data": {
      "text/plain": [
       "'labrador'"
      ]
     },
     "execution_count": 11,
     "metadata": {},
     "output_type": "execute_result"
    }
   ],
   "source": [
    "my_dog.breed"
   ]
  },
  {
   "cell_type": "code",
   "execution_count": 12,
   "metadata": {},
   "outputs": [
    {
     "data": {
      "text/plain": [
       "'mammal'"
      ]
     },
     "execution_count": 12,
     "metadata": {},
     "output_type": "execute_result"
    }
   ],
   "source": [
    "my_dog.type"
   ]
  },
  {
   "cell_type": "markdown",
   "metadata": {},
   "source": [
    "As you can see, the class dog inherits the attribute of the animal type. The way\n",
    "methods and attributes are resolved is that the main class is checked first to see if it exists\n",
    "there. If it doesn't, then Python will check any inherited class to see if the attribute or\n",
    "method exists there. This means that you can override inherited methods or attributes\n",
    "with your own version. In Listing 7-7, the animal type is changed to bird.\n",
    "#### Listing 7-7.  Overriding Class Attributes"
   ]
  },
  {
   "cell_type": "code",
   "execution_count": 13,
   "metadata": {},
   "outputs": [
    {
     "data": {
      "text/plain": [
       "'bird'"
      ]
     },
     "execution_count": 13,
     "metadata": {},
     "output_type": "execute_result"
    }
   ],
   "source": [
    "class bird(animal):\n",
    "    type = \"bird\"\n",
    "my_bird = bird()\n",
    "my_bird.type"
   ]
  },
  {
   "cell_type": "markdown",
   "metadata": {},
   "source": [
    "If you are inheriting from multiple classes, you can simply add them as multiple\n",
    "parameters in your class definition, as in Listing 7-8.\n",
    "#### Listing 7-8.  Multiple Inheritance"
   ]
  },
  {
   "cell_type": "code",
   "execution_count": 26,
   "metadata": {},
   "outputs": [],
   "source": [
    "#class eagle(animal, bird):\n",
    "class eagle(bird):\n",
    "    species = \"eagle\""
   ]
  },
  {
   "cell_type": "code",
   "execution_count": 27,
   "metadata": {},
   "outputs": [
    {
     "data": {
      "text/plain": [
       "'bird'"
      ]
     },
     "execution_count": 27,
     "metadata": {},
     "output_type": "execute_result"
    }
   ],
   "source": [
    "my_eagle = eagle()\n",
    "my_eagle.type"
   ]
  },
  {
   "cell_type": "markdown",
   "metadata": {},
   "source": [
    "As you can see, order matters when dealing with multiple inheritances. When\n",
    "Python tries to resolve where a method or attribute is defined, it begins with the main\n",
    "class and then continues through the inherited classes in order from left to right until it\n",
    "finds the first instance of said method or attribute. In the above case, the correct order of\n",
    "inheritance should be class eagle(bird, animal).\n",
    "### 7-5. Initializing Objects\n",
    "You need to have some initial values or initial processing steps executed when a new\n",
    "object is instantiated.\n",
    "#### Solution\n",
    "You can use the private method __init__ to run setup code at initialization.\n",
    "<br>\n",
    "When Python instantiates a new object, it looks to see if there is a method called __\n",
    "init__. If it finds it, this function is executed as soon as the instantiation is finished. It can\n",
    "also take parameters at instantiation time that can be used to further handle setup steps,\n",
    "as in Listing 7-9.\n",
    "#### Listing 7-9.  Initialization Functions"
   ]
  },
  {
   "cell_type": "code",
   "execution_count": 28,
   "metadata": {},
   "outputs": [],
   "source": [
    "class my_complex:\n",
    "    def __init__(self, real_part, imaginary_part):\n",
    "        self.r = real_part\n",
    "        self.i = imaginary_part"
   ]
  },
  {
   "cell_type": "code",
   "execution_count": 29,
   "metadata": {},
   "outputs": [
    {
     "data": {
      "text/plain": [
       "2"
      ]
     },
     "execution_count": 29,
     "metadata": {},
     "output_type": "execute_result"
    }
   ],
   "source": [
    "complex_num = my_complex(2, 3)\n",
    "complex_num.r"
   ]
  },
  {
   "cell_type": "markdown",
   "metadata": {},
   "source": [
    "The parameter self refers to the object being instantiated, allowing you to interact\n",
    "with the object during initialization.\n",
    "### 7-6. Comparing Objects\n",
    "You need to compare two objects to see if they are the same.\n",
    "<br>\n",
    "When comparing objects, there are two different ideas of equality: comparing an object to\n",
    "itself and seeing if two different objects have the same attributes.\n",
    "<br>\n",
    "The first type of equality is to test whether two variable names are actually pointing to\n",
    "the same object. This is a side effect of the separation between objects and the labels\n",
    "that point to them within Python. To test for this type of equality, you need to use the\n",
    "operators is and is not, as in Listing 7-10.\n",
    "### Listing 7-10.  Comparing Object Identities"
   ]
  },
  {
   "cell_type": "code",
   "execution_count": 30,
   "metadata": {},
   "outputs": [
    {
     "data": {
      "text/plain": [
       "True"
      ]
     },
     "execution_count": 30,
     "metadata": {},
     "output_type": "execute_result"
    }
   ],
   "source": [
    "a = \"string1\"\n",
    "b = a\n",
    "a is b"
   ]
  },
  {
   "cell_type": "markdown",
   "metadata": {},
   "source": [
    "The next type of comparison involves comparing the contents of two objects to see\n",
    "if they have the same value. The concept of value is not a general concept in Python. The\n",
    "calculation of object value is handled by the operator code executed when you use the\n",
    "operators ==, !=, <=, >=, <, and >. Depending on the details of any classes that you have\n",
    "defined, you may want to override the code for these comparison operators. For example,\n",
    "let's say that you have created a class that represents a book and you wish to use the\n",
    "number of pages as the value of a given book object. You can then override the operators\n",
    "with the code in Listing 7-11.\n",
    "### Listing 7-11.  Overriding Comparison Operators"
   ]
  },
  {
   "cell_type": "code",
   "execution_count": 32,
   "metadata": {},
   "outputs": [],
   "source": [
    "class book:\n",
    "    def __init__(self, pages):\n",
    "        self.pages = pages\n",
    "    def __lt__(self, other):\n",
    "        return self.pages < other\n",
    "    def __gt__(self, other):\n",
    "        return self.pages > other"
   ]
  },
  {
   "cell_type": "markdown",
   "metadata": {},
   "source": [
    "and so on, for all of the operator methods.\n",
    "### 7-7. Changing an Object After Creation\n",
    "You need to change an object after it has been created.\n",
    "<br>\n",
    "Within Python, almost all objects are malleable and can be altered in terms of their\n",
    "attributes and methods. Built-in objects, like str or int, aren't malleable. Objects that\n",
    "are created from your own class definitions are malleable and can have new attributes\n",
    "dynamically created and used.\n",
    "<br>\n",
    "As an example, you can add the title of your books, using the class defined in Listing 7-11,\n",
    "by simply using a new attribute named title, as in Listing 7-12.\n",
    "\n",
    "### Listing 7-12.  Dynamically Created Attributes"
   ]
  },
  {
   "cell_type": "code",
   "execution_count": 33,
   "metadata": {},
   "outputs": [
    {
     "data": {
      "text/plain": [
       "'My Book'"
      ]
     },
     "execution_count": 33,
     "metadata": {},
     "output_type": "execute_result"
    }
   ],
   "source": [
    "book1 = book(42)\n",
    "book1.title = \"My Book\"\n",
    "book1.title"
   ]
  },
  {
   "cell_type": "markdown",
   "metadata": {},
   "source": [
    "You can use this malleability to create really fast, flexible data structures by defining a\n",
    "class that doesn't do anything, as in Listing 7-13.\n",
    "### Listing 7-13.  Empty Classes for Data Storage"
   ]
  },
  {
   "cell_type": "code",
   "execution_count": 35,
   "metadata": {},
   "outputs": [],
   "source": [
    "class my_container:\n",
    "    pass"
   ]
  },
  {
   "cell_type": "code",
   "execution_count": 36,
   "metadata": {},
   "outputs": [],
   "source": [
    "container1 = my_container()\n",
    "container1.label = \"The first container\"\n",
    "container1.phone = \"555-5555\"\n",
    "container1.name = \"John Doe\""
   ]
  },
  {
   "cell_type": "markdown",
   "metadata": {},
   "source": [
    "The keyword pass is a no-op function. It essentially takes up space where an\n",
    "expression is supposed to go, but tells Python that there is not actually any code to run.\n",
    "This lets you create a completely empty object that you can then add to later.\n",
    "### 7-8. Implementing Polymorphic Behavior\n",
    "\n",
    "You need to include behavior that changes depending on what inputs are being given.\n",
    "<br>\n",
    "Python handles polymorphism through the fact that it is a duck-typed language. Basically,\n",
    "when a function tries to use an object as a parameter, it will actually get the value from the\n",
    "object through some standard method that the object needs to implement.\n",
    "<br>\n",
    "The best way to show this technique is to use an example. Listing 7-14 shows a series of\n",
    "classes and functions to be used in this example.\n",
    "### Listing 7-14.  Polymorphic Classes and Methods"
   ]
  },
  {
   "cell_type": "code",
   "execution_count": 37,
   "metadata": {},
   "outputs": [],
   "source": [
    "class dog:\n",
    "    def talk(self):\n",
    "        print(\"bark\")"
   ]
  },
  {
   "cell_type": "code",
   "execution_count": 38,
   "metadata": {},
   "outputs": [],
   "source": [
    "class cat:\n",
    "    def talk(self):\n",
    "        print(\"meow\")"
   ]
  },
  {
   "cell_type": "code",
   "execution_count": 39,
   "metadata": {},
   "outputs": [],
   "source": [
    "def speak(animal):\n",
    "    animal.talk()"
   ]
  },
  {
   "cell_type": "markdown",
   "metadata": {},
   "source": [
    "From here, you will get different behavior from the function speak() based on which\n",
    "type of animal you hand in as a parameter. Listing 7-15 shows an example of this varying\n",
    "behavior.\n",
    "### Listing 7-15.  Polymorphic Behavior"
   ]
  },
  {
   "cell_type": "code",
   "execution_count": 40,
   "metadata": {},
   "outputs": [],
   "source": [
    "my_dog = dog()\n",
    "my_cat = cat()"
   ]
  },
  {
   "cell_type": "code",
   "execution_count": 41,
   "metadata": {},
   "outputs": [
    {
     "name": "stdout",
     "output_type": "stream",
     "text": [
      "bark\n"
     ]
    }
   ],
   "source": [
    "speak(my_dog)"
   ]
  },
  {
   "cell_type": "code",
   "execution_count": 42,
   "metadata": {},
   "outputs": [
    {
     "name": "stdout",
     "output_type": "stream",
     "text": [
      "meow\n"
     ]
    }
   ],
   "source": [
    "speak(my_cat)"
   ]
  }
 ],
 "metadata": {
  "kernelspec": {
   "display_name": "Python 3",
   "language": "python",
   "name": "python3"
  },
  "language_info": {
   "codemirror_mode": {
    "name": "ipython",
    "version": 3
   },
   "file_extension": ".py",
   "mimetype": "text/x-python",
   "name": "python",
   "nbconvert_exporter": "python",
   "pygments_lexer": "ipython3",
   "version": "3.6.4"
  }
 },
 "nbformat": 4,
 "nbformat_minor": 2
}
