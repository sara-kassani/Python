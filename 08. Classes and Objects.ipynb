{
 "cells": [
  {
   "cell_type": "markdown",
   "metadata": {},
   "source": [
    "## Define a class"
   ]
  },
  {
   "cell_type": "code",
   "execution_count": 1,
   "metadata": {},
   "outputs": [],
   "source": [
    "class Dog:\n",
    "\n",
    "    pass"
   ]
  },
  {
   "cell_type": "markdown",
   "metadata": {},
   "source": [
    "## Create objects"
   ]
  },
  {
   "cell_type": "code",
   "execution_count": null,
   "metadata": {},
   "outputs": [],
   "source": [
    "my_dog = Dog()\n",
    "\n",
    "your_dog = Dog()\n",
    "\n",
    "top_dog = Dog()"
   ]
  },
  {
   "cell_type": "markdown",
   "metadata": {},
   "source": [
    "### How Do I Attach Data to Objects?"
   ]
  },
  {
   "cell_type": "code",
   "execution_count": 3,
   "metadata": {},
   "outputs": [],
   "source": [
    "# Define an object\n",
    "my_dog = Dog()\n",
    "\n",
    "# Add data\n",
    "my_dog.name = 'Skyler'\n",
    "my_dog.breed = 'Great Dane'\n",
    "my_dog.age = 7"
   ]
  },
  {
   "cell_type": "markdown",
   "metadata": {},
   "source": [
    "Three pieces of information—name, breed, and age—are now attached to my_dog. We can do the same thing to another dog object, this time using different values."
   ]
  },
  {
   "cell_type": "code",
   "execution_count": 4,
   "metadata": {},
   "outputs": [],
   "source": [
    "your_dog = Dog()\n",
    "\n",
    "your_dog.name = 'Handsome Dan'\n",
    "\n",
    "your_dog.breed = 'Bulldog'\n",
    "\n",
    "your_dog.age = 12"
   ]
  },
  {
   "cell_type": "markdown",
   "metadata": {},
   "source": [
    "All this information can now be used anywhere appropriate, **by again using the dot notation**. Here’s an example:"
   ]
  },
  {
   "cell_type": "code",
   "execution_count": 7,
   "metadata": {},
   "outputs": [
    {
     "name": "stdout",
     "output_type": "stream",
     "text": [
      "My dog's name is:  Skyler\n",
      "Your dog's name is:  Handsome Dan\n"
     ]
    }
   ],
   "source": [
    "print('My dog\\'s name is: ', my_dog.name)\n",
    "\n",
    "print('Your dog\\'s name is: ', your_dog.name)"
   ]
  },
  {
   "cell_type": "markdown",
   "metadata": {},
   "source": [
    "But there’s a limitation. Creating instance variables on an ad hoc basis does nothing to guarantee that all objects of the same class include the same instance variables. Here’s an example:\n",
    "\n",
    "\n",
    "``top_dog = Dog()``\n",
    "\n",
    "``top_dog.name = ’Alfie the Alpha’``\n",
    "\n",
    "``top_dog.breed = ’Border Collie’``\n",
    "\n",
    "``print(top_dog.age)     # ERROR! ’Age’ never created!``\n",
    "\n",
    "The problem in this case is that just because the other dogs were given an age variable doesn’t mean that Alfie was."
   ]
  },
  {
   "cell_type": "markdown",
   "metadata": {},
   "source": [
    "### How Do I Write Methods?\n",
    "\n",
    "Writing a method is how we give objects of a class the ability to respond to messages; another way of saying this is that methods give objects of a class behavior.\n",
    "<br><br>\n",
    "One of the most important rules in object orientation is that methods are always written at the class level, even though data is mostly stored at the instance level. That’s important enough to state as a golden rule:\n",
    "<br><br>\n",
    "In Python, as elsewhere, **methods are functions defined inside class definitions—even though they may be called through an object (an “instance method”).**"
   ]
  },
  {
   "cell_type": "markdown",
   "metadata": {},
   "source": [
    "The general syntax is\n",
    "\n",
    "**class class_name:**\n",
    "\n",
    "     def method_name(self, other_args):\n",
    "\n",
    "        statements"
   ]
  },
  {
   "cell_type": "code",
   "execution_count": 9,
   "metadata": {},
   "outputs": [],
   "source": [
    "class Dog:\n",
    "\n",
    "    def speak(self):\n",
    "\n",
    "        print('Ruff, ruff!')"
   ]
  },
  {
   "cell_type": "code",
   "execution_count": 10,
   "metadata": {},
   "outputs": [],
   "source": [
    "class Cat:\n",
    "\n",
    "    def speak(self):\n",
    "\n",
    "        print('Meow!')"
   ]
  },
  {
   "cell_type": "markdown",
   "metadata": {},
   "source": [
    "#### Create instances"
   ]
  },
  {
   "cell_type": "code",
   "execution_count": 11,
   "metadata": {},
   "outputs": [],
   "source": [
    "d = Dog()   # Don’t forget parentheses when\n",
    "\n",
    "c = Cat()   #  creating objects!"
   ]
  },
  {
   "cell_type": "code",
   "execution_count": 12,
   "metadata": {},
   "outputs": [
    {
     "name": "stdout",
     "output_type": "stream",
     "text": [
      "Ruff, ruff!\n"
     ]
    }
   ],
   "source": [
    "d.speak()"
   ]
  },
  {
   "cell_type": "code",
   "execution_count": 13,
   "metadata": {},
   "outputs": [
    {
     "name": "stdout",
     "output_type": "stream",
     "text": [
      "Meow!\n"
     ]
    }
   ],
   "source": [
    "c.speak()"
   ]
  },
  {
   "cell_type": "markdown",
   "metadata": {},
   "source": [
    "___"
   ]
  },
  {
   "cell_type": "code",
   "execution_count": null,
   "metadata": {},
   "outputs": [],
   "source": []
  },
  {
   "cell_type": "code",
   "execution_count": 14,
   "metadata": {},
   "outputs": [],
   "source": [
    "def cry(x):    # Define cry, a new function.\n",
    "    x.speak()\n",
    "    x.speak()"
   ]
  },
  {
   "cell_type": "code",
   "execution_count": 15,
   "metadata": {},
   "outputs": [
    {
     "name": "stdout",
     "output_type": "stream",
     "text": [
      "Ruff, ruff!\n",
      "Ruff, ruff!\n"
     ]
    }
   ],
   "source": [
    "cry(d)"
   ]
  },
  {
   "cell_type": "code",
   "execution_count": 16,
   "metadata": {},
   "outputs": [
    {
     "name": "stdout",
     "output_type": "stream",
     "text": [
      "Meow!\n",
      "Meow!\n"
     ]
    }
   ],
   "source": [
    "cry(c)"
   ]
  },
  {
   "cell_type": "markdown",
   "metadata": {},
   "source": [
    "___"
   ]
  },
  {
   "cell_type": "markdown",
   "metadata": {},
   "source": [
    "### The __init__ Method\n",
    "Python has a number of special method names. These names are effectively reserved words, and they start and end with double underscores (__).\n",
    "<br>\n",
    "The **``_ _init_ _``** method is one of the most important methods. It is an initialization method, called just after an object of the class is created. This is the ideal place to create **instance variables**. The initialization method ensures that all objects of the class support a common group of variables.\n",
    "\n",
    "\n",
    "**The general syntax:**\n",
    "\n",
    "\n",
    "class class_name:\n",
    "\n",
    "    def __init__(self, other_args)\n",
    "\n",
    "        self.var_name = arg\n",
    "\n",
    "        self.var_name = arg\n",
    "\n",
    "        self.var_name = arg"
   ]
  },
  {
   "cell_type": "code",
   "execution_count": 17,
   "metadata": {},
   "outputs": [],
   "source": [
    "class Dog:\n",
    "\n",
    "    def __init__(self, name, breed, age):\n",
    "\n",
    "        self.name = name\n",
    "\n",
    "        self.breed = breed\n",
    "\n",
    "        self.age = age"
   ]
  },
  {
   "cell_type": "code",
   "execution_count": 19,
   "metadata": {},
   "outputs": [],
   "source": [
    "a_dog = Dog('Speedy', 'Greyhound', 5)\n",
    "\n",
    "b_dog = Dog(breed = 'Poodle', name = 'Toots', age = 3)"
   ]
  },
  {
   "cell_type": "markdown",
   "metadata": {},
   "source": [
    "When Python evaluates a method called through an object, it automatically passes a hidden argument: a reference to the object itself. But this argument is not hidden within the method definition, which is why (generally speaking) a method definition will have a total of N+1 arguments, where N was the number explicitly passed.\n",
    "<br><br>\n",
    "Within a definition, when you see a variable modified by self, you know that this is a reference to an instance variable. So, statements such as the following cannot be misinterpreted. The left side is an instance variable; the right is an argument.\n",
    "\n",
    "``self.name = name``\n",
    "<br><br>\n",
    "One way to think of an object is a “data record plus.” By this, I mean that—at minimum—a class does everything a data record does. For example, with an employee data record, we might want to have the following fields:\n",
    "<br><br>\n",
    " Employee name\n",
    "<br><br>\n",
    " Employee job name\n",
    "<br><br>\n",
    " Employee job rank\n",
    "<br><br>\n",
    " Employee salary\n",
    "<br><br>\n",
    "This is typical of a class: it consists of four different fields with different data formats. We could realize these as two strings, an integer, and a floating-point number.\n",
    "<br><br>\n",
    "Now, to create this class, we write a class definition, including one method declaration, for the method called __init__."
   ]
  },
  {
   "cell_type": "code",
   "execution_count": 20,
   "metadata": {},
   "outputs": [],
   "source": [
    "class Employee:\n",
    "\n",
    "    def __init__(self, name, jname, jrank, salary):\n",
    "\n",
    "        self.name = name\n",
    "\n",
    "        self.jname = jname\n",
    "\n",
    "        self.jrank = jrank\n",
    "\n",
    "        self.salary = salary"
   ]
  },
  {
   "cell_type": "markdown",
   "metadata": {},
   "source": [
    "So far, we’ve used classes as passive data-record types. That functionality is enough to write a rudimentary database for keeping track of employees.\n",
    "<br>\n",
    "This program will look much like the phone book application in Chapter 12. But now, instead of the value in a dictionary being a string containing a phone number, the value will be an object having multiple attributes.\n",
    "<br>\n",
    "Each object will be a complete employee record, including employee name—even though the name is also going to be the key."
   ]
  },
  {
   "cell_type": "code",
   "execution_count": 23,
   "metadata": {},
   "outputs": [],
   "source": [
    "emp1 = Employee('Steve Balmer', 'President', 10, 300888.66)\n",
    "\n",
    "emp2 = Employee('Bill Gates', 'CEO', 12, 1700444.75)\n",
    "\n",
    "emp3 = Employee('Brian O.', 'Prog.', 5, 29000.89)"
   ]
  },
  {
   "cell_type": "markdown",
   "metadata": {},
   "source": [
    "___"
   ]
  },
  {
   "cell_type": "markdown",
   "metadata": {},
   "source": [
    "A class may also support class methods and static methods, which are similar: they are shared by all instances of a class and do not apply to individual instances. The difference is that static methods take no additional argument at all, whereas class methods take an additional argument referring to the class itself.\n",
    "<br><br>\n",
    "Static methods have the following syntax:"
   ]
  },
  {
   "cell_type": "code",
   "execution_count": null,
   "metadata": {},
   "outputs": [],
   "source": [
    "@staticmethod\n",
    "\n",
    "def method_name(args):\n",
    "\n",
    "     statements"
   ]
  },
  {
   "cell_type": "markdown",
   "metadata": {},
   "source": [
    "The syntax for class methods is similar. The difference is that the extra argument (which by convention is **cls**) provides a convenient way to call other methods of the same class, as **cls.**method."
   ]
  },
  {
   "cell_type": "code",
   "execution_count": null,
   "metadata": {},
   "outputs": [],
   "source": [
    "@classmethod\n",
    "\n",
    "def method_name(cls, args):\n",
    "\n",
    "     statements"
   ]
  },
  {
   "cell_type": "markdown",
   "metadata": {},
   "source": [
    "## Instance Variables as “Default” Values\n",
    "\n",
    "Still not convinced that class variables are worth learning? They have still more uses, in addition to the count variable shown in the previous section. These other uses include\n",
    "\n",
    "    Defining constants that are useful to the class generally, such as pi.\n",
    "\n",
    "    Defining default values for instance variables.\n",
    "\n",
    "For example, suppose we have a Circle class, which includes a get_area method for calculating the area of that circle."
   ]
  },
  {
   "cell_type": "code",
   "execution_count": 27,
   "metadata": {},
   "outputs": [],
   "source": [
    "class Circle:\n",
    "\n",
    "    pi = 3.14\n",
    "\n",
    "\n",
    "\n",
    "    def __init__(self, r):\n",
    "\n",
    "        self.r = r\n",
    "\n",
    "\n",
    "\n",
    "    def get_area(self):\n",
    "\n",
    "        return Circle.pi * self.r * self.r"
   ]
  },
  {
   "cell_type": "code",
   "execution_count": 28,
   "metadata": {},
   "outputs": [
    {
     "name": "stdout",
     "output_type": "stream",
     "text": [
      "For circle of radius 2 ...\n",
      "area is 12.56\n"
     ]
    }
   ],
   "source": [
    "r = 2\n",
    "\n",
    "c = Circle(r)\n",
    "\n",
    "print('For circle of radius', r, '...')\n",
    "\n",
    "print('area is', c.get_area())"
   ]
  },
  {
   "cell_type": "markdown",
   "metadata": {},
   "source": [
    "___"
   ]
  },
  {
   "cell_type": "markdown",
   "metadata": {},
   "source": [
    "### Generators\n",
    "\n",
    "Python is based largely on the concept of iterables. You can create your own iterables within Python, which in turn can be used within for loops as well as other contexts.\n",
    "<br><br>\n",
    "To create your own iterable, replace a return statement with the following:\n",
    "\n",
    "``yield value``"
   ]
  },
  {
   "cell_type": "code",
   "execution_count": 29,
   "metadata": {},
   "outputs": [],
   "source": [
    "def print_fibos(n):\n",
    "\n",
    "    a = b = 1\n",
    "\n",
    "    while a <= n:\n",
    "\n",
    "        a, b = a + b, a\n",
    "\n",
    "        print(a)"
   ]
  },
  {
   "cell_type": "markdown",
   "metadata": {},
   "source": [
    "To make this function into a generator—and therefore an iterable—just replace the call to the **print function** with a **yield statement**."
   ]
  },
  {
   "cell_type": "code",
   "execution_count": 30,
   "metadata": {},
   "outputs": [],
   "source": [
    "def gen_fibo(n):\n",
    "\n",
    "    a = b = 1\n",
    "\n",
    "    while a <= n:\n",
    "\n",
    "        a, b = a + b, a\n",
    "\n",
    "        yield a"
   ]
  },
  {
   "cell_type": "markdown",
   "metadata": {},
   "source": [
    "The gen_fibs function stops executing as soon as yield a is reached. At that point, it sends back the value of a, and then it suspends operation until called again. Unlike an ordinary function, this generator saves the value of all local variables.\n",
    "<br><br>\n",
    "All the local variables are saved. Therefore, when the user says, “Give the next number,” the generator yields a larger number in the series."
   ]
  },
  {
   "cell_type": "code",
   "execution_count": 32,
   "metadata": {},
   "outputs": [
    {
     "name": "stdout",
     "output_type": "stream",
     "text": [
      "2\n",
      "3\n",
      "5\n",
      "8\n",
      "13\n",
      "21\n",
      "34\n",
      "55\n",
      "89\n",
      "144\n",
      "233\n",
      "377\n",
      "610\n",
      "987\n",
      "1597\n"
     ]
    }
   ],
   "source": [
    "for num in gen_fibo(1000):\n",
    "\n",
    "     print(num)"
   ]
  },
  {
   "cell_type": "markdown",
   "metadata": {},
   "source": [
    "**What would be the advantage of replacing this approach—using an ordinary function—with the use of a generator?**\n",
    "<br><br>\n",
    "One advantage is that you can represent a “virtual sequence” in a very small space.\n",
    "<br><br>\n",
    "For example, the following generator produces odd numbers. You couldn’t hold the entire sequence of all the odd numbers in memory at the same time; it would be infinite. But you can process any quantity of these numbers as long as you deal with them one at a time."
   ]
  },
  {
   "cell_type": "code",
   "execution_count": 33,
   "metadata": {},
   "outputs": [],
   "source": [
    "def gen_odd_num():\n",
    "\n",
    "    i = 1\n",
    "\n",
    "    while True:\n",
    "\n",
    "        yield i\n",
    "\n",
    "        i += 2"
   ]
  },
  {
   "cell_type": "markdown",
   "metadata": {},
   "source": [
    "### Exploiting the Power of Generators\n",
    "\n",
    "You can use a generator anywhere Python syntax calls for an iterable. This includes for loops. The call to gen_odd_num is an iterable, and here I place it in bold for emphasis.\n"
   ]
  },
  {
   "cell_type": "code",
   "execution_count": 34,
   "metadata": {},
   "outputs": [
    {
     "name": "stdout",
     "output_type": "stream",
     "text": [
      "1\n",
      "3\n",
      "5\n",
      "7\n",
      "9\n",
      "11\n",
      "13\n",
      "15\n",
      "17\n",
      "19\n",
      "21\n",
      "23\n",
      "25\n",
      "27\n",
      "29\n",
      "31\n",
      "33\n",
      "35\n",
      "37\n",
      "39\n",
      "41\n",
      "43\n",
      "45\n",
      "47\n",
      "49\n",
      "51\n",
      "53\n",
      "55\n",
      "57\n",
      "59\n",
      "61\n",
      "63\n",
      "65\n",
      "67\n",
      "69\n",
      "71\n",
      "73\n",
      "75\n",
      "77\n",
      "79\n",
      "81\n",
      "83\n",
      "85\n",
      "87\n",
      "89\n",
      "91\n",
      "93\n",
      "95\n",
      "97\n",
      "99\n",
      "101\n",
      "103\n",
      "105\n",
      "107\n",
      "109\n",
      "111\n",
      "113\n",
      "115\n",
      "117\n",
      "119\n",
      "121\n",
      "123\n",
      "125\n",
      "127\n",
      "129\n",
      "131\n",
      "133\n",
      "135\n",
      "137\n",
      "139\n",
      "141\n",
      "143\n",
      "145\n",
      "147\n",
      "149\n",
      "151\n",
      "153\n",
      "155\n",
      "157\n",
      "159\n",
      "161\n",
      "163\n",
      "165\n",
      "167\n",
      "169\n",
      "171\n",
      "173\n",
      "175\n",
      "177\n",
      "179\n",
      "181\n",
      "183\n",
      "185\n",
      "187\n",
      "189\n",
      "191\n",
      "193\n",
      "195\n",
      "197\n",
      "199\n",
      "201\n",
      "203\n",
      "205\n",
      "207\n",
      "209\n",
      "211\n",
      "213\n",
      "215\n",
      "217\n",
      "219\n",
      "221\n",
      "223\n",
      "225\n",
      "227\n",
      "229\n",
      "231\n",
      "233\n",
      "235\n",
      "237\n",
      "239\n",
      "241\n",
      "243\n",
      "245\n",
      "247\n",
      "249\n",
      "251\n",
      "253\n",
      "255\n",
      "257\n",
      "259\n",
      "261\n",
      "263\n",
      "265\n",
      "267\n",
      "269\n",
      "271\n",
      "273\n",
      "275\n",
      "277\n",
      "279\n",
      "281\n",
      "283\n",
      "285\n",
      "287\n",
      "289\n",
      "291\n",
      "293\n",
      "295\n",
      "297\n",
      "299\n",
      "301\n",
      "303\n",
      "305\n",
      "307\n",
      "309\n",
      "311\n",
      "313\n",
      "315\n",
      "317\n",
      "319\n",
      "321\n",
      "323\n",
      "325\n",
      "327\n",
      "329\n",
      "331\n",
      "333\n",
      "335\n",
      "337\n",
      "339\n",
      "341\n",
      "343\n",
      "345\n",
      "347\n",
      "349\n",
      "351\n",
      "353\n",
      "355\n",
      "357\n",
      "359\n",
      "361\n",
      "363\n",
      "365\n",
      "367\n",
      "369\n",
      "371\n",
      "373\n",
      "375\n",
      "377\n",
      "379\n",
      "381\n",
      "383\n",
      "385\n",
      "387\n",
      "389\n",
      "391\n",
      "393\n",
      "395\n",
      "397\n",
      "399\n",
      "401\n",
      "403\n",
      "405\n",
      "407\n",
      "409\n",
      "411\n",
      "413\n",
      "415\n",
      "417\n",
      "419\n",
      "421\n",
      "423\n",
      "425\n",
      "427\n",
      "429\n",
      "431\n",
      "433\n",
      "435\n",
      "437\n",
      "439\n",
      "441\n",
      "443\n",
      "445\n",
      "447\n",
      "449\n",
      "451\n",
      "453\n",
      "455\n",
      "457\n",
      "459\n",
      "461\n",
      "463\n",
      "465\n",
      "467\n",
      "469\n",
      "471\n",
      "473\n",
      "475\n",
      "477\n",
      "479\n",
      "481\n",
      "483\n",
      "485\n",
      "487\n",
      "489\n",
      "491\n",
      "493\n",
      "495\n",
      "497\n",
      "499\n",
      "501\n",
      "503\n",
      "505\n",
      "507\n",
      "509\n",
      "511\n",
      "513\n",
      "515\n",
      "517\n",
      "519\n",
      "521\n",
      "523\n",
      "525\n",
      "527\n",
      "529\n",
      "531\n",
      "533\n",
      "535\n",
      "537\n",
      "539\n",
      "541\n",
      "543\n",
      "545\n",
      "547\n",
      "549\n",
      "551\n",
      "553\n",
      "555\n",
      "557\n",
      "559\n",
      "561\n",
      "563\n",
      "565\n",
      "567\n",
      "569\n",
      "571\n",
      "573\n",
      "575\n",
      "577\n",
      "579\n",
      "581\n",
      "583\n",
      "585\n",
      "587\n",
      "589\n",
      "591\n",
      "593\n",
      "595\n",
      "597\n",
      "599\n",
      "601\n",
      "603\n",
      "605\n",
      "607\n",
      "609\n",
      "611\n",
      "613\n",
      "615\n",
      "617\n",
      "619\n",
      "621\n",
      "623\n",
      "625\n",
      "627\n",
      "629\n",
      "631\n",
      "633\n",
      "635\n",
      "637\n",
      "639\n",
      "641\n",
      "643\n",
      "645\n",
      "647\n",
      "649\n",
      "651\n",
      "653\n",
      "655\n",
      "657\n",
      "659\n",
      "661\n",
      "663\n",
      "665\n",
      "667\n",
      "669\n",
      "671\n",
      "673\n",
      "675\n",
      "677\n",
      "679\n",
      "681\n",
      "683\n",
      "685\n",
      "687\n",
      "689\n",
      "691\n",
      "693\n",
      "695\n",
      "697\n",
      "699\n",
      "701\n",
      "703\n",
      "705\n",
      "707\n",
      "709\n",
      "711\n",
      "713\n",
      "715\n",
      "717\n",
      "719\n",
      "721\n",
      "723\n",
      "725\n",
      "727\n",
      "729\n",
      "731\n",
      "733\n",
      "735\n",
      "737\n",
      "739\n",
      "741\n",
      "743\n",
      "745\n",
      "747\n",
      "749\n",
      "751\n",
      "753\n",
      "755\n",
      "757\n",
      "759\n",
      "761\n",
      "763\n",
      "765\n",
      "767\n",
      "769\n",
      "771\n",
      "773\n",
      "775\n",
      "777\n",
      "779\n",
      "781\n",
      "783\n",
      "785\n",
      "787\n",
      "789\n",
      "791\n",
      "793\n",
      "795\n",
      "797\n",
      "799\n",
      "801\n",
      "803\n",
      "805\n",
      "807\n",
      "809\n",
      "811\n",
      "813\n",
      "815\n",
      "817\n",
      "819\n",
      "821\n",
      "823\n",
      "825\n",
      "827\n",
      "829\n",
      "831\n",
      "833\n",
      "835\n",
      "837\n",
      "839\n",
      "841\n",
      "843\n",
      "845\n",
      "847\n",
      "849\n",
      "851\n",
      "853\n",
      "855\n",
      "857\n",
      "859\n",
      "861\n",
      "863\n",
      "865\n",
      "867\n",
      "869\n",
      "871\n",
      "873\n",
      "875\n",
      "877\n",
      "879\n",
      "881\n",
      "883\n",
      "885\n",
      "887\n",
      "889\n",
      "891\n",
      "893\n",
      "895\n",
      "897\n",
      "899\n",
      "901\n",
      "903\n",
      "905\n",
      "907\n",
      "909\n",
      "911\n",
      "913\n",
      "915\n",
      "917\n",
      "919\n",
      "921\n",
      "923\n",
      "925\n",
      "927\n",
      "929\n",
      "931\n",
      "933\n",
      "935\n",
      "937\n",
      "939\n",
      "941\n",
      "943\n",
      "945\n",
      "947\n",
      "949\n",
      "951\n",
      "953\n",
      "955\n",
      "957\n",
      "959\n",
      "961\n",
      "963\n",
      "965\n",
      "967\n",
      "969\n",
      "971\n",
      "973\n",
      "975\n",
      "977\n",
      "979\n",
      "981\n",
      "983\n",
      "985\n",
      "987\n",
      "989\n",
      "991\n",
      "993\n",
      "995\n",
      "997\n",
      "999\n",
      "1001\n"
     ]
    }
   ],
   "source": [
    "for i in gen_odd_num():\n",
    "\n",
    "    print(i)\n",
    "\n",
    "    if i > 1000:\n",
    "\n",
    "        break\n"
   ]
  },
  {
   "cell_type": "markdown",
   "metadata": {},
   "source": [
    "You can also combine a generator with the **in** and **not in** operators. Assuming that gen_fibo is defined as in the previous section, what do you think the following does?\n"
   ]
  },
  {
   "cell_type": "code",
   "execution_count": 36,
   "metadata": {},
   "outputs": [
    {
     "data": {
      "text/plain": [
       "True"
      ]
     },
     "execution_count": 36,
     "metadata": {},
     "output_type": "execute_result"
    }
   ],
   "source": [
    " 55 in gen_fibo(55)"
   ]
  },
  {
   "cell_type": "code",
   "execution_count": 37,
   "metadata": {},
   "outputs": [
    {
     "data": {
      "text/plain": [
       "False"
      ]
     },
     "execution_count": 37,
     "metadata": {},
     "output_type": "execute_result"
    }
   ],
   "source": [
    "56 in gen_fibo(55)"
   ]
  },
  {
   "cell_type": "markdown",
   "metadata": {},
   "source": [
    "You can think of an iterable as something you can get the “next” of. In fact, next is a built-in function that can be applied to any iterable.\n",
    "``next(iterable)``"
   ]
  },
  {
   "cell_type": "code",
   "execution_count": 38,
   "metadata": {},
   "outputs": [],
   "source": [
    "my_gen = gen_fibo(100)"
   ]
  },
  {
   "cell_type": "code",
   "execution_count": 39,
   "metadata": {},
   "outputs": [
    {
     "data": {
      "text/plain": [
       "2"
      ]
     },
     "execution_count": 39,
     "metadata": {},
     "output_type": "execute_result"
    }
   ],
   "source": [
    "next(my_gen)"
   ]
  },
  {
   "cell_type": "code",
   "execution_count": 40,
   "metadata": {},
   "outputs": [
    {
     "data": {
      "text/plain": [
       "3"
      ]
     },
     "execution_count": 40,
     "metadata": {},
     "output_type": "execute_result"
    }
   ],
   "source": [
    "next(my_gen)"
   ]
  },
  {
   "cell_type": "code",
   "execution_count": 41,
   "metadata": {},
   "outputs": [
    {
     "data": {
      "text/plain": [
       "5"
      ]
     },
     "execution_count": 41,
     "metadata": {},
     "output_type": "execute_result"
    }
   ],
   "source": [
    "next(my_gen)"
   ]
  },
  {
   "cell_type": "markdown",
   "metadata": {},
   "source": [
    "___"
   ]
  }
 ],
 "metadata": {
  "kernelspec": {
   "display_name": "Python 3",
   "language": "python",
   "name": "python3"
  },
  "language_info": {
   "codemirror_mode": {
    "name": "ipython",
    "version": 3
   },
   "file_extension": ".py",
   "mimetype": "text/x-python",
   "name": "python",
   "nbconvert_exporter": "python",
   "pygments_lexer": "ipython3",
   "version": "3.6.5"
  }
 },
 "nbformat": 4,
 "nbformat_minor": 2
}
