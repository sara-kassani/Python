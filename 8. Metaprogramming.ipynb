{
 "cells": [
  {
   "cell_type": "markdown",
   "metadata": {},
   "source": [
    "# Metaprogramming"
   ]
  },
  {
   "cell_type": "markdown",
   "metadata": {},
   "source": [
    "One of the key mantras in programming is to not repeat yourself. Whenever you do\n",
    "the same task more than once, you should take a look at it to see if there is any way to\n",
    "automate it. This is the primary reason for writing programs. But this applies equally to\n",
    "the task of writing the code itself. If you are repeating chunks of code, you should step\n",
    "back to see if there is some better way of achieving the same result.\n",
    "One technique available to deal with this issue is metaprogramming. Essentially,\n",
    "metaprogramming is code that affects other code. The usual way this is done within\n",
    "Python is either with decorators, metaclasses, or descriptors.\n",
    "### 8-1. Using a Function Decorator to Wrap Existing Code\n",
    "\n",
    "You want to alter the behavior of an already existing function by wrapping it with other\n",
    "code. This wrapper code can then be swapped in or out from different modules if they use\n",
    "the same decorator name, allowing you to alter the original function in different ways.\n",
    "<br>\n",
    "A function can be wrapped by adding a decorator to the top of the function definition,\n",
    "using a label that begins with an ampersand.\n",
    "<br>\n",
    "Listing 8-1 shows an example where you use the decorators provided by the\n",
    "line_profile module.\n",
    "\n",
    "#### Listing 8-1.  Using the Profile Decorator"
   ]
  },
  {
   "cell_type": "code",
   "execution_count": null,
   "metadata": {},
   "outputs": [],
   "source": [
    "from line_profile import *\n",
    "@profile\n",
    "def my_adder(x, y):\n",
    "    return x + y"
   ]
  },
  {
   "cell_type": "markdown",
   "metadata": {},
   "source": [
    "This code wraps the function my_adder() with profiling code from the line_profile\n",
    "module. This module is not part of the standard library, so you need to install it onto your\n",
    "system. This is the same as explicitly wrapping one function with another, as in Listing 8-2.\n",
    "### Listing 8-2.  Wrapping a Function"
   ]
  },
  {
   "cell_type": "code",
   "execution_count": null,
   "metadata": {},
   "outputs": [],
   "source": [
    "from line_profiler import *\n",
    "def my_adder(x, y):\n",
    "    return x + y\n",
    "\n",
    "my_adder = profile(my_adder)"
   ]
  },
  {
   "cell_type": "markdown",
   "metadata": {},
   "source": [
    "### 8-2. Writing a Function Decorator to Wrap Existing Code\n",
    "Problem\n",
    "You want to write a wrapper for a function to add extra functionality.\n",
    "<br>\n",
    "Python includes the wraps keyword that defines a function that can wrap another\n",
    "function and be used as a decorator.\n",
    "<br>\n",
    "In order to write a decorator of your own, you need to use the wraps keyword from\n",
    "the functools module. This keyword is used as a decorator to help define your own\n",
    "new decorator. Listing 8-3 shows an example that prints out the function name of the\n",
    "decorated function.\n",
    "### Listing 8-3.  A Decorator to Print Out Function Names"
   ]
  },
  {
   "cell_type": "code",
   "execution_count": null,
   "metadata": {},
   "outputs": [],
   "source": [
    "from functools import wraps\n",
    "def function_name(func):\n",
    "    message = func.__qualname__\n",
    "    @wraps(func)\n",
    "    def wrapper((*args, **kwargs)):\n",
    "        print(message)\n",
    "        return func(*args, **kwargs)\n",
    "    return wrapper"
   ]
  },
  {
   "cell_type": "markdown",
   "metadata": {},
   "source": [
    "You can then use it just like any other decorator, as in Listing 8-4.\n",
    "### Listing 8-4.  Using Your Own Decorator"
   ]
  },
  {
   "cell_type": "code",
   "execution_count": null,
   "metadata": {},
   "outputs": [],
   "source": [
    "@function_name\n",
    "def adder(x,y):\n",
    "    return x+y"
   ]
  },
  {
   "cell_type": "markdown",
   "metadata": {},
   "source": [
    "###  8-3. Unwrapping a Decorated Function\n",
    "\n",
    "You need to get access to the functionality of a function that has been decorated.\n",
    "<br>\n",
    "You can get the original unwrapped function by using the __wrapped__ attribute of the\n",
    "function.\n",
    "<br>\n",
    "Assuming that the decorator was correctly coded using the wraps function from\n",
    "functools, then you can get the original function by using the __wrapped__ attribute, as\n",
    "in Listing 8-5.\n",
    "### Listing 8-5.  Getting the Unwrapped Function"
   ]
  },
  {
   "cell_type": "code",
   "execution_count": null,
   "metadata": {},
   "outputs": [],
   "source": [
    "adder(2,3)\n",
    "adder.__wrapper__(2,3)"
   ]
  },
  {
   "cell_type": "markdown",
   "metadata": {},
   "source": [
    "###  8-4. Using a Metaclass to Change the Construction of a Class\n",
    "You need to add extra functionality to a class, similar to a decorator for functions. This\n",
    "can be done by changing what object a class is an instance of by using a metaclass.\n",
    "<br>\n",
    "Metaclasses can be used in a similar fashion to using subclasses.\n",
    "<br>\n",
    "When using a metaclass, you include it in the class definition, as in Listing 8-6.\n",
    "### Listing 8-6.  Using a Metaclass"
   ]
  },
  {
   "cell_type": "code",
   "execution_count": null,
   "metadata": {},
   "outputs": [],
   "source": [
    "class my_counter(metaclass=Singleton):\n",
    "    pass"
   ]
  },
  {
   "cell_type": "markdown",
   "metadata": {},
   "source": [
    "By default, a class is an instance of the type class. The code in Listing 8-6 makes the\n",
    "new class an instance of the Singleton class rather than the type class. You can also set\n",
    "the metaclass within the class definition, as in Listing 8-7.\n",
    "#### Listing 8-7.  Setting the __metaclass__ Attribute"
   ]
  },
  {
   "cell_type": "code",
   "execution_count": null,
   "metadata": {},
   "outputs": [],
   "source": [
    "class my_counter():\n",
    "    __metaclass__ = Singleton\n",
    "    pass"
   ]
  },
  {
   "cell_type": "markdown",
   "metadata": {},
   "source": [
    "In both Listing 8-6 and 8-7, your new class is created as an instance of the Singleton\n",
    "class. This is one method of using the singleton design pattern within Python.\n",
    "###  8-5. Writing a Metaclass\n",
    "\n",
    "You need to change how a class is instantiated by writing your own metaclass.\n",
    "<br>\n",
    "With the use of a metaclass, you can redefine how a class is actually instantiated, allowing\n",
    "you to create classes that can only be instantiated once (the singleton design pattern), or are\n",
    "cached, for example. These examples are used for logging classes or streaming data parsers.\n",
    "<br>\n",
    "You create a metaclass by building a class that overwrites one or more of the functions\n",
    "used during instantiation. For example, you could override the __call__ function to\n",
    "create a class that cannot be instantiated, as in Listing 8-8.\n",
    "### Listing 8-8.  A Metaclass That Stops Instantiation"
   ]
  },
  {
   "cell_type": "code",
   "execution_count": null,
   "metadata": {},
   "outputs": [],
   "source": [
    "class CannotInit(type):\n",
    "    def __call__(self, *args, **kwargs):\n",
    "        raise TypeError(\"Cannot instantiate\")"
   ]
  },
  {
   "cell_type": "markdown",
   "metadata": {},
   "source": [
    "Now, when you try to use it as a metaclass and directly instantiate the new class, you\n",
    "will get an exception raised.\n",
    "If you need more complicated behavior, as in a singleton, for example, you can\n",
    "override multiple functions, as in Listing 8-9.\n",
    "### Listing 8-9.  Creating a Singleton Metaclass"
   ]
  },
  {
   "cell_type": "code",
   "execution_count": null,
   "metadata": {},
   "outputs": [],
   "source": [
    "class MySingleton(type):\n",
    "    def __init__(self, *args, **kwargs):\n",
    "        self.__instance = None\n",
    "        super().__init__(*args, **kwargs)\n",
    "def __call__(self, *args, **kwargs):\n",
    "    if self.__instance is None:\n",
    "        self.__instance = super().__call__(*args, **kwargs)\n",
    "        return self.__instance\n",
    "    else:\n",
    "        return self.__instance"
   ]
  },
  {
   "cell_type": "markdown",
   "metadata": {},
   "source": [
    "This code traps the both the instantiation and the calling of any class that uses this\n",
    "metaclass so that only one instance can exist at a single time.\n",
    "###  8-6. Using Signatures to Change the Parameters a Function Accepts\n",
    "You want to be able to control the signature for a function at runtime. This allows you to\n",
    "dynamically change what parameters a function accepts. For example, you can force your\n",
    "function to only use keyword parameters in one case, and then allow for positional or\n",
    "keyword parameters in another case.\n",
    "<br>\n",
    "The inspect module includes the tools needed to create and use signatures for functions.\n",
    "\n",
    "\n",
    "The example in Listing 8-10 shows how to create a new signature.\n",
    "### Listing 8-10.  Creating a Signature"
   ]
  },
  {
   "cell_type": "code",
   "execution_count": null,
   "metadata": {},
   "outputs": [],
   "source": [
    "from inspect import Signature, Parameter\n",
    "params = [Parameter('x', Parameter.POSITIONAL_OR_KEYWORD),Parameter('y', Parameter.POSITIONAL_OR_KEYWORD, default=42),Parameter('z', Parameter.KEYWORD_ONLY, default=None)]\n",
    "my_sig = Signature(params)\n",
    "print(my_sig)\n",
    "(x, y=42, *, z=None)"
   ]
  },
  {
   "cell_type": "markdown",
   "metadata": {},
   "source": [
    "In this code, you use the Parameter class to create a list of function parameters. There\n",
    "are keywords for each type of parameter. One thing to note is that if you have a list of\n",
    "keyword-only parameters in a normal function definition, you use an asterisk to mark which\n",
    "parameters are keyword only. This shows up when you print out the newly created signature.\n",
    "To use this signature, you can use the bind method to take the generic lists of\n",
    "positional and keyword parameters and bind them to the parameters within the signature\n",
    "you created. An example is given in Listing 8-11.\n",
    "### Listing 8-11.  Using a Signature"
   ]
  },
  {
   "cell_type": "code",
   "execution_count": null,
   "metadata": {},
   "outputs": [],
   "source": [
    "def my_func(*args, **kwargs):\n",
    "    bound_values = my_sig.bind(*args, **kwargs)\n",
    "    for name, value in bound_values.arguments.items():\n",
    "        print(name, value)"
   ]
  },
  {
   "cell_type": "markdown",
   "metadata": {},
   "source": [
    "This way, you can have the same function bind the parameters using different\n",
    "signatures, based on how you need to process them."
   ]
  }
 ],
 "metadata": {
  "kernelspec": {
   "display_name": "Python 3",
   "language": "python",
   "name": "python3"
  },
  "language_info": {
   "codemirror_mode": {
    "name": "ipython",
    "version": 3
   },
   "file_extension": ".py",
   "mimetype": "text/x-python",
   "name": "python",
   "nbconvert_exporter": "python",
   "pygments_lexer": "ipython3",
   "version": "3.6.4"
  }
 },
 "nbformat": 4,
 "nbformat_minor": 2
}
